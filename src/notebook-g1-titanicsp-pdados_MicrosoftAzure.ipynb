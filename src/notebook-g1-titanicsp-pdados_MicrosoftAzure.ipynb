{
  "cells": [
    {
      "cell_type": "markdown",
      "source": [
        "### 3ª parte, Preparação dos dados, construção e avaliação dos modelos propostos - Azure ML"
      ],
      "metadata": {}
    },
    {
      "cell_type": "code",
      "source": [
        "pip install mlflow azureml-mlflow"
      ],
      "outputs": [
        {
          "output_type": "stream",
          "name": "stdout",
          "text": "Requirement already satisfied: mlflow in /anaconda/envs/azureml_py310_sdkv2/lib/python3.10/site-packages (2.4.1)\nRequirement already satisfied: azureml-mlflow in /anaconda/envs/azureml_py310_sdkv2/lib/python3.10/site-packages (1.51.0)\nRequirement already satisfied: click<9,>=7.0 in /anaconda/envs/azureml_py310_sdkv2/lib/python3.10/site-packages (from mlflow) (8.1.7)\nRequirement already satisfied: cloudpickle<3 in /anaconda/envs/azureml_py310_sdkv2/lib/python3.10/site-packages (from mlflow) (2.2.1)\nRequirement already satisfied: databricks-cli<1,>=0.8.7 in /anaconda/envs/azureml_py310_sdkv2/lib/python3.10/site-packages (from mlflow) (0.17.7)\nRequirement already satisfied: entrypoints<1 in /anaconda/envs/azureml_py310_sdkv2/lib/python3.10/site-packages (from mlflow) (0.4)\nRequirement already satisfied: gitpython<4,>=2.1.0 in /anaconda/envs/azureml_py310_sdkv2/lib/python3.10/site-packages (from mlflow) (3.1.31)\nRequirement already satisfied: pyyaml<7,>=5.1 in /anaconda/envs/azureml_py310_sdkv2/lib/python3.10/site-packages (from mlflow) (6.0)\nRequirement already satisfied: protobuf<5,>=3.12.0 in /anaconda/envs/azureml_py310_sdkv2/lib/python3.10/site-packages (from mlflow) (3.20.3)\nRequirement already satisfied: pytz<2024 in /anaconda/envs/azureml_py310_sdkv2/lib/python3.10/site-packages (from mlflow) (2023.3)\nRequirement already satisfied: requests<3,>=2.17.3 in /anaconda/envs/azureml_py310_sdkv2/lib/python3.10/site-packages (from mlflow) (2.31.0)\nRequirement already satisfied: packaging<24 in /anaconda/envs/azureml_py310_sdkv2/lib/python3.10/site-packages (from mlflow) (23.0)\nRequirement already satisfied: importlib-metadata!=4.7.0,<7,>=3.7.0 in /anaconda/envs/azureml_py310_sdkv2/lib/python3.10/site-packages (from mlflow) (6.7.0)\nRequirement already satisfied: sqlparse<1,>=0.4.0 in /anaconda/envs/azureml_py310_sdkv2/lib/python3.10/site-packages (from mlflow) (0.4.4)\nRequirement already satisfied: alembic!=1.10.0,<2 in /anaconda/envs/azureml_py310_sdkv2/lib/python3.10/site-packages (from mlflow) (1.11.1)\nRequirement already satisfied: docker<7,>=4.0.0 in /anaconda/envs/azureml_py310_sdkv2/lib/python3.10/site-packages (from mlflow) (6.1.3)\nRequirement already satisfied: Flask<3 in /anaconda/envs/azureml_py310_sdkv2/lib/python3.10/site-packages (from mlflow) (2.3.2)\nRequirement already satisfied: numpy<2 in /anaconda/envs/azureml_py310_sdkv2/lib/python3.10/site-packages (from mlflow) (1.25.0)\nRequirement already satisfied: scipy<2 in /anaconda/envs/azureml_py310_sdkv2/lib/python3.10/site-packages (from mlflow) (1.10.1)\nRequirement already satisfied: pandas<3 in /anaconda/envs/azureml_py310_sdkv2/lib/python3.10/site-packages (from mlflow) (2.0.2)\nRequirement already satisfied: querystring-parser<2 in /anaconda/envs/azureml_py310_sdkv2/lib/python3.10/site-packages (from mlflow) (1.2.4)\nRequirement already satisfied: sqlalchemy<3,>=1.4.0 in /anaconda/envs/azureml_py310_sdkv2/lib/python3.10/site-packages (from mlflow) (2.0.16)\nRequirement already satisfied: scikit-learn<2 in /anaconda/envs/azureml_py310_sdkv2/lib/python3.10/site-packages (from mlflow) (1.2.2)\nRequirement already satisfied: pyarrow<13,>=4.0.0 in /anaconda/envs/azureml_py310_sdkv2/lib/python3.10/site-packages (from mlflow) (12.0.1)\nRequirement already satisfied: markdown<4,>=3.3 in /anaconda/envs/azureml_py310_sdkv2/lib/python3.10/site-packages (from mlflow) (3.4.3)\nRequirement already satisfied: matplotlib<4 in /anaconda/envs/azureml_py310_sdkv2/lib/python3.10/site-packages (from mlflow) (3.7.1)\nRequirement already satisfied: gunicorn<21 in /anaconda/envs/azureml_py310_sdkv2/lib/python3.10/site-packages (from mlflow) (20.1.0)\nRequirement already satisfied: Jinja2<4,>=2.11 in /anaconda/envs/azureml_py310_sdkv2/lib/python3.10/site-packages (from mlflow) (3.1.2)\nRequirement already satisfied: jsonpickle in /anaconda/envs/azureml_py310_sdkv2/lib/python3.10/site-packages (from azureml-mlflow) (3.0.1)\nRequirement already satisfied: mlflow-skinny in /anaconda/envs/azureml_py310_sdkv2/lib/python3.10/site-packages (from azureml-mlflow) (2.4.1)\nRequirement already satisfied: azure-identity in /anaconda/envs/azureml_py310_sdkv2/lib/python3.10/site-packages (from azureml-mlflow) (1.13.0)\nRequirement already satisfied: msrest>=0.6.18 in /anaconda/envs/azureml_py310_sdkv2/lib/python3.10/site-packages (from azureml-mlflow) (0.7.1)\nRequirement already satisfied: azure-core!=1.22.0,<2.0.0,>=1.8.0 in /anaconda/envs/azureml_py310_sdkv2/lib/python3.10/site-packages (from azureml-mlflow) (1.27.1)\nRequirement already satisfied: azure-mgmt-core<2.0.0,>=1.2.0 in /anaconda/envs/azureml_py310_sdkv2/lib/python3.10/site-packages (from azureml-mlflow) (1.4.0)\nRequirement already satisfied: azure-storage-blob<=12.13.0,>=12.5.0 in /anaconda/envs/azureml_py310_sdkv2/lib/python3.10/site-packages (from azureml-mlflow) (12.13.0)\nRequirement already satisfied: azure-common<2.0.0,>=1.1 in /anaconda/envs/azureml_py310_sdkv2/lib/python3.10/site-packages (from azureml-mlflow) (1.1.28)\nRequirement already satisfied: cryptography in /anaconda/envs/azureml_py310_sdkv2/lib/python3.10/site-packages (from azureml-mlflow) (41.0.1)\nRequirement already satisfied: python-dateutil<3.0.0,>=2.7.3 in /anaconda/envs/azureml_py310_sdkv2/lib/python3.10/site-packages (from azureml-mlflow) (2.8.2)\nRequirement already satisfied: Mako in /anaconda/envs/azureml_py310_sdkv2/lib/python3.10/site-packages (from alembic!=1.10.0,<2->mlflow) (1.2.4)\nRequirement already satisfied: typing-extensions>=4 in /anaconda/envs/azureml_py310_sdkv2/lib/python3.10/site-packages (from alembic!=1.10.0,<2->mlflow) (4.6.3)\nRequirement already satisfied: six>=1.11.0 in /anaconda/envs/azureml_py310_sdkv2/lib/python3.10/site-packages (from azure-core!=1.22.0,<2.0.0,>=1.8.0->azureml-mlflow) (1.16.0)\nRequirement already satisfied: cffi>=1.12 in /anaconda/envs/azureml_py310_sdkv2/lib/python3.10/site-packages (from cryptography->azureml-mlflow) (1.15.1)\nRequirement already satisfied: pyjwt>=1.7.0 in /anaconda/envs/azureml_py310_sdkv2/lib/python3.10/site-packages (from databricks-cli<1,>=0.8.7->mlflow) (2.7.0)\nRequirement already satisfied: oauthlib>=3.1.0 in /anaconda/envs/azureml_py310_sdkv2/lib/python3.10/site-packages (from databricks-cli<1,>=0.8.7->mlflow) (3.2.2)\nRequirement already satisfied: tabulate>=0.7.7 in /anaconda/envs/azureml_py310_sdkv2/lib/python3.10/site-packages (from databricks-cli<1,>=0.8.7->mlflow) (0.9.0)\nRequirement already satisfied: urllib3<2.0.0,>=1.26.7 in /anaconda/envs/azureml_py310_sdkv2/lib/python3.10/site-packages (from databricks-cli<1,>=0.8.7->mlflow) (1.26.16)\nRequirement already satisfied: websocket-client>=0.32.0 in /anaconda/envs/azureml_py310_sdkv2/lib/python3.10/site-packages (from docker<7,>=4.0.0->mlflow) (1.6.0)\nRequirement already satisfied: Werkzeug>=2.3.3 in /anaconda/envs/azureml_py310_sdkv2/lib/python3.10/site-packages (from Flask<3->mlflow) (2.3.6)\nRequirement already satisfied: itsdangerous>=2.1.2 in /anaconda/envs/azureml_py310_sdkv2/lib/python3.10/site-packages (from Flask<3->mlflow) (2.1.2)\nRequirement already satisfied: blinker>=1.6.2 in /anaconda/envs/azureml_py310_sdkv2/lib/python3.10/site-packages (from Flask<3->mlflow) (1.6.2)\nRequirement already satisfied: gitdb<5,>=4.0.1 in /anaconda/envs/azureml_py310_sdkv2/lib/python3.10/site-packages (from gitpython<4,>=2.1.0->mlflow) (4.0.10)\nRequirement already satisfied: setuptools>=3.0 in /anaconda/envs/azureml_py310_sdkv2/lib/python3.10/site-packages (from gunicorn<21->mlflow) (67.8.0)\nRequirement already satisfied: zipp>=0.5 in /anaconda/envs/azureml_py310_sdkv2/lib/python3.10/site-packages (from importlib-metadata!=4.7.0,<7,>=3.7.0->mlflow) (3.15.0)\nRequirement already satisfied: MarkupSafe>=2.0 in /anaconda/envs/azureml_py310_sdkv2/lib/python3.10/site-packages (from Jinja2<4,>=2.11->mlflow) (2.1.3)\nRequirement already satisfied: contourpy>=1.0.1 in /anaconda/envs/azureml_py310_sdkv2/lib/python3.10/site-packages (from matplotlib<4->mlflow) (1.1.0)\nRequirement already satisfied: cycler>=0.10 in /anaconda/envs/azureml_py310_sdkv2/lib/python3.10/site-packages (from matplotlib<4->mlflow) (0.11.0)\nRequirement already satisfied: fonttools>=4.22.0 in /anaconda/envs/azureml_py310_sdkv2/lib/python3.10/site-packages (from matplotlib<4->mlflow) (4.40.0)\nRequirement already satisfied: kiwisolver>=1.0.1 in /anaconda/envs/azureml_py310_sdkv2/lib/python3.10/site-packages (from matplotlib<4->mlflow) (1.4.4)\nRequirement already satisfied: pillow>=6.2.0 in /anaconda/envs/azureml_py310_sdkv2/lib/python3.10/site-packages (from matplotlib<4->mlflow) (9.5.0)\nRequirement already satisfied: pyparsing>=2.3.1 in /anaconda/envs/azureml_py310_sdkv2/lib/python3.10/site-packages (from matplotlib<4->mlflow) (3.1.0)\nRequirement already satisfied: certifi>=2017.4.17 in /anaconda/envs/azureml_py310_sdkv2/lib/python3.10/site-packages (from msrest>=0.6.18->azureml-mlflow) (2023.5.7)\nRequirement already satisfied: isodate>=0.6.0 in /anaconda/envs/azureml_py310_sdkv2/lib/python3.10/site-packages (from msrest>=0.6.18->azureml-mlflow) (0.6.1)\nRequirement already satisfied: requests-oauthlib>=0.5.0 in /anaconda/envs/azureml_py310_sdkv2/lib/python3.10/site-packages (from msrest>=0.6.18->azureml-mlflow) (1.3.1)\nRequirement already satisfied: tzdata>=2022.1 in /anaconda/envs/azureml_py310_sdkv2/lib/python3.10/site-packages (from pandas<3->mlflow) (2023.3)\nRequirement already satisfied: charset-normalizer<4,>=2 in /anaconda/envs/azureml_py310_sdkv2/lib/python3.10/site-packages (from requests<3,>=2.17.3->mlflow) (3.1.0)\nRequirement already satisfied: idna<4,>=2.5 in /anaconda/envs/azureml_py310_sdkv2/lib/python3.10/site-packages (from requests<3,>=2.17.3->mlflow) (3.4)\nRequirement already satisfied: joblib>=1.1.1 in /anaconda/envs/azureml_py310_sdkv2/lib/python3.10/site-packages (from scikit-learn<2->mlflow) (1.2.0)\nRequirement already satisfied: threadpoolctl>=2.0.0 in /anaconda/envs/azureml_py310_sdkv2/lib/python3.10/site-packages (from scikit-learn<2->mlflow) (3.1.0)\nRequirement already satisfied: greenlet!=0.4.17 in /anaconda/envs/azureml_py310_sdkv2/lib/python3.10/site-packages (from sqlalchemy<3,>=1.4.0->mlflow) (2.0.2)\nRequirement already satisfied: msal<2.0.0,>=1.20.0 in /anaconda/envs/azureml_py310_sdkv2/lib/python3.10/site-packages (from azure-identity->azureml-mlflow) (1.22.0)\nRequirement already satisfied: msal-extensions<2.0.0,>=0.3.0 in /anaconda/envs/azureml_py310_sdkv2/lib/python3.10/site-packages (from azure-identity->azureml-mlflow) (1.0.0)\nRequirement already satisfied: pycparser in /anaconda/envs/azureml_py310_sdkv2/lib/python3.10/site-packages (from cffi>=1.12->cryptography->azureml-mlflow) (2.21)\nRequirement already satisfied: smmap<6,>=3.0.1 in /anaconda/envs/azureml_py310_sdkv2/lib/python3.10/site-packages (from gitdb<5,>=4.0.1->gitpython<4,>=2.1.0->mlflow) (5.0.0)\nRequirement already satisfied: portalocker<3,>=1.0 in /anaconda/envs/azureml_py310_sdkv2/lib/python3.10/site-packages (from msal-extensions<2.0.0,>=0.3.0->azure-identity->azureml-mlflow) (2.7.0)\nNote: you may need to restart the kernel to use updated packages.\n"
        }
      ],
      "execution_count": 1,
      "metadata": {
        "jupyter": {
          "source_hidden": false,
          "outputs_hidden": false
        },
        "nteract": {
          "transient": {
            "deleting": false
          }
        },
        "gather": {
          "logged": 1718633499446
        }
      }
    },
    {
      "cell_type": "code",
      "source": [
        "# Projeto: Pesquisa e Experimentação em Sistemas de Informação-Grupo 1 - Azure ML\n",
        "\n",
        "# Instalar a biblioteca seaborn se ainda não estiver instalada\n",
        "%pip install seaborn\n",
        "from azureml.core import Workspace, Dataset\n",
        "import numpy as np # Manipulação de matrizes\n",
        "import pandas as pd # Criação e manipulação de dataset\n",
        "from pandas import *\n",
        "from IPython.display import display\n",
        "import matplotlib.pyplot as plt # Plotagem de dados\n",
        "import matplotlib.font_manager\n",
        "%matplotlib inline\n",
        "import seaborn as sns # Plotagem e visualização dos dados\n",
        "from tabulate import tabulate\n",
        "from scipy.stats import chi2_contingency\n",
        "import warnings\n",
        "from sklearn.impute import SimpleImputer\n",
        "from sklearn.preprocessing import StandardScaler, MinMaxScaler, OneHotEncoder\n",
        "from sklearn.compose import ColumnTransformer\n",
        "from sklearn.pipeline import Pipeline\n",
        "from sklearn.ensemble import RandomForestClassifier\n",
        "from sklearn.linear_model import LogisticRegression\n",
        "from sklearn.model_selection import train_test_split\n",
        "from sklearn.datasets import load_iris\n",
        "from sklearn.decomposition import PCA\n",
        "from sklearn.model_selection import cross_val_score\n",
        "from sklearn.model_selection import KFold\n",
        "from sklearn.model_selection import train_test_split, cross_val_score, KFold, RepeatedKFold\n",
        "from sklearn.metrics import accuracy_score, precision_score, recall_score, f1_score, roc_auc_score, confusion_matrix, classification_report\n"
      ],
      "outputs": [
        {
          "output_type": "stream",
          "name": "stdout",
          "text": "Requirement already satisfied: seaborn in /anaconda/envs/azureml_py310_sdkv2/lib/python3.10/site-packages (0.13.2)\nRequirement already satisfied: numpy!=1.24.0,>=1.20 in /anaconda/envs/azureml_py310_sdkv2/lib/python3.10/site-packages (from seaborn) (1.25.0)\nRequirement already satisfied: pandas>=1.2 in /anaconda/envs/azureml_py310_sdkv2/lib/python3.10/site-packages (from seaborn) (2.0.2)\nRequirement already satisfied: matplotlib!=3.6.1,>=3.4 in /anaconda/envs/azureml_py310_sdkv2/lib/python3.10/site-packages (from seaborn) (3.7.1)\nRequirement already satisfied: contourpy>=1.0.1 in /anaconda/envs/azureml_py310_sdkv2/lib/python3.10/site-packages (from matplotlib!=3.6.1,>=3.4->seaborn) (1.1.0)\nRequirement already satisfied: cycler>=0.10 in /anaconda/envs/azureml_py310_sdkv2/lib/python3.10/site-packages (from matplotlib!=3.6.1,>=3.4->seaborn) (0.11.0)\nRequirement already satisfied: fonttools>=4.22.0 in /anaconda/envs/azureml_py310_sdkv2/lib/python3.10/site-packages (from matplotlib!=3.6.1,>=3.4->seaborn) (4.40.0)\nRequirement already satisfied: kiwisolver>=1.0.1 in /anaconda/envs/azureml_py310_sdkv2/lib/python3.10/site-packages (from matplotlib!=3.6.1,>=3.4->seaborn) (1.4.4)\nRequirement already satisfied: packaging>=20.0 in /anaconda/envs/azureml_py310_sdkv2/lib/python3.10/site-packages (from matplotlib!=3.6.1,>=3.4->seaborn) (23.0)\nRequirement already satisfied: pillow>=6.2.0 in /anaconda/envs/azureml_py310_sdkv2/lib/python3.10/site-packages (from matplotlib!=3.6.1,>=3.4->seaborn) (9.5.0)\nRequirement already satisfied: pyparsing>=2.3.1 in /anaconda/envs/azureml_py310_sdkv2/lib/python3.10/site-packages (from matplotlib!=3.6.1,>=3.4->seaborn) (3.1.0)\nRequirement already satisfied: python-dateutil>=2.7 in /anaconda/envs/azureml_py310_sdkv2/lib/python3.10/site-packages (from matplotlib!=3.6.1,>=3.4->seaborn) (2.8.2)\nRequirement already satisfied: pytz>=2020.1 in /anaconda/envs/azureml_py310_sdkv2/lib/python3.10/site-packages (from pandas>=1.2->seaborn) (2023.3)\nRequirement already satisfied: tzdata>=2022.1 in /anaconda/envs/azureml_py310_sdkv2/lib/python3.10/site-packages (from pandas>=1.2->seaborn) (2023.3)\nRequirement already satisfied: six>=1.5 in /anaconda/envs/azureml_py310_sdkv2/lib/python3.10/site-packages (from python-dateutil>=2.7->matplotlib!=3.6.1,>=3.4->seaborn) (1.16.0)\nNote: you may need to restart the kernel to use updated packages.\n"
        }
      ],
      "execution_count": 2,
      "metadata": {
        "jupyter": {
          "source_hidden": false,
          "outputs_hidden": false
        },
        "nteract": {
          "transient": {
            "deleting": false
          }
        },
        "gather": {
          "logged": 1718633511978
        }
      }
    },
    {
      "cell_type": "markdown",
      "source": [
        "# Preparação dos dados\n",
        "\n",
        "Nesta etapa, deverão ser descritas todas as técnicas utilizadas para pré-processamento/tratamento dos dados.\n",
        "\n",
        "Algumas das etapas podem estar relacionadas à:"
      ],
      "metadata": {}
    },
    {
      "cell_type": "markdown",
      "source": [
        "# Limpeza de Dados\n",
        "Neste projeto, a limpeza de dados incluiu as seguintes etapas:"
      ],
      "metadata": {}
    },
    {
      "cell_type": "code",
      "source": [
        "# Carregar o dataset\n",
        "\n",
        "data = pd.read_csv(\"/home/azureuser/cloudfiles/code/Users/573109/Titanic-Dataset.csv\", delimiter=';')"
      ],
      "outputs": [],
      "execution_count": 3,
      "metadata": {
        "execution": {
          "iopub.status.busy": "2024-06-02T23:01:36.647586Z",
          "iopub.execute_input": "2024-06-02T23:01:36.648312Z",
          "iopub.status.idle": "2024-06-02T23:01:36.676862Z",
          "shell.execute_reply.started": "2024-06-02T23:01:36.648274Z",
          "shell.execute_reply": "2024-06-02T23:01:36.675723Z"
        },
        "trusted": true,
        "gather": {
          "logged": 1718633512383
        }
      }
    },
    {
      "cell_type": "code",
      "source": [
        "# Visualizar as primeiras linhas do dataset\n",
        "\n",
        "display(data.head())"
      ],
      "outputs": [
        {
          "output_type": "display_data",
          "data": {
            "text/plain": "   PassengerId  Survived  Pclass  \\\n0            1         0       3   \n1            2         1       1   \n2            3         1       3   \n3            4         1       1   \n4            5         0       3   \n\n                                                Name     Sex   Age  SibSp  \\\n0                            Braund, Mr. Owen Harris    male  22.0      1   \n1  Cumings, Mrs. John Bradley (Florence Briggs Th...  female  38.0      1   \n2                             Heikkinen, Miss. Laina  female  26.0      0   \n3       Futrelle, Mrs. Jacques Heath (Lily May Peel)  female  35.0      1   \n4                           Allen, Mr. William Henry    male  35.0      0   \n\n   Parch            Ticket     Fare Cabin Embarked  \n0      0         A/5 21171     7.25   NaN        S  \n1      0          PC 17599  712.833   C85        C  \n2      0  STON/O2. 3101282    7.925   NaN        S  \n3      0            113803     53.1  C123        S  \n4      0            373450     8.05   NaN        S  ",
            "text/html": "<div>\n<style scoped>\n    .dataframe tbody tr th:only-of-type {\n        vertical-align: middle;\n    }\n\n    .dataframe tbody tr th {\n        vertical-align: top;\n    }\n\n    .dataframe thead th {\n        text-align: right;\n    }\n</style>\n<table border=\"1\" class=\"dataframe\">\n  <thead>\n    <tr style=\"text-align: right;\">\n      <th></th>\n      <th>PassengerId</th>\n      <th>Survived</th>\n      <th>Pclass</th>\n      <th>Name</th>\n      <th>Sex</th>\n      <th>Age</th>\n      <th>SibSp</th>\n      <th>Parch</th>\n      <th>Ticket</th>\n      <th>Fare</th>\n      <th>Cabin</th>\n      <th>Embarked</th>\n    </tr>\n  </thead>\n  <tbody>\n    <tr>\n      <th>0</th>\n      <td>1</td>\n      <td>0</td>\n      <td>3</td>\n      <td>Braund, Mr. Owen Harris</td>\n      <td>male</td>\n      <td>22.0</td>\n      <td>1</td>\n      <td>0</td>\n      <td>A/5 21171</td>\n      <td>7.25</td>\n      <td>NaN</td>\n      <td>S</td>\n    </tr>\n    <tr>\n      <th>1</th>\n      <td>2</td>\n      <td>1</td>\n      <td>1</td>\n      <td>Cumings, Mrs. John Bradley (Florence Briggs Th...</td>\n      <td>female</td>\n      <td>38.0</td>\n      <td>1</td>\n      <td>0</td>\n      <td>PC 17599</td>\n      <td>712.833</td>\n      <td>C85</td>\n      <td>C</td>\n    </tr>\n    <tr>\n      <th>2</th>\n      <td>3</td>\n      <td>1</td>\n      <td>3</td>\n      <td>Heikkinen, Miss. Laina</td>\n      <td>female</td>\n      <td>26.0</td>\n      <td>0</td>\n      <td>0</td>\n      <td>STON/O2. 3101282</td>\n      <td>7.925</td>\n      <td>NaN</td>\n      <td>S</td>\n    </tr>\n    <tr>\n      <th>3</th>\n      <td>4</td>\n      <td>1</td>\n      <td>1</td>\n      <td>Futrelle, Mrs. Jacques Heath (Lily May Peel)</td>\n      <td>female</td>\n      <td>35.0</td>\n      <td>1</td>\n      <td>0</td>\n      <td>113803</td>\n      <td>53.1</td>\n      <td>C123</td>\n      <td>S</td>\n    </tr>\n    <tr>\n      <th>4</th>\n      <td>5</td>\n      <td>0</td>\n      <td>3</td>\n      <td>Allen, Mr. William Henry</td>\n      <td>male</td>\n      <td>35.0</td>\n      <td>0</td>\n      <td>0</td>\n      <td>373450</td>\n      <td>8.05</td>\n      <td>NaN</td>\n      <td>S</td>\n    </tr>\n  </tbody>\n</table>\n</div>"
          },
          "metadata": {}
        }
      ],
      "execution_count": 4,
      "metadata": {
        "execution": {
          "iopub.status.busy": "2024-06-02T23:01:36.678412Z",
          "iopub.execute_input": "2024-06-02T23:01:36.678783Z",
          "iopub.status.idle": "2024-06-02T23:01:36.701730Z",
          "shell.execute_reply.started": "2024-06-02T23:01:36.678754Z",
          "shell.execute_reply": "2024-06-02T23:01:36.700357Z"
        },
        "trusted": true,
        "gather": {
          "logged": 1718633512785
        }
      }
    },
    {
      "cell_type": "code",
      "source": [
        "import pandas as pd\n",
        "from sklearn.impute import SimpleImputer\n",
        "\n",
        "# Carregar o dataset\n",
        "data = pd.read_csv(\"/home/azureuser/cloudfiles/code/Users/573109/Titanic-Dataset.csv\", delimiter=';')\n",
        "\n",
        "# Visualizar as primeiras linhas do dataset\n",
        "display(data.head())\n",
        "\n",
        "# Tratar valores ausentes\n",
        "# Criar um imputer para preencher valores ausentes na coluna 'Age' com a mediana\n",
        "if 'Age' in data.columns:\n",
        "    imputer = SimpleImputer(strategy='median')  # Preencher com a mediana para 'Age'\n",
        "    data['Age'] = imputer.fit_transform(data[['Age']])\n",
        "else:\n",
        "    print(\"A coluna 'Age' não está presente no DataFrame. Apenas para conferir\")\n"
      ],
      "outputs": [
        {
          "output_type": "display_data",
          "data": {
            "text/plain": "   PassengerId  Survived  Pclass  \\\n0            1         0       3   \n1            2         1       1   \n2            3         1       3   \n3            4         1       1   \n4            5         0       3   \n\n                                                Name     Sex   Age  SibSp  \\\n0                            Braund, Mr. Owen Harris    male  22.0      1   \n1  Cumings, Mrs. John Bradley (Florence Briggs Th...  female  38.0      1   \n2                             Heikkinen, Miss. Laina  female  26.0      0   \n3       Futrelle, Mrs. Jacques Heath (Lily May Peel)  female  35.0      1   \n4                           Allen, Mr. William Henry    male  35.0      0   \n\n   Parch            Ticket     Fare Cabin Embarked  \n0      0         A/5 21171     7.25   NaN        S  \n1      0          PC 17599  712.833   C85        C  \n2      0  STON/O2. 3101282    7.925   NaN        S  \n3      0            113803     53.1  C123        S  \n4      0            373450     8.05   NaN        S  ",
            "text/html": "<div>\n<style scoped>\n    .dataframe tbody tr th:only-of-type {\n        vertical-align: middle;\n    }\n\n    .dataframe tbody tr th {\n        vertical-align: top;\n    }\n\n    .dataframe thead th {\n        text-align: right;\n    }\n</style>\n<table border=\"1\" class=\"dataframe\">\n  <thead>\n    <tr style=\"text-align: right;\">\n      <th></th>\n      <th>PassengerId</th>\n      <th>Survived</th>\n      <th>Pclass</th>\n      <th>Name</th>\n      <th>Sex</th>\n      <th>Age</th>\n      <th>SibSp</th>\n      <th>Parch</th>\n      <th>Ticket</th>\n      <th>Fare</th>\n      <th>Cabin</th>\n      <th>Embarked</th>\n    </tr>\n  </thead>\n  <tbody>\n    <tr>\n      <th>0</th>\n      <td>1</td>\n      <td>0</td>\n      <td>3</td>\n      <td>Braund, Mr. Owen Harris</td>\n      <td>male</td>\n      <td>22.0</td>\n      <td>1</td>\n      <td>0</td>\n      <td>A/5 21171</td>\n      <td>7.25</td>\n      <td>NaN</td>\n      <td>S</td>\n    </tr>\n    <tr>\n      <th>1</th>\n      <td>2</td>\n      <td>1</td>\n      <td>1</td>\n      <td>Cumings, Mrs. John Bradley (Florence Briggs Th...</td>\n      <td>female</td>\n      <td>38.0</td>\n      <td>1</td>\n      <td>0</td>\n      <td>PC 17599</td>\n      <td>712.833</td>\n      <td>C85</td>\n      <td>C</td>\n    </tr>\n    <tr>\n      <th>2</th>\n      <td>3</td>\n      <td>1</td>\n      <td>3</td>\n      <td>Heikkinen, Miss. Laina</td>\n      <td>female</td>\n      <td>26.0</td>\n      <td>0</td>\n      <td>0</td>\n      <td>STON/O2. 3101282</td>\n      <td>7.925</td>\n      <td>NaN</td>\n      <td>S</td>\n    </tr>\n    <tr>\n      <th>3</th>\n      <td>4</td>\n      <td>1</td>\n      <td>1</td>\n      <td>Futrelle, Mrs. Jacques Heath (Lily May Peel)</td>\n      <td>female</td>\n      <td>35.0</td>\n      <td>1</td>\n      <td>0</td>\n      <td>113803</td>\n      <td>53.1</td>\n      <td>C123</td>\n      <td>S</td>\n    </tr>\n    <tr>\n      <th>4</th>\n      <td>5</td>\n      <td>0</td>\n      <td>3</td>\n      <td>Allen, Mr. William Henry</td>\n      <td>male</td>\n      <td>35.0</td>\n      <td>0</td>\n      <td>0</td>\n      <td>373450</td>\n      <td>8.05</td>\n      <td>NaN</td>\n      <td>S</td>\n    </tr>\n  </tbody>\n</table>\n</div>"
          },
          "metadata": {}
        }
      ],
      "execution_count": 5,
      "metadata": {
        "jupyter": {
          "source_hidden": false,
          "outputs_hidden": false
        },
        "nteract": {
          "transient": {
            "deleting": false
          }
        },
        "gather": {
          "logged": 1718633513208
        }
      }
    },
    {
      "cell_type": "code",
      "source": [
        "# Tratar valores ausentes na coluna 'Embarked'\n",
        "if 'Embarked' in data.columns:\n",
        "    # Preencher valores ausentes na coluna 'Embarked' com o valor mais frequente (moda)\n",
        "    moda_embarked = data['Embarked'].mode()[0]\n",
        "    data['Embarked'] = data['Embarked'].fillna(moda_embarked)\n",
        "    print(f\"Valores ausentes na coluna 'Embarked' foram preenchidos com: {moda_embarked}\")\n",
        "else:\n",
        "    print(\"A coluna 'Embarked' não está presente no DataFrame.\")"
      ],
      "outputs": [
        {
          "output_type": "stream",
          "name": "stdout",
          "text": "Valores ausentes na coluna 'Embarked' foram preenchidos com: S\n"
        }
      ],
      "execution_count": 6,
      "metadata": {
        "execution": {
          "iopub.status.busy": "2024-06-02T23:01:36.755840Z",
          "iopub.execute_input": "2024-06-02T23:01:36.757014Z",
          "iopub.status.idle": "2024-06-02T23:01:36.767231Z",
          "shell.execute_reply.started": "2024-06-02T23:01:36.756946Z",
          "shell.execute_reply": "2024-06-02T23:01:36.766074Z"
        },
        "trusted": true,
        "gather": {
          "logged": 1718633513596
        }
      }
    },
    {
      "cell_type": "code",
      "source": [
        "# Remover a variável 'Cabin' devido ao alto número de valores ausentes\n",
        "\n",
        "data.drop('Cabin', axis=1, inplace=True)\n",
        "display(data.head())"
      ],
      "outputs": [
        {
          "output_type": "display_data",
          "data": {
            "text/plain": "   PassengerId  Survived  Pclass  \\\n0            1         0       3   \n1            2         1       1   \n2            3         1       3   \n3            4         1       1   \n4            5         0       3   \n\n                                                Name     Sex   Age  SibSp  \\\n0                            Braund, Mr. Owen Harris    male  22.0      1   \n1  Cumings, Mrs. John Bradley (Florence Briggs Th...  female  38.0      1   \n2                             Heikkinen, Miss. Laina  female  26.0      0   \n3       Futrelle, Mrs. Jacques Heath (Lily May Peel)  female  35.0      1   \n4                           Allen, Mr. William Henry    male  35.0      0   \n\n   Parch            Ticket     Fare Embarked  \n0      0         A/5 21171     7.25        S  \n1      0          PC 17599  712.833        C  \n2      0  STON/O2. 3101282    7.925        S  \n3      0            113803     53.1        S  \n4      0            373450     8.05        S  ",
            "text/html": "<div>\n<style scoped>\n    .dataframe tbody tr th:only-of-type {\n        vertical-align: middle;\n    }\n\n    .dataframe tbody tr th {\n        vertical-align: top;\n    }\n\n    .dataframe thead th {\n        text-align: right;\n    }\n</style>\n<table border=\"1\" class=\"dataframe\">\n  <thead>\n    <tr style=\"text-align: right;\">\n      <th></th>\n      <th>PassengerId</th>\n      <th>Survived</th>\n      <th>Pclass</th>\n      <th>Name</th>\n      <th>Sex</th>\n      <th>Age</th>\n      <th>SibSp</th>\n      <th>Parch</th>\n      <th>Ticket</th>\n      <th>Fare</th>\n      <th>Embarked</th>\n    </tr>\n  </thead>\n  <tbody>\n    <tr>\n      <th>0</th>\n      <td>1</td>\n      <td>0</td>\n      <td>3</td>\n      <td>Braund, Mr. Owen Harris</td>\n      <td>male</td>\n      <td>22.0</td>\n      <td>1</td>\n      <td>0</td>\n      <td>A/5 21171</td>\n      <td>7.25</td>\n      <td>S</td>\n    </tr>\n    <tr>\n      <th>1</th>\n      <td>2</td>\n      <td>1</td>\n      <td>1</td>\n      <td>Cumings, Mrs. John Bradley (Florence Briggs Th...</td>\n      <td>female</td>\n      <td>38.0</td>\n      <td>1</td>\n      <td>0</td>\n      <td>PC 17599</td>\n      <td>712.833</td>\n      <td>C</td>\n    </tr>\n    <tr>\n      <th>2</th>\n      <td>3</td>\n      <td>1</td>\n      <td>3</td>\n      <td>Heikkinen, Miss. Laina</td>\n      <td>female</td>\n      <td>26.0</td>\n      <td>0</td>\n      <td>0</td>\n      <td>STON/O2. 3101282</td>\n      <td>7.925</td>\n      <td>S</td>\n    </tr>\n    <tr>\n      <th>3</th>\n      <td>4</td>\n      <td>1</td>\n      <td>1</td>\n      <td>Futrelle, Mrs. Jacques Heath (Lily May Peel)</td>\n      <td>female</td>\n      <td>35.0</td>\n      <td>1</td>\n      <td>0</td>\n      <td>113803</td>\n      <td>53.1</td>\n      <td>S</td>\n    </tr>\n    <tr>\n      <th>4</th>\n      <td>5</td>\n      <td>0</td>\n      <td>3</td>\n      <td>Allen, Mr. William Henry</td>\n      <td>male</td>\n      <td>35.0</td>\n      <td>0</td>\n      <td>0</td>\n      <td>373450</td>\n      <td>8.05</td>\n      <td>S</td>\n    </tr>\n  </tbody>\n</table>\n</div>"
          },
          "metadata": {}
        }
      ],
      "execution_count": 7,
      "metadata": {
        "execution": {
          "iopub.status.busy": "2024-06-02T23:01:36.769045Z",
          "iopub.execute_input": "2024-06-02T23:01:36.769551Z",
          "iopub.status.idle": "2024-06-02T23:01:36.782718Z",
          "shell.execute_reply.started": "2024-06-02T23:01:36.769507Z",
          "shell.execute_reply": "2024-06-02T23:01:36.781623Z"
        },
        "trusted": true,
        "gather": {
          "logged": 1718633513982
        }
      }
    },
    {
      "cell_type": "code",
      "source": [
        "# Tratamento de Outliers\n",
        "# Identificar e remover outliers na coluna Fare usando o método IQR para melhorar a robustez do modelo.\n",
        "\n",
        "# Garantir que a coluna 'Fare' contenha apenas valores numéricos\n",
        "data['Fare'] = pd.to_numeric(data['Fare'], errors='coerce')\n",
        "\n",
        "# Tratar valores ausentes na coluna 'Fare' se houver\n",
        "data['Fare'].fillna(data['Fare'].median(), inplace=True)\n",
        "\n",
        "# Tratamento de Outliers\n",
        "# Identificar e remover outliers na coluna Fare usando o método IQR para melhorar a robustez do modelo\n",
        "Q1 = data['Fare'].quantile(0.25)\n",
        "Q3 = data['Fare'].quantile(0.75)\n",
        "IQR = Q3 - Q1\n",
        "lower_bound = Q1 - 1.5 * IQR\n",
        "upper_bound = Q3 + 1.5 * IQR\n",
        "data = data[(data['Fare'] >= lower_bound) & (data['Fare'] <= upper_bound)]\n",
        "\n",
        "# Visualizar as primeiras linhas do dataset após a remoção de outliers\n",
        "display(data.head())"
      ],
      "outputs": [
        {
          "output_type": "display_data",
          "data": {
            "text/plain": "   PassengerId  Survived  Pclass  \\\n0            1         0       3   \n2            3         1       3   \n3            4         1       1   \n4            5         0       3   \n5            6         0       3   \n\n                                           Name     Sex   Age  SibSp  Parch  \\\n0                       Braund, Mr. Owen Harris    male  22.0      1      0   \n2                        Heikkinen, Miss. Laina  female  26.0      0      0   \n3  Futrelle, Mrs. Jacques Heath (Lily May Peel)  female  35.0      1      0   \n4                      Allen, Mr. William Henry    male  35.0      0      0   \n5                              Moran, Mr. James    male  28.0      0      0   \n\n             Ticket    Fare Embarked  \n0         A/5 21171   7.250        S  \n2  STON/O2. 3101282   7.925        S  \n3            113803  53.100        S  \n4            373450   8.050        S  \n5            330877  84.583        Q  ",
            "text/html": "<div>\n<style scoped>\n    .dataframe tbody tr th:only-of-type {\n        vertical-align: middle;\n    }\n\n    .dataframe tbody tr th {\n        vertical-align: top;\n    }\n\n    .dataframe thead th {\n        text-align: right;\n    }\n</style>\n<table border=\"1\" class=\"dataframe\">\n  <thead>\n    <tr style=\"text-align: right;\">\n      <th></th>\n      <th>PassengerId</th>\n      <th>Survived</th>\n      <th>Pclass</th>\n      <th>Name</th>\n      <th>Sex</th>\n      <th>Age</th>\n      <th>SibSp</th>\n      <th>Parch</th>\n      <th>Ticket</th>\n      <th>Fare</th>\n      <th>Embarked</th>\n    </tr>\n  </thead>\n  <tbody>\n    <tr>\n      <th>0</th>\n      <td>1</td>\n      <td>0</td>\n      <td>3</td>\n      <td>Braund, Mr. Owen Harris</td>\n      <td>male</td>\n      <td>22.0</td>\n      <td>1</td>\n      <td>0</td>\n      <td>A/5 21171</td>\n      <td>7.250</td>\n      <td>S</td>\n    </tr>\n    <tr>\n      <th>2</th>\n      <td>3</td>\n      <td>1</td>\n      <td>3</td>\n      <td>Heikkinen, Miss. Laina</td>\n      <td>female</td>\n      <td>26.0</td>\n      <td>0</td>\n      <td>0</td>\n      <td>STON/O2. 3101282</td>\n      <td>7.925</td>\n      <td>S</td>\n    </tr>\n    <tr>\n      <th>3</th>\n      <td>4</td>\n      <td>1</td>\n      <td>1</td>\n      <td>Futrelle, Mrs. Jacques Heath (Lily May Peel)</td>\n      <td>female</td>\n      <td>35.0</td>\n      <td>1</td>\n      <td>0</td>\n      <td>113803</td>\n      <td>53.100</td>\n      <td>S</td>\n    </tr>\n    <tr>\n      <th>4</th>\n      <td>5</td>\n      <td>0</td>\n      <td>3</td>\n      <td>Allen, Mr. William Henry</td>\n      <td>male</td>\n      <td>35.0</td>\n      <td>0</td>\n      <td>0</td>\n      <td>373450</td>\n      <td>8.050</td>\n      <td>S</td>\n    </tr>\n    <tr>\n      <th>5</th>\n      <td>6</td>\n      <td>0</td>\n      <td>3</td>\n      <td>Moran, Mr. James</td>\n      <td>male</td>\n      <td>28.0</td>\n      <td>0</td>\n      <td>0</td>\n      <td>330877</td>\n      <td>84.583</td>\n      <td>Q</td>\n    </tr>\n  </tbody>\n</table>\n</div>"
          },
          "metadata": {}
        }
      ],
      "execution_count": 8,
      "metadata": {
        "execution": {
          "iopub.status.busy": "2024-06-02T23:01:36.784424Z",
          "iopub.execute_input": "2024-06-02T23:01:36.784844Z",
          "iopub.status.idle": "2024-06-02T23:01:36.803189Z",
          "shell.execute_reply.started": "2024-06-02T23:01:36.784812Z",
          "shell.execute_reply": "2024-06-02T23:01:36.801439Z"
        },
        "trusted": true,
        "gather": {
          "logged": 1718633514404
        }
      }
    },
    {
      "cell_type": "code",
      "source": [
        "# Preparar os dados para modelagem aplicando transformações adequadas\n",
        "# Transformar as variáveis categóricas Sex e Embarked em variáveis dummy utilizando One-Hot Encoding.\n",
        "# Padronizar as variáveis numéricas Age e Fare para que tenham média 0 e desvio padrão 1, facilitando o treinamento do modelo.\n",
        "\n",
        "numeric_features = ['Age', 'Fare']\n",
        "categorical_features = ['Sex', 'Embarked']\n",
        "\n",
        "numeric_transformer = Pipeline(steps=[\n",
        "    ('scaler', StandardScaler())])\n",
        "\n",
        "categorical_transformer = Pipeline(steps=[\n",
        "    ('onehot', OneHotEncoder())])\n",
        "\n",
        "preprocessor = ColumnTransformer(\n",
        "    transformers=[\n",
        "        ('num', numeric_transformer, numeric_features),\n",
        "        ('cat', categorical_transformer, categorical_features)])"
      ],
      "outputs": [],
      "execution_count": 9,
      "metadata": {
        "execution": {
          "iopub.status.busy": "2024-06-02T23:01:36.805185Z",
          "iopub.execute_input": "2024-06-02T23:01:36.805559Z",
          "iopub.status.idle": "2024-06-02T23:01:36.814256Z",
          "shell.execute_reply.started": "2024-06-02T23:01:36.805529Z",
          "shell.execute_reply": "2024-06-02T23:01:36.812720Z"
        },
        "trusted": true,
        "gather": {
          "logged": 1718633514793
        }
      }
    },
    {
      "cell_type": "code",
      "source": [
        "# Aplicar as transformações no dataset\n",
        "\n",
        "cleaned_data = preprocessor.fit_transform(data)"
      ],
      "outputs": [],
      "execution_count": 10,
      "metadata": {
        "execution": {
          "iopub.status.busy": "2024-06-02T23:01:36.823409Z",
          "iopub.execute_input": "2024-06-02T23:01:36.824079Z",
          "iopub.status.idle": "2024-06-02T23:01:36.848152Z",
          "shell.execute_reply.started": "2024-06-02T23:01:36.824015Z",
          "shell.execute_reply": "2024-06-02T23:01:36.846898Z"
        },
        "trusted": true,
        "gather": {
          "logged": 1718633515177
        }
      }
    },
    {
      "cell_type": "code",
      "source": [
        "# Separar Variáveis Independentes da Variável Alvo: Extrair as features (X) e a variável alvo (y).\n",
        "\n",
        "X = cleaned_data\n",
        "y = data['Survived']\n"
      ],
      "outputs": [],
      "execution_count": 11,
      "metadata": {
        "execution": {
          "iopub.status.busy": "2024-06-02T23:01:36.849790Z",
          "iopub.execute_input": "2024-06-02T23:01:36.850519Z",
          "iopub.status.idle": "2024-06-02T23:01:36.855184Z",
          "shell.execute_reply.started": "2024-06-02T23:01:36.850484Z",
          "shell.execute_reply": "2024-06-02T23:01:36.854162Z"
        },
        "trusted": true,
        "gather": {
          "logged": 1718633515578
        }
      }
    },
    {
      "cell_type": "code",
      "source": [
        "# Divisão em Conjunto de Treinamento e Teste:\n",
        "# Dividir o dataset em 80% para treinamento e 20% para teste, garantindo que o modelo possa ser avaliado em dados não vistos durante o treinamento.\n",
        "\n",
        "X_train, X_test, y_train, y_test = train_test_split(X, y, test_size=0.2, random_state=42)\n"
      ],
      "outputs": [],
      "execution_count": 12,
      "metadata": {
        "execution": {
          "iopub.status.busy": "2024-06-02T23:01:36.856632Z",
          "iopub.execute_input": "2024-06-02T23:01:36.857741Z",
          "iopub.status.idle": "2024-06-02T23:01:36.871243Z",
          "shell.execute_reply.started": "2024-06-02T23:01:36.857709Z",
          "shell.execute_reply": "2024-06-02T23:01:36.870081Z"
        },
        "trusted": true,
        "gather": {
          "logged": 1718633515984
        }
      }
    },
    {
      "cell_type": "code",
      "source": [
        "# Carregar o dataset novamente\n",
        "\n",
        "data = pd.read_csv(\"/home/azureuser/cloudfiles/code/Users/573109/Titanic-Dataset.csv\", delimiter=';')"
      ],
      "outputs": [],
      "execution_count": 13,
      "metadata": {
        "execution": {
          "iopub.status.busy": "2024-06-02T23:01:36.872488Z",
          "iopub.execute_input": "2024-06-02T23:01:36.873305Z",
          "iopub.status.idle": "2024-06-02T23:01:36.888307Z",
          "shell.execute_reply.started": "2024-06-02T23:01:36.873267Z",
          "shell.execute_reply": "2024-06-02T23:01:36.887164Z"
        },
        "trusted": true,
        "gather": {
          "logged": 1718633516644
        }
      }
    },
    {
      "cell_type": "code",
      "source": [
        "# Verificar os primeiros registros das transformações aplicadas\n",
        "\n",
        "display(data.head())"
      ],
      "outputs": [
        {
          "output_type": "display_data",
          "data": {
            "text/plain": "   PassengerId  Survived  Pclass  \\\n0            1         0       3   \n1            2         1       1   \n2            3         1       3   \n3            4         1       1   \n4            5         0       3   \n\n                                                Name     Sex   Age  SibSp  \\\n0                            Braund, Mr. Owen Harris    male  22.0      1   \n1  Cumings, Mrs. John Bradley (Florence Briggs Th...  female  38.0      1   \n2                             Heikkinen, Miss. Laina  female  26.0      0   \n3       Futrelle, Mrs. Jacques Heath (Lily May Peel)  female  35.0      1   \n4                           Allen, Mr. William Henry    male  35.0      0   \n\n   Parch            Ticket     Fare Cabin Embarked  \n0      0         A/5 21171     7.25   NaN        S  \n1      0          PC 17599  712.833   C85        C  \n2      0  STON/O2. 3101282    7.925   NaN        S  \n3      0            113803     53.1  C123        S  \n4      0            373450     8.05   NaN        S  ",
            "text/html": "<div>\n<style scoped>\n    .dataframe tbody tr th:only-of-type {\n        vertical-align: middle;\n    }\n\n    .dataframe tbody tr th {\n        vertical-align: top;\n    }\n\n    .dataframe thead th {\n        text-align: right;\n    }\n</style>\n<table border=\"1\" class=\"dataframe\">\n  <thead>\n    <tr style=\"text-align: right;\">\n      <th></th>\n      <th>PassengerId</th>\n      <th>Survived</th>\n      <th>Pclass</th>\n      <th>Name</th>\n      <th>Sex</th>\n      <th>Age</th>\n      <th>SibSp</th>\n      <th>Parch</th>\n      <th>Ticket</th>\n      <th>Fare</th>\n      <th>Cabin</th>\n      <th>Embarked</th>\n    </tr>\n  </thead>\n  <tbody>\n    <tr>\n      <th>0</th>\n      <td>1</td>\n      <td>0</td>\n      <td>3</td>\n      <td>Braund, Mr. Owen Harris</td>\n      <td>male</td>\n      <td>22.0</td>\n      <td>1</td>\n      <td>0</td>\n      <td>A/5 21171</td>\n      <td>7.25</td>\n      <td>NaN</td>\n      <td>S</td>\n    </tr>\n    <tr>\n      <th>1</th>\n      <td>2</td>\n      <td>1</td>\n      <td>1</td>\n      <td>Cumings, Mrs. John Bradley (Florence Briggs Th...</td>\n      <td>female</td>\n      <td>38.0</td>\n      <td>1</td>\n      <td>0</td>\n      <td>PC 17599</td>\n      <td>712.833</td>\n      <td>C85</td>\n      <td>C</td>\n    </tr>\n    <tr>\n      <th>2</th>\n      <td>3</td>\n      <td>1</td>\n      <td>3</td>\n      <td>Heikkinen, Miss. Laina</td>\n      <td>female</td>\n      <td>26.0</td>\n      <td>0</td>\n      <td>0</td>\n      <td>STON/O2. 3101282</td>\n      <td>7.925</td>\n      <td>NaN</td>\n      <td>S</td>\n    </tr>\n    <tr>\n      <th>3</th>\n      <td>4</td>\n      <td>1</td>\n      <td>1</td>\n      <td>Futrelle, Mrs. Jacques Heath (Lily May Peel)</td>\n      <td>female</td>\n      <td>35.0</td>\n      <td>1</td>\n      <td>0</td>\n      <td>113803</td>\n      <td>53.1</td>\n      <td>C123</td>\n      <td>S</td>\n    </tr>\n    <tr>\n      <th>4</th>\n      <td>5</td>\n      <td>0</td>\n      <td>3</td>\n      <td>Allen, Mr. William Henry</td>\n      <td>male</td>\n      <td>35.0</td>\n      <td>0</td>\n      <td>0</td>\n      <td>373450</td>\n      <td>8.05</td>\n      <td>NaN</td>\n      <td>S</td>\n    </tr>\n  </tbody>\n</table>\n</div>"
          },
          "metadata": {}
        }
      ],
      "execution_count": 14,
      "metadata": {
        "execution": {
          "iopub.status.busy": "2024-06-02T23:01:36.889858Z",
          "iopub.execute_input": "2024-06-02T23:01:36.890475Z",
          "iopub.status.idle": "2024-06-02T23:01:36.903074Z",
          "shell.execute_reply.started": "2024-06-02T23:01:36.890436Z",
          "shell.execute_reply": "2024-06-02T23:01:36.902138Z"
        },
        "trusted": true,
        "gather": {
          "logged": 1718633517056
        }
      }
    },
    {
      "cell_type": "code",
      "source": [
        "# Tratamento de Valores Ausentes\n",
        "# Imputação para a idade\n",
        " \n",
        "age_imputer = SimpleImputer(strategy='median')\n",
        "data['Age'] = age_imputer.fit_transform(data[['Age']])\n"
      ],
      "outputs": [],
      "execution_count": 15,
      "metadata": {
        "execution": {
          "iopub.status.busy": "2024-06-02T23:01:36.904842Z",
          "iopub.execute_input": "2024-06-02T23:01:36.905364Z",
          "iopub.status.idle": "2024-06-02T23:01:37.019544Z",
          "shell.execute_reply.started": "2024-06-02T23:01:36.905334Z",
          "shell.execute_reply": "2024-06-02T23:01:37.018408Z"
        },
        "trusted": true,
        "gather": {
          "logged": 1718633517441
        }
      }
    },
    {
      "cell_type": "code",
      "source": [
        "# Imputação para a cabine (criando uma nova variável indicando se a cabine era conhecida)\n",
        "\n",
        "data['Cabin_Known'] = np.where(data['Cabin'].isnull(), 0, 1)"
      ],
      "outputs": [],
      "execution_count": 16,
      "metadata": {
        "execution": {
          "iopub.status.busy": "2024-06-02T23:01:37.021506Z",
          "iopub.execute_input": "2024-06-02T23:01:37.022085Z",
          "iopub.status.idle": "2024-06-02T23:01:37.033211Z",
          "shell.execute_reply.started": "2024-06-02T23:01:37.022045Z",
          "shell.execute_reply": "2024-06-02T23:01:37.031937Z"
        },
        "trusted": true,
        "gather": {
          "logged": 1718633517780
        }
      }
    },
    {
      "cell_type": "code",
      "source": [
        "# Importar a classe SimpleImputer\n",
        "from sklearn.impute import SimpleImputer\n",
        "\n",
        "# Criar o imputador\n",
        "embarked_imputer = SimpleImputer(strategy='most_frequent')\n",
        "\n",
        "# Aplicar o imputador e substituir os valores na coluna 'Embarked'\n",
        "data['Embarked'] = embarked_imputer.fit_transform(data[['Embarked']].values).reshape(-1)\n",
        "\n",
        "# Se necessário, converter a saída para uma série pandas\n",
        "data['Embarked'] = pd.Series(data['Embarked'])\n"
      ],
      "outputs": [],
      "execution_count": 17,
      "metadata": {
        "execution": {
          "iopub.status.busy": "2024-06-02T23:01:37.035184Z",
          "iopub.execute_input": "2024-06-02T23:01:37.035538Z",
          "iopub.status.idle": "2024-06-02T23:01:37.053943Z",
          "shell.execute_reply.started": "2024-06-02T23:01:37.035510Z",
          "shell.execute_reply": "2024-06-02T23:01:37.052557Z"
        },
        "trusted": true,
        "gather": {
          "logged": 1718633518135
        }
      }
    },
    {
      "cell_type": "code",
      "source": [
        "# Tratamento de Outliers\n",
        "# Identificar e remover outliers na coluna Fare usando o método IQR para melhorar a robustez do modelo.\n",
        "\n",
        "# Garantir que a coluna 'Fare' contenha apenas valores numéricos\n",
        "data['Fare'] = pd.to_numeric(data['Fare'], errors='coerce')\n",
        "\n",
        "# Tratar valores ausentes na coluna 'Fare' se houver\n",
        "data['Fare'].fillna(data['Fare'].median(), inplace=True)\n",
        "\n",
        "# Tratamento de Outliers\n",
        "# Identificar e remover outliers na coluna Fare usando o método IQR para melhorar a robustez do modelo\n",
        "Q1 = data['Fare'].quantile(0.25)\n",
        "Q3 = data['Fare'].quantile(0.75)\n",
        "IQR = Q3 - Q1\n",
        "lower_bound = Q1 - 1.5 * IQR\n",
        "upper_bound = Q3 + 1.5 * IQR\n",
        "data = data[(data['Fare'] >= lower_bound) & (data['Fare'] <= upper_bound)]\n",
        "\n",
        "# Visualizar as primeiras linhas do dataset após a remoção de outliers\n",
        "display(data.head())"
      ],
      "outputs": [
        {
          "output_type": "display_data",
          "data": {
            "text/plain": "   PassengerId  Survived  Pclass  \\\n0            1         0       3   \n2            3         1       3   \n3            4         1       1   \n4            5         0       3   \n5            6         0       3   \n\n                                           Name     Sex   Age  SibSp  Parch  \\\n0                       Braund, Mr. Owen Harris    male  22.0      1      0   \n2                        Heikkinen, Miss. Laina  female  26.0      0      0   \n3  Futrelle, Mrs. Jacques Heath (Lily May Peel)  female  35.0      1      0   \n4                      Allen, Mr. William Henry    male  35.0      0      0   \n5                              Moran, Mr. James    male  28.0      0      0   \n\n             Ticket    Fare Cabin Embarked  Cabin_Known  \n0         A/5 21171   7.250   NaN        S            0  \n2  STON/O2. 3101282   7.925   NaN        S            0  \n3            113803  53.100  C123        S            1  \n4            373450   8.050   NaN        S            0  \n5            330877  84.583   NaN        Q            0  ",
            "text/html": "<div>\n<style scoped>\n    .dataframe tbody tr th:only-of-type {\n        vertical-align: middle;\n    }\n\n    .dataframe tbody tr th {\n        vertical-align: top;\n    }\n\n    .dataframe thead th {\n        text-align: right;\n    }\n</style>\n<table border=\"1\" class=\"dataframe\">\n  <thead>\n    <tr style=\"text-align: right;\">\n      <th></th>\n      <th>PassengerId</th>\n      <th>Survived</th>\n      <th>Pclass</th>\n      <th>Name</th>\n      <th>Sex</th>\n      <th>Age</th>\n      <th>SibSp</th>\n      <th>Parch</th>\n      <th>Ticket</th>\n      <th>Fare</th>\n      <th>Cabin</th>\n      <th>Embarked</th>\n      <th>Cabin_Known</th>\n    </tr>\n  </thead>\n  <tbody>\n    <tr>\n      <th>0</th>\n      <td>1</td>\n      <td>0</td>\n      <td>3</td>\n      <td>Braund, Mr. Owen Harris</td>\n      <td>male</td>\n      <td>22.0</td>\n      <td>1</td>\n      <td>0</td>\n      <td>A/5 21171</td>\n      <td>7.250</td>\n      <td>NaN</td>\n      <td>S</td>\n      <td>0</td>\n    </tr>\n    <tr>\n      <th>2</th>\n      <td>3</td>\n      <td>1</td>\n      <td>3</td>\n      <td>Heikkinen, Miss. Laina</td>\n      <td>female</td>\n      <td>26.0</td>\n      <td>0</td>\n      <td>0</td>\n      <td>STON/O2. 3101282</td>\n      <td>7.925</td>\n      <td>NaN</td>\n      <td>S</td>\n      <td>0</td>\n    </tr>\n    <tr>\n      <th>3</th>\n      <td>4</td>\n      <td>1</td>\n      <td>1</td>\n      <td>Futrelle, Mrs. Jacques Heath (Lily May Peel)</td>\n      <td>female</td>\n      <td>35.0</td>\n      <td>1</td>\n      <td>0</td>\n      <td>113803</td>\n      <td>53.100</td>\n      <td>C123</td>\n      <td>S</td>\n      <td>1</td>\n    </tr>\n    <tr>\n      <th>4</th>\n      <td>5</td>\n      <td>0</td>\n      <td>3</td>\n      <td>Allen, Mr. William Henry</td>\n      <td>male</td>\n      <td>35.0</td>\n      <td>0</td>\n      <td>0</td>\n      <td>373450</td>\n      <td>8.050</td>\n      <td>NaN</td>\n      <td>S</td>\n      <td>0</td>\n    </tr>\n    <tr>\n      <th>5</th>\n      <td>6</td>\n      <td>0</td>\n      <td>3</td>\n      <td>Moran, Mr. James</td>\n      <td>male</td>\n      <td>28.0</td>\n      <td>0</td>\n      <td>0</td>\n      <td>330877</td>\n      <td>84.583</td>\n      <td>NaN</td>\n      <td>Q</td>\n      <td>0</td>\n    </tr>\n  </tbody>\n</table>\n</div>"
          },
          "metadata": {}
        }
      ],
      "execution_count": 18,
      "metadata": {
        "execution": {
          "iopub.status.busy": "2024-06-02T23:01:37.055543Z",
          "iopub.execute_input": "2024-06-02T23:01:37.056013Z",
          "iopub.status.idle": "2024-06-02T23:01:37.069675Z",
          "shell.execute_reply.started": "2024-06-02T23:01:37.055972Z",
          "shell.execute_reply": "2024-06-02T23:01:37.068765Z"
        },
        "trusted": true,
        "gather": {
          "logged": 1718633518523
        }
      }
    },
    {
      "cell_type": "code",
      "source": [
        "# Transformação de Dados\n",
        "# Normalização/Padronização\n",
        "#scaler = StandardScaler()\n",
        "#data[['Age', 'Fare']] = scaler.fit_transform(data[['Age', 'Fare']])\n",
        "\n",
        "# Normalização/Padronização usando MinMaxScaler para evitar valores negativos\n",
        "scaler = MinMaxScaler()\n",
        "data[['Age', 'Fare']] = scaler.fit_transform(data[['Age', 'Fare']])\n"
      ],
      "outputs": [],
      "execution_count": 19,
      "metadata": {
        "execution": {
          "iopub.status.busy": "2024-06-02T23:01:37.071555Z",
          "iopub.execute_input": "2024-06-02T23:01:37.071943Z",
          "iopub.status.idle": "2024-06-02T23:01:37.082551Z",
          "shell.execute_reply.started": "2024-06-02T23:01:37.071911Z",
          "shell.execute_reply": "2024-06-02T23:01:37.081331Z"
        },
        "trusted": true,
        "gather": {
          "logged": 1718633518919
        }
      }
    },
    {
      "cell_type": "code",
      "source": [
        "# Codificação de Variáveis Categóricas\n",
        "from sklearn.compose import ColumnTransformer\n",
        "from sklearn.preprocessing import OneHotEncoder\n",
        "\n",
        "ct = ColumnTransformer([\n",
        "    (\"onehot\", OneHotEncoder(), ['Embarked', 'Sex', 'Pclass'])\n",
        "], remainder='passthrough')\n",
        "\n",
        "data_transformed = ct.fit_transform(data)\n",
        "new_columns = ct.get_feature_names_out()\n",
        "data_final = pd.DataFrame(data_transformed, columns=new_columns)"
      ],
      "outputs": [],
      "execution_count": 20,
      "metadata": {
        "execution": {
          "iopub.status.busy": "2024-06-02T23:01:37.083656Z",
          "iopub.execute_input": "2024-06-02T23:01:37.084043Z",
          "iopub.status.idle": "2024-06-02T23:01:37.102364Z",
          "shell.execute_reply.started": "2024-06-02T23:01:37.084013Z",
          "shell.execute_reply": "2024-06-02T23:01:37.100851Z"
        },
        "trusted": true,
        "gather": {
          "logged": 1718633519285
        }
      }
    },
    {
      "cell_type": "code",
      "source": [
        "# Visualização inicial do dataset\n",
        "\n",
        "display(data.head())"
      ],
      "outputs": [
        {
          "output_type": "display_data",
          "data": {
            "text/plain": "   PassengerId  Survived  Pclass  \\\n0            1         0       3   \n2            3         1       3   \n3            4         1       1   \n4            5         0       3   \n5            6         0       3   \n\n                                           Name     Sex       Age  SibSp  \\\n0                       Braund, Mr. Owen Harris    male  0.271174      1   \n2                        Heikkinen, Miss. Laina  female  0.321438      0   \n3  Futrelle, Mrs. Jacques Heath (Lily May Peel)  female  0.434531      1   \n4                      Allen, Mr. William Henry    male  0.434531      0   \n5                              Moran, Mr. James    male  0.346569      0   \n\n   Parch            Ticket      Fare Cabin Embarked  Cabin_Known  \n0      0         A/5 21171  0.046056   NaN        S            0  \n2      0  STON/O2. 3101282  0.050344   NaN        S            0  \n3      0            113803  0.337321  C123        S            1  \n4      0            373450  0.051138   NaN        S            0  \n5      0            330877  0.537318   NaN        Q            0  ",
            "text/html": "<div>\n<style scoped>\n    .dataframe tbody tr th:only-of-type {\n        vertical-align: middle;\n    }\n\n    .dataframe tbody tr th {\n        vertical-align: top;\n    }\n\n    .dataframe thead th {\n        text-align: right;\n    }\n</style>\n<table border=\"1\" class=\"dataframe\">\n  <thead>\n    <tr style=\"text-align: right;\">\n      <th></th>\n      <th>PassengerId</th>\n      <th>Survived</th>\n      <th>Pclass</th>\n      <th>Name</th>\n      <th>Sex</th>\n      <th>Age</th>\n      <th>SibSp</th>\n      <th>Parch</th>\n      <th>Ticket</th>\n      <th>Fare</th>\n      <th>Cabin</th>\n      <th>Embarked</th>\n      <th>Cabin_Known</th>\n    </tr>\n  </thead>\n  <tbody>\n    <tr>\n      <th>0</th>\n      <td>1</td>\n      <td>0</td>\n      <td>3</td>\n      <td>Braund, Mr. Owen Harris</td>\n      <td>male</td>\n      <td>0.271174</td>\n      <td>1</td>\n      <td>0</td>\n      <td>A/5 21171</td>\n      <td>0.046056</td>\n      <td>NaN</td>\n      <td>S</td>\n      <td>0</td>\n    </tr>\n    <tr>\n      <th>2</th>\n      <td>3</td>\n      <td>1</td>\n      <td>3</td>\n      <td>Heikkinen, Miss. Laina</td>\n      <td>female</td>\n      <td>0.321438</td>\n      <td>0</td>\n      <td>0</td>\n      <td>STON/O2. 3101282</td>\n      <td>0.050344</td>\n      <td>NaN</td>\n      <td>S</td>\n      <td>0</td>\n    </tr>\n    <tr>\n      <th>3</th>\n      <td>4</td>\n      <td>1</td>\n      <td>1</td>\n      <td>Futrelle, Mrs. Jacques Heath (Lily May Peel)</td>\n      <td>female</td>\n      <td>0.434531</td>\n      <td>1</td>\n      <td>0</td>\n      <td>113803</td>\n      <td>0.337321</td>\n      <td>C123</td>\n      <td>S</td>\n      <td>1</td>\n    </tr>\n    <tr>\n      <th>4</th>\n      <td>5</td>\n      <td>0</td>\n      <td>3</td>\n      <td>Allen, Mr. William Henry</td>\n      <td>male</td>\n      <td>0.434531</td>\n      <td>0</td>\n      <td>0</td>\n      <td>373450</td>\n      <td>0.051138</td>\n      <td>NaN</td>\n      <td>S</td>\n      <td>0</td>\n    </tr>\n    <tr>\n      <th>5</th>\n      <td>6</td>\n      <td>0</td>\n      <td>3</td>\n      <td>Moran, Mr. James</td>\n      <td>male</td>\n      <td>0.346569</td>\n      <td>0</td>\n      <td>0</td>\n      <td>330877</td>\n      <td>0.537318</td>\n      <td>NaN</td>\n      <td>Q</td>\n      <td>0</td>\n    </tr>\n  </tbody>\n</table>\n</div>"
          },
          "metadata": {}
        }
      ],
      "execution_count": 21,
      "metadata": {
        "execution": {
          "iopub.status.busy": "2024-06-02T23:01:37.104151Z",
          "iopub.execute_input": "2024-06-02T23:01:37.104606Z",
          "iopub.status.idle": "2024-06-02T23:01:37.125207Z",
          "shell.execute_reply.started": "2024-06-02T23:01:37.104564Z",
          "shell.execute_reply": "2024-06-02T23:01:37.124054Z"
        },
        "trusted": true,
        "gather": {
          "logged": 1718633519675
        }
      }
    },
    {
      "cell_type": "code",
      "source": [
        "# Mostrar as primeiras linhas do dataframe transformado\n",
        "# Confirmar visualmente que as transformações foram aplicadas corretamente.\n",
        "\n",
        "display(data_final.head())"
      ],
      "outputs": [
        {
          "output_type": "display_data",
          "data": {
            "text/plain": "  onehot__Embarked_C onehot__Embarked_Q onehot__Embarked_S onehot__Sex_female  \\\n0                0.0                0.0                1.0                0.0   \n1                0.0                0.0                1.0                1.0   \n2                0.0                0.0                1.0                1.0   \n3                0.0                0.0                1.0                0.0   \n4                0.0                1.0                0.0                0.0   \n\n  onehot__Sex_male onehot__Pclass_1 onehot__Pclass_2 onehot__Pclass_3  \\\n0              1.0              0.0              0.0              1.0   \n1              0.0              0.0              0.0              1.0   \n2              0.0              1.0              0.0              0.0   \n3              1.0              0.0              0.0              1.0   \n4              1.0              0.0              0.0              1.0   \n\n  remainder__PassengerId remainder__Survived  \\\n0                      1                   0   \n1                      3                   1   \n2                      4                   1   \n3                      5                   0   \n4                      6                   0   \n\n                                remainder__Name remainder__Age  \\\n0                       Braund, Mr. Owen Harris       0.271174   \n1                        Heikkinen, Miss. Laina       0.321438   \n2  Futrelle, Mrs. Jacques Heath (Lily May Peel)       0.434531   \n3                      Allen, Mr. William Henry       0.434531   \n4                              Moran, Mr. James       0.346569   \n\n  remainder__SibSp remainder__Parch remainder__Ticket remainder__Fare  \\\n0                1                0         A/5 21171        0.046056   \n1                0                0  STON/O2. 3101282        0.050344   \n2                1                0            113803        0.337321   \n3                0                0            373450        0.051138   \n4                0                0            330877        0.537318   \n\n  remainder__Cabin remainder__Cabin_Known  \n0              NaN                      0  \n1              NaN                      0  \n2             C123                      1  \n3              NaN                      0  \n4              NaN                      0  ",
            "text/html": "<div>\n<style scoped>\n    .dataframe tbody tr th:only-of-type {\n        vertical-align: middle;\n    }\n\n    .dataframe tbody tr th {\n        vertical-align: top;\n    }\n\n    .dataframe thead th {\n        text-align: right;\n    }\n</style>\n<table border=\"1\" class=\"dataframe\">\n  <thead>\n    <tr style=\"text-align: right;\">\n      <th></th>\n      <th>onehot__Embarked_C</th>\n      <th>onehot__Embarked_Q</th>\n      <th>onehot__Embarked_S</th>\n      <th>onehot__Sex_female</th>\n      <th>onehot__Sex_male</th>\n      <th>onehot__Pclass_1</th>\n      <th>onehot__Pclass_2</th>\n      <th>onehot__Pclass_3</th>\n      <th>remainder__PassengerId</th>\n      <th>remainder__Survived</th>\n      <th>remainder__Name</th>\n      <th>remainder__Age</th>\n      <th>remainder__SibSp</th>\n      <th>remainder__Parch</th>\n      <th>remainder__Ticket</th>\n      <th>remainder__Fare</th>\n      <th>remainder__Cabin</th>\n      <th>remainder__Cabin_Known</th>\n    </tr>\n  </thead>\n  <tbody>\n    <tr>\n      <th>0</th>\n      <td>0.0</td>\n      <td>0.0</td>\n      <td>1.0</td>\n      <td>0.0</td>\n      <td>1.0</td>\n      <td>0.0</td>\n      <td>0.0</td>\n      <td>1.0</td>\n      <td>1</td>\n      <td>0</td>\n      <td>Braund, Mr. Owen Harris</td>\n      <td>0.271174</td>\n      <td>1</td>\n      <td>0</td>\n      <td>A/5 21171</td>\n      <td>0.046056</td>\n      <td>NaN</td>\n      <td>0</td>\n    </tr>\n    <tr>\n      <th>1</th>\n      <td>0.0</td>\n      <td>0.0</td>\n      <td>1.0</td>\n      <td>1.0</td>\n      <td>0.0</td>\n      <td>0.0</td>\n      <td>0.0</td>\n      <td>1.0</td>\n      <td>3</td>\n      <td>1</td>\n      <td>Heikkinen, Miss. Laina</td>\n      <td>0.321438</td>\n      <td>0</td>\n      <td>0</td>\n      <td>STON/O2. 3101282</td>\n      <td>0.050344</td>\n      <td>NaN</td>\n      <td>0</td>\n    </tr>\n    <tr>\n      <th>2</th>\n      <td>0.0</td>\n      <td>0.0</td>\n      <td>1.0</td>\n      <td>1.0</td>\n      <td>0.0</td>\n      <td>1.0</td>\n      <td>0.0</td>\n      <td>0.0</td>\n      <td>4</td>\n      <td>1</td>\n      <td>Futrelle, Mrs. Jacques Heath (Lily May Peel)</td>\n      <td>0.434531</td>\n      <td>1</td>\n      <td>0</td>\n      <td>113803</td>\n      <td>0.337321</td>\n      <td>C123</td>\n      <td>1</td>\n    </tr>\n    <tr>\n      <th>3</th>\n      <td>0.0</td>\n      <td>0.0</td>\n      <td>1.0</td>\n      <td>0.0</td>\n      <td>1.0</td>\n      <td>0.0</td>\n      <td>0.0</td>\n      <td>1.0</td>\n      <td>5</td>\n      <td>0</td>\n      <td>Allen, Mr. William Henry</td>\n      <td>0.434531</td>\n      <td>0</td>\n      <td>0</td>\n      <td>373450</td>\n      <td>0.051138</td>\n      <td>NaN</td>\n      <td>0</td>\n    </tr>\n    <tr>\n      <th>4</th>\n      <td>0.0</td>\n      <td>1.0</td>\n      <td>0.0</td>\n      <td>0.0</td>\n      <td>1.0</td>\n      <td>0.0</td>\n      <td>0.0</td>\n      <td>1.0</td>\n      <td>6</td>\n      <td>0</td>\n      <td>Moran, Mr. James</td>\n      <td>0.346569</td>\n      <td>0</td>\n      <td>0</td>\n      <td>330877</td>\n      <td>0.537318</td>\n      <td>NaN</td>\n      <td>0</td>\n    </tr>\n  </tbody>\n</table>\n</div>"
          },
          "metadata": {}
        }
      ],
      "execution_count": 22,
      "metadata": {
        "execution": {
          "iopub.status.busy": "2024-06-02T23:01:37.126669Z",
          "iopub.execute_input": "2024-06-02T23:01:37.127131Z",
          "iopub.status.idle": "2024-06-02T23:01:37.141156Z",
          "shell.execute_reply.started": "2024-06-02T23:01:37.127092Z",
          "shell.execute_reply": "2024-06-02T23:01:37.139561Z"
        },
        "trusted": true,
        "gather": {
          "logged": 1718633520104
        }
      }
    },
    {
      "cell_type": "code",
      "source": [
        "# Salvar os dados transformados em um novo arquivo CSV para uso posterior.\n",
        "\n",
        "data_final.to_csv('/home/azureuser/cloudfiles/code/Users/573109/titanic_clean.csv', index=False)"
      ],
      "outputs": [],
      "execution_count": 23,
      "metadata": {
        "execution": {
          "iopub.status.busy": "2024-06-02T23:01:37.142761Z",
          "iopub.execute_input": "2024-06-02T23:01:37.143705Z",
          "iopub.status.idle": "2024-06-02T23:01:37.165912Z",
          "shell.execute_reply.started": "2024-06-02T23:01:37.143662Z",
          "shell.execute_reply": "2024-06-02T23:01:37.164812Z"
        },
        "trusted": true,
        "gather": {
          "logged": 1718633520487
        }
      }
    },
    {
      "cell_type": "markdown",
      "source": [
        "# Transformação de Dados: "
      ],
      "metadata": {}
    },
    {
      "cell_type": "code",
      "source": [
        "# padronizando as variáveis numéricas e convertendo as variáveis categóricas em um formato numérico através do one-hot encoding.\n",
        "# Instalando e importando as bibliotecas necessárias\n",
        "\n",
        "# pandas: Manipulação de dataframes.\n",
        "# StandardScaler, OneHotEncoder: Ferramentas do scikit-learn para padronização e codificação de variáveis.\n",
        "# ColumnTransformer: Facilita a aplicação de diferentes transformações a diferentes colunas do dataset.\n",
        "\n",
        "import pandas as pd\n",
        "from sklearn.preprocessing import StandardScaler, OneHotEncoder\n",
        "from sklearn.compose import ColumnTransformer"
      ],
      "outputs": [],
      "execution_count": 24,
      "metadata": {
        "execution": {
          "iopub.status.busy": "2024-06-02T23:01:37.167061Z",
          "iopub.execute_input": "2024-06-02T23:01:37.167366Z",
          "iopub.status.idle": "2024-06-02T23:01:37.173269Z",
          "shell.execute_reply.started": "2024-06-02T23:01:37.167340Z",
          "shell.execute_reply": "2024-06-02T23:01:37.172009Z"
        },
        "trusted": true,
        "gather": {
          "logged": 1718633520834
        }
      }
    },
    {
      "cell_type": "code",
      "source": [
        "# Visualização inicial do dataset\n",
        "\n",
        "display(data.head())"
      ],
      "outputs": [
        {
          "output_type": "display_data",
          "data": {
            "text/plain": "   PassengerId  Survived  Pclass  \\\n0            1         0       3   \n2            3         1       3   \n3            4         1       1   \n4            5         0       3   \n5            6         0       3   \n\n                                           Name     Sex       Age  SibSp  \\\n0                       Braund, Mr. Owen Harris    male  0.271174      1   \n2                        Heikkinen, Miss. Laina  female  0.321438      0   \n3  Futrelle, Mrs. Jacques Heath (Lily May Peel)  female  0.434531      1   \n4                      Allen, Mr. William Henry    male  0.434531      0   \n5                              Moran, Mr. James    male  0.346569      0   \n\n   Parch            Ticket      Fare Cabin Embarked  Cabin_Known  \n0      0         A/5 21171  0.046056   NaN        S            0  \n2      0  STON/O2. 3101282  0.050344   NaN        S            0  \n3      0            113803  0.337321  C123        S            1  \n4      0            373450  0.051138   NaN        S            0  \n5      0            330877  0.537318   NaN        Q            0  ",
            "text/html": "<div>\n<style scoped>\n    .dataframe tbody tr th:only-of-type {\n        vertical-align: middle;\n    }\n\n    .dataframe tbody tr th {\n        vertical-align: top;\n    }\n\n    .dataframe thead th {\n        text-align: right;\n    }\n</style>\n<table border=\"1\" class=\"dataframe\">\n  <thead>\n    <tr style=\"text-align: right;\">\n      <th></th>\n      <th>PassengerId</th>\n      <th>Survived</th>\n      <th>Pclass</th>\n      <th>Name</th>\n      <th>Sex</th>\n      <th>Age</th>\n      <th>SibSp</th>\n      <th>Parch</th>\n      <th>Ticket</th>\n      <th>Fare</th>\n      <th>Cabin</th>\n      <th>Embarked</th>\n      <th>Cabin_Known</th>\n    </tr>\n  </thead>\n  <tbody>\n    <tr>\n      <th>0</th>\n      <td>1</td>\n      <td>0</td>\n      <td>3</td>\n      <td>Braund, Mr. Owen Harris</td>\n      <td>male</td>\n      <td>0.271174</td>\n      <td>1</td>\n      <td>0</td>\n      <td>A/5 21171</td>\n      <td>0.046056</td>\n      <td>NaN</td>\n      <td>S</td>\n      <td>0</td>\n    </tr>\n    <tr>\n      <th>2</th>\n      <td>3</td>\n      <td>1</td>\n      <td>3</td>\n      <td>Heikkinen, Miss. Laina</td>\n      <td>female</td>\n      <td>0.321438</td>\n      <td>0</td>\n      <td>0</td>\n      <td>STON/O2. 3101282</td>\n      <td>0.050344</td>\n      <td>NaN</td>\n      <td>S</td>\n      <td>0</td>\n    </tr>\n    <tr>\n      <th>3</th>\n      <td>4</td>\n      <td>1</td>\n      <td>1</td>\n      <td>Futrelle, Mrs. Jacques Heath (Lily May Peel)</td>\n      <td>female</td>\n      <td>0.434531</td>\n      <td>1</td>\n      <td>0</td>\n      <td>113803</td>\n      <td>0.337321</td>\n      <td>C123</td>\n      <td>S</td>\n      <td>1</td>\n    </tr>\n    <tr>\n      <th>4</th>\n      <td>5</td>\n      <td>0</td>\n      <td>3</td>\n      <td>Allen, Mr. William Henry</td>\n      <td>male</td>\n      <td>0.434531</td>\n      <td>0</td>\n      <td>0</td>\n      <td>373450</td>\n      <td>0.051138</td>\n      <td>NaN</td>\n      <td>S</td>\n      <td>0</td>\n    </tr>\n    <tr>\n      <th>5</th>\n      <td>6</td>\n      <td>0</td>\n      <td>3</td>\n      <td>Moran, Mr. James</td>\n      <td>male</td>\n      <td>0.346569</td>\n      <td>0</td>\n      <td>0</td>\n      <td>330877</td>\n      <td>0.537318</td>\n      <td>NaN</td>\n      <td>Q</td>\n      <td>0</td>\n    </tr>\n  </tbody>\n</table>\n</div>"
          },
          "metadata": {}
        }
      ],
      "execution_count": 25,
      "metadata": {
        "execution": {
          "iopub.status.busy": "2024-06-02T23:01:37.174595Z",
          "iopub.execute_input": "2024-06-02T23:01:37.175532Z",
          "iopub.status.idle": "2024-06-02T23:01:37.202229Z",
          "shell.execute_reply.started": "2024-06-02T23:01:37.175500Z",
          "shell.execute_reply": "2024-06-02T23:01:37.201023Z"
        },
        "trusted": true,
        "gather": {
          "logged": 1718633521246
        }
      }
    },
    {
      "cell_type": "code",
      "source": [
        "# Carregar o dataset limpo (titanic_clean.csv) para transformação.\n",
        "# Carregando o dataset limpo\n",
        " \n",
        "data_final = pd.read_csv('/home/azureuser/cloudfiles/code/Users/573109/titanic_clean.csv') #Carregando com nome de data_final"
      ],
      "outputs": [],
      "execution_count": 26,
      "metadata": {
        "execution": {
          "iopub.status.busy": "2024-06-02T23:01:37.203586Z",
          "iopub.execute_input": "2024-06-02T23:01:37.204036Z",
          "iopub.status.idle": "2024-06-02T23:01:37.215534Z",
          "shell.execute_reply.started": "2024-06-02T23:01:37.203996Z",
          "shell.execute_reply": "2024-06-02T23:01:37.214383Z"
        },
        "trusted": true,
        "gather": {
          "logged": 1718633521687
        }
      }
    },
    {
      "cell_type": "code",
      "source": [
        "# Visualização inicial do dataset\n",
        "\n",
        "display(data.head())"
      ],
      "outputs": [
        {
          "output_type": "display_data",
          "data": {
            "text/plain": "   PassengerId  Survived  Pclass  \\\n0            1         0       3   \n2            3         1       3   \n3            4         1       1   \n4            5         0       3   \n5            6         0       3   \n\n                                           Name     Sex       Age  SibSp  \\\n0                       Braund, Mr. Owen Harris    male  0.271174      1   \n2                        Heikkinen, Miss. Laina  female  0.321438      0   \n3  Futrelle, Mrs. Jacques Heath (Lily May Peel)  female  0.434531      1   \n4                      Allen, Mr. William Henry    male  0.434531      0   \n5                              Moran, Mr. James    male  0.346569      0   \n\n   Parch            Ticket      Fare Cabin Embarked  Cabin_Known  \n0      0         A/5 21171  0.046056   NaN        S            0  \n2      0  STON/O2. 3101282  0.050344   NaN        S            0  \n3      0            113803  0.337321  C123        S            1  \n4      0            373450  0.051138   NaN        S            0  \n5      0            330877  0.537318   NaN        Q            0  ",
            "text/html": "<div>\n<style scoped>\n    .dataframe tbody tr th:only-of-type {\n        vertical-align: middle;\n    }\n\n    .dataframe tbody tr th {\n        vertical-align: top;\n    }\n\n    .dataframe thead th {\n        text-align: right;\n    }\n</style>\n<table border=\"1\" class=\"dataframe\">\n  <thead>\n    <tr style=\"text-align: right;\">\n      <th></th>\n      <th>PassengerId</th>\n      <th>Survived</th>\n      <th>Pclass</th>\n      <th>Name</th>\n      <th>Sex</th>\n      <th>Age</th>\n      <th>SibSp</th>\n      <th>Parch</th>\n      <th>Ticket</th>\n      <th>Fare</th>\n      <th>Cabin</th>\n      <th>Embarked</th>\n      <th>Cabin_Known</th>\n    </tr>\n  </thead>\n  <tbody>\n    <tr>\n      <th>0</th>\n      <td>1</td>\n      <td>0</td>\n      <td>3</td>\n      <td>Braund, Mr. Owen Harris</td>\n      <td>male</td>\n      <td>0.271174</td>\n      <td>1</td>\n      <td>0</td>\n      <td>A/5 21171</td>\n      <td>0.046056</td>\n      <td>NaN</td>\n      <td>S</td>\n      <td>0</td>\n    </tr>\n    <tr>\n      <th>2</th>\n      <td>3</td>\n      <td>1</td>\n      <td>3</td>\n      <td>Heikkinen, Miss. Laina</td>\n      <td>female</td>\n      <td>0.321438</td>\n      <td>0</td>\n      <td>0</td>\n      <td>STON/O2. 3101282</td>\n      <td>0.050344</td>\n      <td>NaN</td>\n      <td>S</td>\n      <td>0</td>\n    </tr>\n    <tr>\n      <th>3</th>\n      <td>4</td>\n      <td>1</td>\n      <td>1</td>\n      <td>Futrelle, Mrs. Jacques Heath (Lily May Peel)</td>\n      <td>female</td>\n      <td>0.434531</td>\n      <td>1</td>\n      <td>0</td>\n      <td>113803</td>\n      <td>0.337321</td>\n      <td>C123</td>\n      <td>S</td>\n      <td>1</td>\n    </tr>\n    <tr>\n      <th>4</th>\n      <td>5</td>\n      <td>0</td>\n      <td>3</td>\n      <td>Allen, Mr. William Henry</td>\n      <td>male</td>\n      <td>0.434531</td>\n      <td>0</td>\n      <td>0</td>\n      <td>373450</td>\n      <td>0.051138</td>\n      <td>NaN</td>\n      <td>S</td>\n      <td>0</td>\n    </tr>\n    <tr>\n      <th>5</th>\n      <td>6</td>\n      <td>0</td>\n      <td>3</td>\n      <td>Moran, Mr. James</td>\n      <td>male</td>\n      <td>0.346569</td>\n      <td>0</td>\n      <td>0</td>\n      <td>330877</td>\n      <td>0.537318</td>\n      <td>NaN</td>\n      <td>Q</td>\n      <td>0</td>\n    </tr>\n  </tbody>\n</table>\n</div>"
          },
          "metadata": {}
        }
      ],
      "execution_count": 27,
      "metadata": {
        "execution": {
          "iopub.status.busy": "2024-06-02T23:01:37.216934Z",
          "iopub.execute_input": "2024-06-02T23:01:37.218171Z",
          "iopub.status.idle": "2024-06-02T23:01:37.235086Z",
          "shell.execute_reply.started": "2024-06-02T23:01:37.218136Z",
          "shell.execute_reply": "2024-06-02T23:01:37.233660Z"
        },
        "trusted": true,
        "gather": {
          "logged": 1718633522080
        }
      }
    },
    {
      "cell_type": "code",
      "source": [
        "# Visualização inicial do dataset\n",
        "\n",
        "display(data_final.head())"
      ],
      "outputs": [
        {
          "output_type": "display_data",
          "data": {
            "text/plain": "   onehot__Embarked_C  onehot__Embarked_Q  onehot__Embarked_S  \\\n0                 0.0                 0.0                 1.0   \n1                 0.0                 0.0                 1.0   \n2                 0.0                 0.0                 1.0   \n3                 0.0                 0.0                 1.0   \n4                 0.0                 1.0                 0.0   \n\n   onehot__Sex_female  onehot__Sex_male  onehot__Pclass_1  onehot__Pclass_2  \\\n0                 0.0               1.0               0.0               0.0   \n1                 1.0               0.0               0.0               0.0   \n2                 1.0               0.0               1.0               0.0   \n3                 0.0               1.0               0.0               0.0   \n4                 0.0               1.0               0.0               0.0   \n\n   onehot__Pclass_3  remainder__PassengerId  remainder__Survived  \\\n0               1.0                       1                    0   \n1               1.0                       3                    1   \n2               0.0                       4                    1   \n3               1.0                       5                    0   \n4               1.0                       6                    0   \n\n                                remainder__Name  remainder__Age  \\\n0                       Braund, Mr. Owen Harris        0.271174   \n1                        Heikkinen, Miss. Laina        0.321438   \n2  Futrelle, Mrs. Jacques Heath (Lily May Peel)        0.434531   \n3                      Allen, Mr. William Henry        0.434531   \n4                              Moran, Mr. James        0.346569   \n\n   remainder__SibSp  remainder__Parch remainder__Ticket  remainder__Fare  \\\n0                 1                 0         A/5 21171         0.046056   \n1                 0                 0  STON/O2. 3101282         0.050344   \n2                 1                 0            113803         0.337321   \n3                 0                 0            373450         0.051138   \n4                 0                 0            330877         0.537318   \n\n  remainder__Cabin  remainder__Cabin_Known  \n0              NaN                       0  \n1              NaN                       0  \n2             C123                       1  \n3              NaN                       0  \n4              NaN                       0  ",
            "text/html": "<div>\n<style scoped>\n    .dataframe tbody tr th:only-of-type {\n        vertical-align: middle;\n    }\n\n    .dataframe tbody tr th {\n        vertical-align: top;\n    }\n\n    .dataframe thead th {\n        text-align: right;\n    }\n</style>\n<table border=\"1\" class=\"dataframe\">\n  <thead>\n    <tr style=\"text-align: right;\">\n      <th></th>\n      <th>onehot__Embarked_C</th>\n      <th>onehot__Embarked_Q</th>\n      <th>onehot__Embarked_S</th>\n      <th>onehot__Sex_female</th>\n      <th>onehot__Sex_male</th>\n      <th>onehot__Pclass_1</th>\n      <th>onehot__Pclass_2</th>\n      <th>onehot__Pclass_3</th>\n      <th>remainder__PassengerId</th>\n      <th>remainder__Survived</th>\n      <th>remainder__Name</th>\n      <th>remainder__Age</th>\n      <th>remainder__SibSp</th>\n      <th>remainder__Parch</th>\n      <th>remainder__Ticket</th>\n      <th>remainder__Fare</th>\n      <th>remainder__Cabin</th>\n      <th>remainder__Cabin_Known</th>\n    </tr>\n  </thead>\n  <tbody>\n    <tr>\n      <th>0</th>\n      <td>0.0</td>\n      <td>0.0</td>\n      <td>1.0</td>\n      <td>0.0</td>\n      <td>1.0</td>\n      <td>0.0</td>\n      <td>0.0</td>\n      <td>1.0</td>\n      <td>1</td>\n      <td>0</td>\n      <td>Braund, Mr. Owen Harris</td>\n      <td>0.271174</td>\n      <td>1</td>\n      <td>0</td>\n      <td>A/5 21171</td>\n      <td>0.046056</td>\n      <td>NaN</td>\n      <td>0</td>\n    </tr>\n    <tr>\n      <th>1</th>\n      <td>0.0</td>\n      <td>0.0</td>\n      <td>1.0</td>\n      <td>1.0</td>\n      <td>0.0</td>\n      <td>0.0</td>\n      <td>0.0</td>\n      <td>1.0</td>\n      <td>3</td>\n      <td>1</td>\n      <td>Heikkinen, Miss. Laina</td>\n      <td>0.321438</td>\n      <td>0</td>\n      <td>0</td>\n      <td>STON/O2. 3101282</td>\n      <td>0.050344</td>\n      <td>NaN</td>\n      <td>0</td>\n    </tr>\n    <tr>\n      <th>2</th>\n      <td>0.0</td>\n      <td>0.0</td>\n      <td>1.0</td>\n      <td>1.0</td>\n      <td>0.0</td>\n      <td>1.0</td>\n      <td>0.0</td>\n      <td>0.0</td>\n      <td>4</td>\n      <td>1</td>\n      <td>Futrelle, Mrs. Jacques Heath (Lily May Peel)</td>\n      <td>0.434531</td>\n      <td>1</td>\n      <td>0</td>\n      <td>113803</td>\n      <td>0.337321</td>\n      <td>C123</td>\n      <td>1</td>\n    </tr>\n    <tr>\n      <th>3</th>\n      <td>0.0</td>\n      <td>0.0</td>\n      <td>1.0</td>\n      <td>0.0</td>\n      <td>1.0</td>\n      <td>0.0</td>\n      <td>0.0</td>\n      <td>1.0</td>\n      <td>5</td>\n      <td>0</td>\n      <td>Allen, Mr. William Henry</td>\n      <td>0.434531</td>\n      <td>0</td>\n      <td>0</td>\n      <td>373450</td>\n      <td>0.051138</td>\n      <td>NaN</td>\n      <td>0</td>\n    </tr>\n    <tr>\n      <th>4</th>\n      <td>0.0</td>\n      <td>1.0</td>\n      <td>0.0</td>\n      <td>0.0</td>\n      <td>1.0</td>\n      <td>0.0</td>\n      <td>0.0</td>\n      <td>1.0</td>\n      <td>6</td>\n      <td>0</td>\n      <td>Moran, Mr. James</td>\n      <td>0.346569</td>\n      <td>0</td>\n      <td>0</td>\n      <td>330877</td>\n      <td>0.537318</td>\n      <td>NaN</td>\n      <td>0</td>\n    </tr>\n  </tbody>\n</table>\n</div>"
          },
          "metadata": {}
        }
      ],
      "execution_count": 28,
      "metadata": {
        "execution": {
          "iopub.status.busy": "2024-06-02T23:01:37.245439Z",
          "iopub.execute_input": "2024-06-02T23:01:37.245812Z",
          "iopub.status.idle": "2024-06-02T23:01:37.270470Z",
          "shell.execute_reply.started": "2024-06-02T23:01:37.245785Z",
          "shell.execute_reply": "2024-06-02T23:01:37.269529Z"
        },
        "trusted": true,
        "gather": {
          "logged": 1718633523094
        }
      }
    },
    {
      "cell_type": "code",
      "source": [
        "# Identificar as colunas numéricas a serem padronizadas.\n",
        "# Lista de colunas numéricas para padronizar\n",
        " \n",
        "numeric_features = ['Age', 'Fare', 'SibSp', 'Parch']\n",
        "\n",
        "# Criar um transformador para padronização utilizando StandardScaler.\n",
        " \n",
        "numeric_transformer = StandardScaler()\n",
        "\n",
        "# Identificar as colunas categóricas.\n",
        "# Criar um transformador para codificação utilizando OneHotEncoder, com drop='first' para evitar multicolinearidade.\n",
        " \n",
        "categorical_features = ['Sex', 'Embarked', 'Pclass', 'Cabin_Known']\n",
        "categorical_transformer = OneHotEncoder(drop='first')  # 'drop' evita a multicolinearidade"
      ],
      "outputs": [],
      "execution_count": 29,
      "metadata": {
        "execution": {
          "iopub.status.busy": "2024-06-02T23:01:37.271556Z",
          "iopub.execute_input": "2024-06-02T23:01:37.272729Z",
          "iopub.status.idle": "2024-06-02T23:01:37.283860Z",
          "shell.execute_reply.started": "2024-06-02T23:01:37.272694Z",
          "shell.execute_reply": "2024-06-02T23:01:37.282524Z"
        },
        "trusted": true,
        "gather": {
          "logged": 1718633523517
        }
      }
    },
    {
      "cell_type": "code",
      "source": [
        "# Criando o transformador de colunas para aplicar as transformações apropriadas\n",
        "# Objetivo: Aplicar as transformações apropriadas às colunas numéricas e categóricas de forma organizada e eficiente.\n",
        "# Ação: Utilizar ColumnTransformer para combinar os transformadores numérico e categórico.\n",
        "\n",
        "preprocessor = ColumnTransformer(\n",
        "    transformers=[\n",
        "        ('num', numeric_transformer, numeric_features),\n",
        "        ('cat', categorical_transformer, categorical_features)\n",
        "    ])"
      ],
      "outputs": [],
      "execution_count": 30,
      "metadata": {
        "execution": {
          "iopub.status.busy": "2024-06-02T23:01:37.285536Z",
          "iopub.execute_input": "2024-06-02T23:01:37.286324Z",
          "iopub.status.idle": "2024-06-02T23:01:37.296797Z",
          "shell.execute_reply.started": "2024-06-02T23:01:37.286279Z",
          "shell.execute_reply": "2024-06-02T23:01:37.295712Z"
        },
        "trusted": true,
        "gather": {
          "logged": 1718633523875
        }
      }
    },
    {
      "cell_type": "code",
      "source": [
        "# Visualização inicial do dataset\n",
        "\n",
        "display(data.head())"
      ],
      "outputs": [
        {
          "output_type": "display_data",
          "data": {
            "text/plain": "   PassengerId  Survived  Pclass  \\\n0            1         0       3   \n2            3         1       3   \n3            4         1       1   \n4            5         0       3   \n5            6         0       3   \n\n                                           Name     Sex       Age  SibSp  \\\n0                       Braund, Mr. Owen Harris    male  0.271174      1   \n2                        Heikkinen, Miss. Laina  female  0.321438      0   \n3  Futrelle, Mrs. Jacques Heath (Lily May Peel)  female  0.434531      1   \n4                      Allen, Mr. William Henry    male  0.434531      0   \n5                              Moran, Mr. James    male  0.346569      0   \n\n   Parch            Ticket      Fare Cabin Embarked  Cabin_Known  \n0      0         A/5 21171  0.046056   NaN        S            0  \n2      0  STON/O2. 3101282  0.050344   NaN        S            0  \n3      0            113803  0.337321  C123        S            1  \n4      0            373450  0.051138   NaN        S            0  \n5      0            330877  0.537318   NaN        Q            0  ",
            "text/html": "<div>\n<style scoped>\n    .dataframe tbody tr th:only-of-type {\n        vertical-align: middle;\n    }\n\n    .dataframe tbody tr th {\n        vertical-align: top;\n    }\n\n    .dataframe thead th {\n        text-align: right;\n    }\n</style>\n<table border=\"1\" class=\"dataframe\">\n  <thead>\n    <tr style=\"text-align: right;\">\n      <th></th>\n      <th>PassengerId</th>\n      <th>Survived</th>\n      <th>Pclass</th>\n      <th>Name</th>\n      <th>Sex</th>\n      <th>Age</th>\n      <th>SibSp</th>\n      <th>Parch</th>\n      <th>Ticket</th>\n      <th>Fare</th>\n      <th>Cabin</th>\n      <th>Embarked</th>\n      <th>Cabin_Known</th>\n    </tr>\n  </thead>\n  <tbody>\n    <tr>\n      <th>0</th>\n      <td>1</td>\n      <td>0</td>\n      <td>3</td>\n      <td>Braund, Mr. Owen Harris</td>\n      <td>male</td>\n      <td>0.271174</td>\n      <td>1</td>\n      <td>0</td>\n      <td>A/5 21171</td>\n      <td>0.046056</td>\n      <td>NaN</td>\n      <td>S</td>\n      <td>0</td>\n    </tr>\n    <tr>\n      <th>2</th>\n      <td>3</td>\n      <td>1</td>\n      <td>3</td>\n      <td>Heikkinen, Miss. Laina</td>\n      <td>female</td>\n      <td>0.321438</td>\n      <td>0</td>\n      <td>0</td>\n      <td>STON/O2. 3101282</td>\n      <td>0.050344</td>\n      <td>NaN</td>\n      <td>S</td>\n      <td>0</td>\n    </tr>\n    <tr>\n      <th>3</th>\n      <td>4</td>\n      <td>1</td>\n      <td>1</td>\n      <td>Futrelle, Mrs. Jacques Heath (Lily May Peel)</td>\n      <td>female</td>\n      <td>0.434531</td>\n      <td>1</td>\n      <td>0</td>\n      <td>113803</td>\n      <td>0.337321</td>\n      <td>C123</td>\n      <td>S</td>\n      <td>1</td>\n    </tr>\n    <tr>\n      <th>4</th>\n      <td>5</td>\n      <td>0</td>\n      <td>3</td>\n      <td>Allen, Mr. William Henry</td>\n      <td>male</td>\n      <td>0.434531</td>\n      <td>0</td>\n      <td>0</td>\n      <td>373450</td>\n      <td>0.051138</td>\n      <td>NaN</td>\n      <td>S</td>\n      <td>0</td>\n    </tr>\n    <tr>\n      <th>5</th>\n      <td>6</td>\n      <td>0</td>\n      <td>3</td>\n      <td>Moran, Mr. James</td>\n      <td>male</td>\n      <td>0.346569</td>\n      <td>0</td>\n      <td>0</td>\n      <td>330877</td>\n      <td>0.537318</td>\n      <td>NaN</td>\n      <td>Q</td>\n      <td>0</td>\n    </tr>\n  </tbody>\n</table>\n</div>"
          },
          "metadata": {}
        }
      ],
      "execution_count": 31,
      "metadata": {
        "execution": {
          "iopub.status.busy": "2024-06-02T23:01:37.298458Z",
          "iopub.execute_input": "2024-06-02T23:01:37.299478Z",
          "iopub.status.idle": "2024-06-02T23:01:37.320583Z",
          "shell.execute_reply.started": "2024-06-02T23:01:37.299445Z",
          "shell.execute_reply": "2024-06-02T23:01:37.319628Z"
        },
        "trusted": true,
        "gather": {
          "logged": 1718633524294
        }
      }
    },
    {
      "cell_type": "code",
      "source": [
        "# Colunas presentes no Data Frame\n",
        "\n",
        "data_final.columns"
      ],
      "outputs": [
        {
          "output_type": "execute_result",
          "execution_count": 32,
          "data": {
            "text/plain": "Index(['onehot__Embarked_C', 'onehot__Embarked_Q', 'onehot__Embarked_S',\n       'onehot__Sex_female', 'onehot__Sex_male', 'onehot__Pclass_1',\n       'onehot__Pclass_2', 'onehot__Pclass_3', 'remainder__PassengerId',\n       'remainder__Survived', 'remainder__Name', 'remainder__Age',\n       'remainder__SibSp', 'remainder__Parch', 'remainder__Ticket',\n       'remainder__Fare', 'remainder__Cabin', 'remainder__Cabin_Known'],\n      dtype='object')"
          },
          "metadata": {}
        }
      ],
      "execution_count": 32,
      "metadata": {
        "execution": {
          "iopub.status.busy": "2024-06-02T23:01:37.322240Z",
          "iopub.execute_input": "2024-06-02T23:01:37.322665Z",
          "iopub.status.idle": "2024-06-02T23:01:37.340306Z",
          "shell.execute_reply.started": "2024-06-02T23:01:37.322633Z",
          "shell.execute_reply": "2024-06-02T23:01:37.338855Z"
        },
        "trusted": true,
        "gather": {
          "logged": 1718633524731
        }
      }
    },
    {
      "cell_type": "code",
      "source": [
        "# Aplicando o pré-processador ao dataset\n",
        "# Objetivo: Transformar o dataset aplicando as padronizações e codificações definidas.\n",
        "# Ação: Aplicar o transformador de colunas ao dataset.\n",
        " \n",
        "X_transformed = preprocessor.fit_transform(data)"
      ],
      "outputs": [],
      "execution_count": 33,
      "metadata": {
        "execution": {
          "iopub.status.busy": "2024-06-02T23:01:37.341606Z",
          "iopub.execute_input": "2024-06-02T23:01:37.342020Z",
          "iopub.status.idle": "2024-06-02T23:01:37.362383Z",
          "shell.execute_reply.started": "2024-06-02T23:01:37.341928Z",
          "shell.execute_reply": "2024-06-02T23:01:37.361285Z"
        },
        "trusted": true,
        "gather": {
          "logged": 1718633525139
        }
      }
    },
    {
      "cell_type": "code",
      "source": [
        "# Para uso posterior em modelos, transformar a saída em um DataFrame\n",
        "# Objetivo: Converter a saída transformada em um DataFrame para facilitar a manipulação e visualização.\n",
        "\n",
        "# Obter os nomes das colunas das variáveis categóricas após a transformação.\n",
        "# Combinar os nomes das colunas numéricas com as colunas categóricas codificadas.\n",
        "# Criar um DataFrame com os dados transformados e os nomes das colunas.\n",
        "\n",
        "# Obtendo os nomes das colunas das variáveis categóricas após a transformação\n",
        "encoded_cat_columns = preprocessor.named_transformers_['cat'].get_feature_names_out(input_features=categorical_features)\n",
        "\n",
        "# Juntando os nomes das colunas das variáveis numéricas com as colunas codificadas das variáveis categóricas\n",
        "column_names = list(numeric_features) + list(encoded_cat_columns)\n",
        "\n",
        "# Criando um DataFrame com os dados transformados e os nomes das colunas\n",
        "X_transformed_df = pd.DataFrame(X_transformed, columns=column_names)\n"
      ],
      "outputs": [],
      "execution_count": 34,
      "metadata": {
        "execution": {
          "iopub.status.busy": "2024-06-02T23:01:37.363909Z",
          "iopub.execute_input": "2024-06-02T23:01:37.364291Z",
          "iopub.status.idle": "2024-06-02T23:01:37.372078Z",
          "shell.execute_reply.started": "2024-06-02T23:01:37.364259Z",
          "shell.execute_reply": "2024-06-02T23:01:37.371057Z"
        },
        "trusted": true,
        "gather": {
          "logged": 1718633525518
        }
      }
    },
    {
      "cell_type": "code",
      "source": [
        "# Mostrando as primeiras linhas do DataFrame transformado\n",
        "\n",
        "print(X_transformed_df.head())"
      ],
      "outputs": [
        {
          "output_type": "stream",
          "name": "stdout",
          "text": "        Age      Fare     SibSp     Parch  Sex_male  Embarked_Q  Embarked_S  \\\n0 -0.566558 -0.868744  0.495523 -0.443419       1.0         0.0         1.0   \n1 -0.245813 -0.850561 -0.434774 -0.443419       0.0         0.0         1.0   \n2  0.475864  0.366370  0.495523 -0.443419       0.0         0.0         1.0   \n3  0.475864 -0.847194 -0.434774 -0.443419       1.0         0.0         1.0   \n4 -0.085440  1.214463 -0.434774 -0.443419       1.0         1.0         0.0   \n\n   Pclass_2  Pclass_3  Cabin_Known_1  \n0       0.0       1.0            0.0  \n1       0.0       1.0            0.0  \n2       0.0       0.0            1.0  \n3       0.0       1.0            0.0  \n4       0.0       1.0            0.0  \n"
        }
      ],
      "execution_count": 35,
      "metadata": {
        "execution": {
          "iopub.status.busy": "2024-06-02T23:01:37.373487Z",
          "iopub.execute_input": "2024-06-02T23:01:37.374162Z",
          "iopub.status.idle": "2024-06-02T23:01:37.391638Z",
          "shell.execute_reply.started": "2024-06-02T23:01:37.374131Z",
          "shell.execute_reply": "2024-06-02T23:01:37.390523Z"
        },
        "trusted": true,
        "gather": {
          "logged": 1718633525904
        }
      }
    },
    {
      "cell_type": "code",
      "source": [
        "# Listar os nomes das colunas do DataFrame.\n",
        "\n",
        "data_final.columns"
      ],
      "outputs": [
        {
          "output_type": "execute_result",
          "execution_count": 36,
          "data": {
            "text/plain": "Index(['onehot__Embarked_C', 'onehot__Embarked_Q', 'onehot__Embarked_S',\n       'onehot__Sex_female', 'onehot__Sex_male', 'onehot__Pclass_1',\n       'onehot__Pclass_2', 'onehot__Pclass_3', 'remainder__PassengerId',\n       'remainder__Survived', 'remainder__Name', 'remainder__Age',\n       'remainder__SibSp', 'remainder__Parch', 'remainder__Ticket',\n       'remainder__Fare', 'remainder__Cabin', 'remainder__Cabin_Known'],\n      dtype='object')"
          },
          "metadata": {}
        }
      ],
      "execution_count": 36,
      "metadata": {
        "execution": {
          "iopub.status.busy": "2024-06-02T23:01:37.393064Z",
          "iopub.execute_input": "2024-06-02T23:01:37.394118Z",
          "iopub.status.idle": "2024-06-02T23:01:37.408367Z",
          "shell.execute_reply.started": "2024-06-02T23:01:37.394082Z",
          "shell.execute_reply": "2024-06-02T23:01:37.407111Z"
        },
        "trusted": true,
        "gather": {
          "logged": 1718633526351
        }
      }
    },
    {
      "cell_type": "markdown",
      "source": [
        "# Feature Engineering:\n",
        "\n",
        "A engenharia de recursos envolve a criação de novos atributos que podem nos ajudar nos modelos e a entender melhor os padrões nos dados. Para criação de novos atributos fizemos os seguintes passos:\n",
        "* Tamanho da Família:\n",
        "Combinar SibSp (número de irmãos ou cônjuge a bordo) e Parch (número de pais ou filhos a bordo) para formar um novo atributo chamado Family_Size."
      ],
      "metadata": {}
    },
    {
      "cell_type": "code",
      "source": [
        "# Visualização inicial do dataset\n",
        "data.head()"
      ],
      "outputs": [
        {
          "output_type": "execute_result",
          "execution_count": 37,
          "data": {
            "text/plain": "   PassengerId  Survived  Pclass  \\\n0            1         0       3   \n2            3         1       3   \n3            4         1       1   \n4            5         0       3   \n5            6         0       3   \n\n                                           Name     Sex       Age  SibSp  \\\n0                       Braund, Mr. Owen Harris    male  0.271174      1   \n2                        Heikkinen, Miss. Laina  female  0.321438      0   \n3  Futrelle, Mrs. Jacques Heath (Lily May Peel)  female  0.434531      1   \n4                      Allen, Mr. William Henry    male  0.434531      0   \n5                              Moran, Mr. James    male  0.346569      0   \n\n   Parch            Ticket      Fare Cabin Embarked  Cabin_Known  \n0      0         A/5 21171  0.046056   NaN        S            0  \n2      0  STON/O2. 3101282  0.050344   NaN        S            0  \n3      0            113803  0.337321  C123        S            1  \n4      0            373450  0.051138   NaN        S            0  \n5      0            330877  0.537318   NaN        Q            0  ",
            "text/html": "<div>\n<style scoped>\n    .dataframe tbody tr th:only-of-type {\n        vertical-align: middle;\n    }\n\n    .dataframe tbody tr th {\n        vertical-align: top;\n    }\n\n    .dataframe thead th {\n        text-align: right;\n    }\n</style>\n<table border=\"1\" class=\"dataframe\">\n  <thead>\n    <tr style=\"text-align: right;\">\n      <th></th>\n      <th>PassengerId</th>\n      <th>Survived</th>\n      <th>Pclass</th>\n      <th>Name</th>\n      <th>Sex</th>\n      <th>Age</th>\n      <th>SibSp</th>\n      <th>Parch</th>\n      <th>Ticket</th>\n      <th>Fare</th>\n      <th>Cabin</th>\n      <th>Embarked</th>\n      <th>Cabin_Known</th>\n    </tr>\n  </thead>\n  <tbody>\n    <tr>\n      <th>0</th>\n      <td>1</td>\n      <td>0</td>\n      <td>3</td>\n      <td>Braund, Mr. Owen Harris</td>\n      <td>male</td>\n      <td>0.271174</td>\n      <td>1</td>\n      <td>0</td>\n      <td>A/5 21171</td>\n      <td>0.046056</td>\n      <td>NaN</td>\n      <td>S</td>\n      <td>0</td>\n    </tr>\n    <tr>\n      <th>2</th>\n      <td>3</td>\n      <td>1</td>\n      <td>3</td>\n      <td>Heikkinen, Miss. Laina</td>\n      <td>female</td>\n      <td>0.321438</td>\n      <td>0</td>\n      <td>0</td>\n      <td>STON/O2. 3101282</td>\n      <td>0.050344</td>\n      <td>NaN</td>\n      <td>S</td>\n      <td>0</td>\n    </tr>\n    <tr>\n      <th>3</th>\n      <td>4</td>\n      <td>1</td>\n      <td>1</td>\n      <td>Futrelle, Mrs. Jacques Heath (Lily May Peel)</td>\n      <td>female</td>\n      <td>0.434531</td>\n      <td>1</td>\n      <td>0</td>\n      <td>113803</td>\n      <td>0.337321</td>\n      <td>C123</td>\n      <td>S</td>\n      <td>1</td>\n    </tr>\n    <tr>\n      <th>4</th>\n      <td>5</td>\n      <td>0</td>\n      <td>3</td>\n      <td>Allen, Mr. William Henry</td>\n      <td>male</td>\n      <td>0.434531</td>\n      <td>0</td>\n      <td>0</td>\n      <td>373450</td>\n      <td>0.051138</td>\n      <td>NaN</td>\n      <td>S</td>\n      <td>0</td>\n    </tr>\n    <tr>\n      <th>5</th>\n      <td>6</td>\n      <td>0</td>\n      <td>3</td>\n      <td>Moran, Mr. James</td>\n      <td>male</td>\n      <td>0.346569</td>\n      <td>0</td>\n      <td>0</td>\n      <td>330877</td>\n      <td>0.537318</td>\n      <td>NaN</td>\n      <td>Q</td>\n      <td>0</td>\n    </tr>\n  </tbody>\n</table>\n</div>"
          },
          "metadata": {}
        }
      ],
      "execution_count": 37,
      "metadata": {
        "execution": {
          "iopub.status.busy": "2024-06-02T23:01:37.409890Z",
          "iopub.execute_input": "2024-06-02T23:01:37.411112Z",
          "iopub.status.idle": "2024-06-02T23:01:37.431597Z",
          "shell.execute_reply.started": "2024-06-02T23:01:37.410932Z",
          "shell.execute_reply": "2024-06-02T23:01:37.430119Z"
        },
        "trusted": true,
        "gather": {
          "logged": 1718633526812
        }
      }
    },
    {
      "cell_type": "code",
      "source": [
        "# Objetivo: Extrair títulos (Sr., Sra., Miss, etc.) dos nomes dos passageiros como um indicador de status social, gênero e estado civil.\n",
        "# Racional: Títulos podem fornecer informações valiosas sobre o passageiro que não estão explícitas em outros atributos.\n",
        "# Ação: Utilizar a função apply e manipulação de strings para extrair o título do nome completo.\n",
        "\n",
        "data['Title'] = data['Name'].apply(lambda x: x.split(',')[1].split('.')[0].strip())"
      ],
      "outputs": [],
      "execution_count": 38,
      "metadata": {
        "execution": {
          "iopub.status.busy": "2024-06-02T23:01:37.433162Z",
          "iopub.execute_input": "2024-06-02T23:01:37.434084Z",
          "iopub.status.idle": "2024-06-02T23:01:37.445569Z",
          "shell.execute_reply.started": "2024-06-02T23:01:37.434051Z",
          "shell.execute_reply": "2024-06-02T23:01:37.444270Z"
        },
        "trusted": true,
        "gather": {
          "logged": 1718633527213
        }
      }
    },
    {
      "cell_type": "code",
      "source": [
        "# Visualização inicial do dataset\n",
        "\n",
        "display(data.head())"
      ],
      "outputs": [
        {
          "output_type": "display_data",
          "data": {
            "text/plain": "   PassengerId  Survived  Pclass  \\\n0            1         0       3   \n2            3         1       3   \n3            4         1       1   \n4            5         0       3   \n5            6         0       3   \n\n                                           Name     Sex       Age  SibSp  \\\n0                       Braund, Mr. Owen Harris    male  0.271174      1   \n2                        Heikkinen, Miss. Laina  female  0.321438      0   \n3  Futrelle, Mrs. Jacques Heath (Lily May Peel)  female  0.434531      1   \n4                      Allen, Mr. William Henry    male  0.434531      0   \n5                              Moran, Mr. James    male  0.346569      0   \n\n   Parch            Ticket      Fare Cabin Embarked  Cabin_Known Title  \n0      0         A/5 21171  0.046056   NaN        S            0    Mr  \n2      0  STON/O2. 3101282  0.050344   NaN        S            0  Miss  \n3      0            113803  0.337321  C123        S            1   Mrs  \n4      0            373450  0.051138   NaN        S            0    Mr  \n5      0            330877  0.537318   NaN        Q            0    Mr  ",
            "text/html": "<div>\n<style scoped>\n    .dataframe tbody tr th:only-of-type {\n        vertical-align: middle;\n    }\n\n    .dataframe tbody tr th {\n        vertical-align: top;\n    }\n\n    .dataframe thead th {\n        text-align: right;\n    }\n</style>\n<table border=\"1\" class=\"dataframe\">\n  <thead>\n    <tr style=\"text-align: right;\">\n      <th></th>\n      <th>PassengerId</th>\n      <th>Survived</th>\n      <th>Pclass</th>\n      <th>Name</th>\n      <th>Sex</th>\n      <th>Age</th>\n      <th>SibSp</th>\n      <th>Parch</th>\n      <th>Ticket</th>\n      <th>Fare</th>\n      <th>Cabin</th>\n      <th>Embarked</th>\n      <th>Cabin_Known</th>\n      <th>Title</th>\n    </tr>\n  </thead>\n  <tbody>\n    <tr>\n      <th>0</th>\n      <td>1</td>\n      <td>0</td>\n      <td>3</td>\n      <td>Braund, Mr. Owen Harris</td>\n      <td>male</td>\n      <td>0.271174</td>\n      <td>1</td>\n      <td>0</td>\n      <td>A/5 21171</td>\n      <td>0.046056</td>\n      <td>NaN</td>\n      <td>S</td>\n      <td>0</td>\n      <td>Mr</td>\n    </tr>\n    <tr>\n      <th>2</th>\n      <td>3</td>\n      <td>1</td>\n      <td>3</td>\n      <td>Heikkinen, Miss. Laina</td>\n      <td>female</td>\n      <td>0.321438</td>\n      <td>0</td>\n      <td>0</td>\n      <td>STON/O2. 3101282</td>\n      <td>0.050344</td>\n      <td>NaN</td>\n      <td>S</td>\n      <td>0</td>\n      <td>Miss</td>\n    </tr>\n    <tr>\n      <th>3</th>\n      <td>4</td>\n      <td>1</td>\n      <td>1</td>\n      <td>Futrelle, Mrs. Jacques Heath (Lily May Peel)</td>\n      <td>female</td>\n      <td>0.434531</td>\n      <td>1</td>\n      <td>0</td>\n      <td>113803</td>\n      <td>0.337321</td>\n      <td>C123</td>\n      <td>S</td>\n      <td>1</td>\n      <td>Mrs</td>\n    </tr>\n    <tr>\n      <th>4</th>\n      <td>5</td>\n      <td>0</td>\n      <td>3</td>\n      <td>Allen, Mr. William Henry</td>\n      <td>male</td>\n      <td>0.434531</td>\n      <td>0</td>\n      <td>0</td>\n      <td>373450</td>\n      <td>0.051138</td>\n      <td>NaN</td>\n      <td>S</td>\n      <td>0</td>\n      <td>Mr</td>\n    </tr>\n    <tr>\n      <th>5</th>\n      <td>6</td>\n      <td>0</td>\n      <td>3</td>\n      <td>Moran, Mr. James</td>\n      <td>male</td>\n      <td>0.346569</td>\n      <td>0</td>\n      <td>0</td>\n      <td>330877</td>\n      <td>0.537318</td>\n      <td>NaN</td>\n      <td>Q</td>\n      <td>0</td>\n      <td>Mr</td>\n    </tr>\n  </tbody>\n</table>\n</div>"
          },
          "metadata": {}
        }
      ],
      "execution_count": 39,
      "metadata": {
        "execution": {
          "iopub.status.busy": "2024-06-02T23:01:37.447086Z",
          "iopub.execute_input": "2024-06-02T23:01:37.447728Z",
          "iopub.status.idle": "2024-06-02T23:01:37.469398Z",
          "shell.execute_reply.started": "2024-06-02T23:01:37.447679Z",
          "shell.execute_reply": "2024-06-02T23:01:37.468169Z"
        },
        "trusted": true,
        "gather": {
          "logged": 1718633527903
        }
      }
    },
    {
      "cell_type": "code",
      "source": [
        "# Objetivo: Combinar os atributos SibSp (número de irmãos ou cônjuge a bordo) e Parch (número de pais ou filhos a bordo) para formar um novo atributo que representa o tamanho total da família do passageiro.\n",
        "# Racional: Passageiros com famílias maiores podem ter diferentes probabilidades de sobrevivência.\n",
        "# Ação: Somar SibSp, Parch e incluir o próprio passageiro (+1).\n",
        "\n",
        "data['Family_Size'] = data['SibSp'] + data['Parch'] + 1  # Incluindo o próprio passageiro"
      ],
      "outputs": [],
      "execution_count": 40,
      "metadata": {
        "execution": {
          "iopub.status.busy": "2024-06-02T23:01:37.470890Z",
          "iopub.execute_input": "2024-06-02T23:01:37.471262Z",
          "iopub.status.idle": "2024-06-02T23:01:37.484411Z",
          "shell.execute_reply.started": "2024-06-02T23:01:37.471233Z",
          "shell.execute_reply": "2024-06-02T23:01:37.483236Z"
        },
        "trusted": true,
        "gather": {
          "logged": 1718633528322
        }
      }
    },
    {
      "cell_type": "code",
      "source": [
        "# Visualização inicial do dataset\n",
        "\n",
        "display(data.head())"
      ],
      "outputs": [
        {
          "output_type": "display_data",
          "data": {
            "text/plain": "   PassengerId  Survived  Pclass  \\\n0            1         0       3   \n2            3         1       3   \n3            4         1       1   \n4            5         0       3   \n5            6         0       3   \n\n                                           Name     Sex       Age  SibSp  \\\n0                       Braund, Mr. Owen Harris    male  0.271174      1   \n2                        Heikkinen, Miss. Laina  female  0.321438      0   \n3  Futrelle, Mrs. Jacques Heath (Lily May Peel)  female  0.434531      1   \n4                      Allen, Mr. William Henry    male  0.434531      0   \n5                              Moran, Mr. James    male  0.346569      0   \n\n   Parch            Ticket      Fare Cabin Embarked  Cabin_Known Title  \\\n0      0         A/5 21171  0.046056   NaN        S            0    Mr   \n2      0  STON/O2. 3101282  0.050344   NaN        S            0  Miss   \n3      0            113803  0.337321  C123        S            1   Mrs   \n4      0            373450  0.051138   NaN        S            0    Mr   \n5      0            330877  0.537318   NaN        Q            0    Mr   \n\n   Family_Size  \n0            2  \n2            1  \n3            2  \n4            1  \n5            1  ",
            "text/html": "<div>\n<style scoped>\n    .dataframe tbody tr th:only-of-type {\n        vertical-align: middle;\n    }\n\n    .dataframe tbody tr th {\n        vertical-align: top;\n    }\n\n    .dataframe thead th {\n        text-align: right;\n    }\n</style>\n<table border=\"1\" class=\"dataframe\">\n  <thead>\n    <tr style=\"text-align: right;\">\n      <th></th>\n      <th>PassengerId</th>\n      <th>Survived</th>\n      <th>Pclass</th>\n      <th>Name</th>\n      <th>Sex</th>\n      <th>Age</th>\n      <th>SibSp</th>\n      <th>Parch</th>\n      <th>Ticket</th>\n      <th>Fare</th>\n      <th>Cabin</th>\n      <th>Embarked</th>\n      <th>Cabin_Known</th>\n      <th>Title</th>\n      <th>Family_Size</th>\n    </tr>\n  </thead>\n  <tbody>\n    <tr>\n      <th>0</th>\n      <td>1</td>\n      <td>0</td>\n      <td>3</td>\n      <td>Braund, Mr. Owen Harris</td>\n      <td>male</td>\n      <td>0.271174</td>\n      <td>1</td>\n      <td>0</td>\n      <td>A/5 21171</td>\n      <td>0.046056</td>\n      <td>NaN</td>\n      <td>S</td>\n      <td>0</td>\n      <td>Mr</td>\n      <td>2</td>\n    </tr>\n    <tr>\n      <th>2</th>\n      <td>3</td>\n      <td>1</td>\n      <td>3</td>\n      <td>Heikkinen, Miss. Laina</td>\n      <td>female</td>\n      <td>0.321438</td>\n      <td>0</td>\n      <td>0</td>\n      <td>STON/O2. 3101282</td>\n      <td>0.050344</td>\n      <td>NaN</td>\n      <td>S</td>\n      <td>0</td>\n      <td>Miss</td>\n      <td>1</td>\n    </tr>\n    <tr>\n      <th>3</th>\n      <td>4</td>\n      <td>1</td>\n      <td>1</td>\n      <td>Futrelle, Mrs. Jacques Heath (Lily May Peel)</td>\n      <td>female</td>\n      <td>0.434531</td>\n      <td>1</td>\n      <td>0</td>\n      <td>113803</td>\n      <td>0.337321</td>\n      <td>C123</td>\n      <td>S</td>\n      <td>1</td>\n      <td>Mrs</td>\n      <td>2</td>\n    </tr>\n    <tr>\n      <th>4</th>\n      <td>5</td>\n      <td>0</td>\n      <td>3</td>\n      <td>Allen, Mr. William Henry</td>\n      <td>male</td>\n      <td>0.434531</td>\n      <td>0</td>\n      <td>0</td>\n      <td>373450</td>\n      <td>0.051138</td>\n      <td>NaN</td>\n      <td>S</td>\n      <td>0</td>\n      <td>Mr</td>\n      <td>1</td>\n    </tr>\n    <tr>\n      <th>5</th>\n      <td>6</td>\n      <td>0</td>\n      <td>3</td>\n      <td>Moran, Mr. James</td>\n      <td>male</td>\n      <td>0.346569</td>\n      <td>0</td>\n      <td>0</td>\n      <td>330877</td>\n      <td>0.537318</td>\n      <td>NaN</td>\n      <td>Q</td>\n      <td>0</td>\n      <td>Mr</td>\n      <td>1</td>\n    </tr>\n  </tbody>\n</table>\n</div>"
          },
          "metadata": {}
        }
      ],
      "execution_count": 41,
      "metadata": {
        "execution": {
          "iopub.status.busy": "2024-06-02T23:01:37.486032Z",
          "iopub.execute_input": "2024-06-02T23:01:37.486505Z",
          "iopub.status.idle": "2024-06-02T23:01:37.515707Z",
          "shell.execute_reply.started": "2024-06-02T23:01:37.486468Z",
          "shell.execute_reply": "2024-06-02T23:01:37.514792Z"
        },
        "trusted": true,
        "gather": {
          "logged": 1718633528782
        }
      }
    },
    {
      "cell_type": "code",
      "source": [
        "# Objetivo: Converter a idade contínua em categorias discretas que podem capturar melhor variações não lineares relacionadas a diferentes faixas etárias.\n",
        "# Racional: Diferentes grupos etários podem ter diferentes probabilidades de sobrevivência e comportamentos.\n",
        "# Ação: Definir intervalos (bins) para as faixas etárias e atribuir rótulos correspondentes a esses intervalos.\n",
        "\n",
        "bins = [0, 12, 20, 40, 60, 80, 100]\n",
        "labels = ['Child', 'Teen', 'Adult', 'Middle_Aged', 'Senior', 'Elderly']\n",
        "data['Age_Group'] = pd.cut(data['Age'], bins=bins, labels=labels, right=False)"
      ],
      "outputs": [],
      "execution_count": 42,
      "metadata": {
        "execution": {
          "iopub.status.busy": "2024-06-02T23:01:37.517204Z",
          "iopub.execute_input": "2024-06-02T23:01:37.517776Z",
          "iopub.status.idle": "2024-06-02T23:01:37.529464Z",
          "shell.execute_reply.started": "2024-06-02T23:01:37.517740Z",
          "shell.execute_reply": "2024-06-02T23:01:37.528600Z"
        },
        "trusted": true,
        "gather": {
          "logged": 1718633529181
        }
      }
    },
    {
      "cell_type": "code",
      "source": [
        "# Visualização inicial do dataset\n",
        "\n",
        "display(data.head())"
      ],
      "outputs": [
        {
          "output_type": "display_data",
          "data": {
            "text/plain": "   PassengerId  Survived  Pclass  \\\n0            1         0       3   \n2            3         1       3   \n3            4         1       1   \n4            5         0       3   \n5            6         0       3   \n\n                                           Name     Sex       Age  SibSp  \\\n0                       Braund, Mr. Owen Harris    male  0.271174      1   \n2                        Heikkinen, Miss. Laina  female  0.321438      0   \n3  Futrelle, Mrs. Jacques Heath (Lily May Peel)  female  0.434531      1   \n4                      Allen, Mr. William Henry    male  0.434531      0   \n5                              Moran, Mr. James    male  0.346569      0   \n\n   Parch            Ticket      Fare Cabin Embarked  Cabin_Known Title  \\\n0      0         A/5 21171  0.046056   NaN        S            0    Mr   \n2      0  STON/O2. 3101282  0.050344   NaN        S            0  Miss   \n3      0            113803  0.337321  C123        S            1   Mrs   \n4      0            373450  0.051138   NaN        S            0    Mr   \n5      0            330877  0.537318   NaN        Q            0    Mr   \n\n   Family_Size Age_Group  \n0            2     Child  \n2            1     Child  \n3            2     Child  \n4            1     Child  \n5            1     Child  ",
            "text/html": "<div>\n<style scoped>\n    .dataframe tbody tr th:only-of-type {\n        vertical-align: middle;\n    }\n\n    .dataframe tbody tr th {\n        vertical-align: top;\n    }\n\n    .dataframe thead th {\n        text-align: right;\n    }\n</style>\n<table border=\"1\" class=\"dataframe\">\n  <thead>\n    <tr style=\"text-align: right;\">\n      <th></th>\n      <th>PassengerId</th>\n      <th>Survived</th>\n      <th>Pclass</th>\n      <th>Name</th>\n      <th>Sex</th>\n      <th>Age</th>\n      <th>SibSp</th>\n      <th>Parch</th>\n      <th>Ticket</th>\n      <th>Fare</th>\n      <th>Cabin</th>\n      <th>Embarked</th>\n      <th>Cabin_Known</th>\n      <th>Title</th>\n      <th>Family_Size</th>\n      <th>Age_Group</th>\n    </tr>\n  </thead>\n  <tbody>\n    <tr>\n      <th>0</th>\n      <td>1</td>\n      <td>0</td>\n      <td>3</td>\n      <td>Braund, Mr. Owen Harris</td>\n      <td>male</td>\n      <td>0.271174</td>\n      <td>1</td>\n      <td>0</td>\n      <td>A/5 21171</td>\n      <td>0.046056</td>\n      <td>NaN</td>\n      <td>S</td>\n      <td>0</td>\n      <td>Mr</td>\n      <td>2</td>\n      <td>Child</td>\n    </tr>\n    <tr>\n      <th>2</th>\n      <td>3</td>\n      <td>1</td>\n      <td>3</td>\n      <td>Heikkinen, Miss. Laina</td>\n      <td>female</td>\n      <td>0.321438</td>\n      <td>0</td>\n      <td>0</td>\n      <td>STON/O2. 3101282</td>\n      <td>0.050344</td>\n      <td>NaN</td>\n      <td>S</td>\n      <td>0</td>\n      <td>Miss</td>\n      <td>1</td>\n      <td>Child</td>\n    </tr>\n    <tr>\n      <th>3</th>\n      <td>4</td>\n      <td>1</td>\n      <td>1</td>\n      <td>Futrelle, Mrs. Jacques Heath (Lily May Peel)</td>\n      <td>female</td>\n      <td>0.434531</td>\n      <td>1</td>\n      <td>0</td>\n      <td>113803</td>\n      <td>0.337321</td>\n      <td>C123</td>\n      <td>S</td>\n      <td>1</td>\n      <td>Mrs</td>\n      <td>2</td>\n      <td>Child</td>\n    </tr>\n    <tr>\n      <th>4</th>\n      <td>5</td>\n      <td>0</td>\n      <td>3</td>\n      <td>Allen, Mr. William Henry</td>\n      <td>male</td>\n      <td>0.434531</td>\n      <td>0</td>\n      <td>0</td>\n      <td>373450</td>\n      <td>0.051138</td>\n      <td>NaN</td>\n      <td>S</td>\n      <td>0</td>\n      <td>Mr</td>\n      <td>1</td>\n      <td>Child</td>\n    </tr>\n    <tr>\n      <th>5</th>\n      <td>6</td>\n      <td>0</td>\n      <td>3</td>\n      <td>Moran, Mr. James</td>\n      <td>male</td>\n      <td>0.346569</td>\n      <td>0</td>\n      <td>0</td>\n      <td>330877</td>\n      <td>0.537318</td>\n      <td>NaN</td>\n      <td>Q</td>\n      <td>0</td>\n      <td>Mr</td>\n      <td>1</td>\n      <td>Child</td>\n    </tr>\n  </tbody>\n</table>\n</div>"
          },
          "metadata": {}
        }
      ],
      "execution_count": 43,
      "metadata": {
        "execution": {
          "iopub.status.busy": "2024-06-02T23:01:37.530577Z",
          "iopub.execute_input": "2024-06-02T23:01:37.531543Z",
          "iopub.status.idle": "2024-06-02T23:01:37.554796Z",
          "shell.execute_reply.started": "2024-06-02T23:01:37.531512Z",
          "shell.execute_reply": "2024-06-02T23:01:37.553399Z"
        },
        "trusted": true,
        "gather": {
          "logged": 1718633529564
        }
      }
    },
    {
      "cell_type": "markdown",
      "source": [
        "Passos Resumidos\n",
        "\n",
        "**Visualização Inicial:**\n",
        "* Exibir as primeiras linhas do dataset original.\n",
        "\n",
        "**Criação de \"Family_Size\":**\n",
        "* Combinar SibSp e Parch para formar Family_Size.\n",
        "\n",
        "**Extração de \"Title\":**\n",
        "* Extrair o título do nome completo dos passageiros.\n",
        "\n",
        "**Criação de \"Age_Group\":**\n",
        "* Categorizar a idade em faixas etárias predefinidas.\n",
        "\n",
        "**Verificação das Transformações:**\n",
        "* Exibir as primeiras linhas do dataset após cada nova transformação para validação."
      ],
      "metadata": {}
    },
    {
      "cell_type": "markdown",
      "source": [
        "# Seleção de Recursos (Feature Selection)\n",
        "A seleção de recursos envolve identificar quais atributos contribuem mais para a previsão do modelo. Existem várias técnicas para fazer isso, incluindo métodos estatísticos, modelos baseados em árvores e métodos automáticos como Recursive Feature Elimination (RFE). Neste caso optamos, por usar uma abordagem simples baseada em intuição e análise exploratória.\n",
        "\n",
        "* Critérios de Seleção:\n",
        "1. Relevância Direta: Variáveis como Sex e Pclass mostraram-se altamente relevantes.\n",
        "2. Redundância: Descartar variáveis que não adicionam informações novas ou que são redundantes com as variáveis criadas.\n",
        "3. Dados Incompletos: Variáveis com muitos dados ausentes e que são difíceis de imputar de forma confiável podem ser descartadas se não forem críticas.\n",
        "\n",
        "* Variáveis a Serem Descartadas:\n",
        "1. Ticket: Número do ticket é geralmente único para cada passageiro e, portanto, não fornece uma boa base para generalização.\n",
        "2. Cabin: Apesar da nova variável Cabin_Known, o identificador específico da cabine é menos útil devido à grande quantidade de dados faltantes.\n",
        "3. Name: Já extraímos os títulos dos nomes, tornando o nome completo menos necessário.\n",
        "4. PassengerId: É apenas um identificador e não tem valor preditivo."
      ],
      "metadata": {}
    },
    {
      "cell_type": "code",
      "source": [
        "# Visualização inicial do dataset\n",
        "\n",
        "display(data.head())"
      ],
      "outputs": [
        {
          "output_type": "display_data",
          "data": {
            "text/plain": "   PassengerId  Survived  Pclass  \\\n0            1         0       3   \n2            3         1       3   \n3            4         1       1   \n4            5         0       3   \n5            6         0       3   \n\n                                           Name     Sex       Age  SibSp  \\\n0                       Braund, Mr. Owen Harris    male  0.271174      1   \n2                        Heikkinen, Miss. Laina  female  0.321438      0   \n3  Futrelle, Mrs. Jacques Heath (Lily May Peel)  female  0.434531      1   \n4                      Allen, Mr. William Henry    male  0.434531      0   \n5                              Moran, Mr. James    male  0.346569      0   \n\n   Parch            Ticket      Fare Cabin Embarked  Cabin_Known Title  \\\n0      0         A/5 21171  0.046056   NaN        S            0    Mr   \n2      0  STON/O2. 3101282  0.050344   NaN        S            0  Miss   \n3      0            113803  0.337321  C123        S            1   Mrs   \n4      0            373450  0.051138   NaN        S            0    Mr   \n5      0            330877  0.537318   NaN        Q            0    Mr   \n\n   Family_Size Age_Group  \n0            2     Child  \n2            1     Child  \n3            2     Child  \n4            1     Child  \n5            1     Child  ",
            "text/html": "<div>\n<style scoped>\n    .dataframe tbody tr th:only-of-type {\n        vertical-align: middle;\n    }\n\n    .dataframe tbody tr th {\n        vertical-align: top;\n    }\n\n    .dataframe thead th {\n        text-align: right;\n    }\n</style>\n<table border=\"1\" class=\"dataframe\">\n  <thead>\n    <tr style=\"text-align: right;\">\n      <th></th>\n      <th>PassengerId</th>\n      <th>Survived</th>\n      <th>Pclass</th>\n      <th>Name</th>\n      <th>Sex</th>\n      <th>Age</th>\n      <th>SibSp</th>\n      <th>Parch</th>\n      <th>Ticket</th>\n      <th>Fare</th>\n      <th>Cabin</th>\n      <th>Embarked</th>\n      <th>Cabin_Known</th>\n      <th>Title</th>\n      <th>Family_Size</th>\n      <th>Age_Group</th>\n    </tr>\n  </thead>\n  <tbody>\n    <tr>\n      <th>0</th>\n      <td>1</td>\n      <td>0</td>\n      <td>3</td>\n      <td>Braund, Mr. Owen Harris</td>\n      <td>male</td>\n      <td>0.271174</td>\n      <td>1</td>\n      <td>0</td>\n      <td>A/5 21171</td>\n      <td>0.046056</td>\n      <td>NaN</td>\n      <td>S</td>\n      <td>0</td>\n      <td>Mr</td>\n      <td>2</td>\n      <td>Child</td>\n    </tr>\n    <tr>\n      <th>2</th>\n      <td>3</td>\n      <td>1</td>\n      <td>3</td>\n      <td>Heikkinen, Miss. Laina</td>\n      <td>female</td>\n      <td>0.321438</td>\n      <td>0</td>\n      <td>0</td>\n      <td>STON/O2. 3101282</td>\n      <td>0.050344</td>\n      <td>NaN</td>\n      <td>S</td>\n      <td>0</td>\n      <td>Miss</td>\n      <td>1</td>\n      <td>Child</td>\n    </tr>\n    <tr>\n      <th>3</th>\n      <td>4</td>\n      <td>1</td>\n      <td>1</td>\n      <td>Futrelle, Mrs. Jacques Heath (Lily May Peel)</td>\n      <td>female</td>\n      <td>0.434531</td>\n      <td>1</td>\n      <td>0</td>\n      <td>113803</td>\n      <td>0.337321</td>\n      <td>C123</td>\n      <td>S</td>\n      <td>1</td>\n      <td>Mrs</td>\n      <td>2</td>\n      <td>Child</td>\n    </tr>\n    <tr>\n      <th>4</th>\n      <td>5</td>\n      <td>0</td>\n      <td>3</td>\n      <td>Allen, Mr. William Henry</td>\n      <td>male</td>\n      <td>0.434531</td>\n      <td>0</td>\n      <td>0</td>\n      <td>373450</td>\n      <td>0.051138</td>\n      <td>NaN</td>\n      <td>S</td>\n      <td>0</td>\n      <td>Mr</td>\n      <td>1</td>\n      <td>Child</td>\n    </tr>\n    <tr>\n      <th>5</th>\n      <td>6</td>\n      <td>0</td>\n      <td>3</td>\n      <td>Moran, Mr. James</td>\n      <td>male</td>\n      <td>0.346569</td>\n      <td>0</td>\n      <td>0</td>\n      <td>330877</td>\n      <td>0.537318</td>\n      <td>NaN</td>\n      <td>Q</td>\n      <td>0</td>\n      <td>Mr</td>\n      <td>1</td>\n      <td>Child</td>\n    </tr>\n  </tbody>\n</table>\n</div>"
          },
          "metadata": {}
        }
      ],
      "execution_count": 44,
      "metadata": {
        "execution": {
          "iopub.status.busy": "2024-06-02T23:01:37.556361Z",
          "iopub.execute_input": "2024-06-02T23:01:37.557399Z",
          "iopub.status.idle": "2024-06-02T23:01:37.577284Z",
          "shell.execute_reply.started": "2024-06-02T23:01:37.557356Z",
          "shell.execute_reply": "2024-06-02T23:01:37.576033Z"
        },
        "trusted": true,
        "gather": {
          "logged": 1718633529955
        }
      }
    },
    {
      "cell_type": "code",
      "source": [
        "# Objetivo: Remover as variáveis identificadas como menos úteis para o modelo.\n",
        "# Ação: Usar o método drop do pandas para descartar as colunas selecionadas.\n",
        "\n",
        "data.drop(['Ticket', 'Cabin', 'Name', 'PassengerId'], axis=1, inplace=True)"
      ],
      "outputs": [],
      "execution_count": 45,
      "metadata": {
        "execution": {
          "iopub.status.busy": "2024-06-02T23:01:37.578684Z",
          "iopub.execute_input": "2024-06-02T23:01:37.579556Z",
          "iopub.status.idle": "2024-06-02T23:01:37.585247Z",
          "shell.execute_reply.started": "2024-06-02T23:01:37.579524Z",
          "shell.execute_reply": "2024-06-02T23:01:37.584209Z"
        },
        "trusted": true,
        "gather": {
          "logged": 1718633530329
        }
      }
    },
    {
      "cell_type": "code",
      "source": [
        "# Visualização inicial do dataset\n",
        "\n",
        "display(data.head())"
      ],
      "outputs": [
        {
          "output_type": "display_data",
          "data": {
            "text/plain": "   Survived  Pclass     Sex       Age  SibSp  Parch      Fare Embarked  \\\n0         0       3    male  0.271174      1      0  0.046056        S   \n2         1       3  female  0.321438      0      0  0.050344        S   \n3         1       1  female  0.434531      1      0  0.337321        S   \n4         0       3    male  0.434531      0      0  0.051138        S   \n5         0       3    male  0.346569      0      0  0.537318        Q   \n\n   Cabin_Known Title  Family_Size Age_Group  \n0            0    Mr            2     Child  \n2            0  Miss            1     Child  \n3            1   Mrs            2     Child  \n4            0    Mr            1     Child  \n5            0    Mr            1     Child  ",
            "text/html": "<div>\n<style scoped>\n    .dataframe tbody tr th:only-of-type {\n        vertical-align: middle;\n    }\n\n    .dataframe tbody tr th {\n        vertical-align: top;\n    }\n\n    .dataframe thead th {\n        text-align: right;\n    }\n</style>\n<table border=\"1\" class=\"dataframe\">\n  <thead>\n    <tr style=\"text-align: right;\">\n      <th></th>\n      <th>Survived</th>\n      <th>Pclass</th>\n      <th>Sex</th>\n      <th>Age</th>\n      <th>SibSp</th>\n      <th>Parch</th>\n      <th>Fare</th>\n      <th>Embarked</th>\n      <th>Cabin_Known</th>\n      <th>Title</th>\n      <th>Family_Size</th>\n      <th>Age_Group</th>\n    </tr>\n  </thead>\n  <tbody>\n    <tr>\n      <th>0</th>\n      <td>0</td>\n      <td>3</td>\n      <td>male</td>\n      <td>0.271174</td>\n      <td>1</td>\n      <td>0</td>\n      <td>0.046056</td>\n      <td>S</td>\n      <td>0</td>\n      <td>Mr</td>\n      <td>2</td>\n      <td>Child</td>\n    </tr>\n    <tr>\n      <th>2</th>\n      <td>1</td>\n      <td>3</td>\n      <td>female</td>\n      <td>0.321438</td>\n      <td>0</td>\n      <td>0</td>\n      <td>0.050344</td>\n      <td>S</td>\n      <td>0</td>\n      <td>Miss</td>\n      <td>1</td>\n      <td>Child</td>\n    </tr>\n    <tr>\n      <th>3</th>\n      <td>1</td>\n      <td>1</td>\n      <td>female</td>\n      <td>0.434531</td>\n      <td>1</td>\n      <td>0</td>\n      <td>0.337321</td>\n      <td>S</td>\n      <td>1</td>\n      <td>Mrs</td>\n      <td>2</td>\n      <td>Child</td>\n    </tr>\n    <tr>\n      <th>4</th>\n      <td>0</td>\n      <td>3</td>\n      <td>male</td>\n      <td>0.434531</td>\n      <td>0</td>\n      <td>0</td>\n      <td>0.051138</td>\n      <td>S</td>\n      <td>0</td>\n      <td>Mr</td>\n      <td>1</td>\n      <td>Child</td>\n    </tr>\n    <tr>\n      <th>5</th>\n      <td>0</td>\n      <td>3</td>\n      <td>male</td>\n      <td>0.346569</td>\n      <td>0</td>\n      <td>0</td>\n      <td>0.537318</td>\n      <td>Q</td>\n      <td>0</td>\n      <td>Mr</td>\n      <td>1</td>\n      <td>Child</td>\n    </tr>\n  </tbody>\n</table>\n</div>"
          },
          "metadata": {}
        }
      ],
      "execution_count": 46,
      "metadata": {
        "execution": {
          "iopub.status.busy": "2024-06-02T23:01:37.587015Z",
          "iopub.execute_input": "2024-06-02T23:01:37.587503Z",
          "iopub.status.idle": "2024-06-02T23:01:37.610153Z",
          "shell.execute_reply.started": "2024-06-02T23:01:37.587466Z",
          "shell.execute_reply": "2024-06-02T23:01:37.609013Z"
        },
        "trusted": true,
        "gather": {
          "logged": 1718633530695
        }
      }
    },
    {
      "cell_type": "code",
      "source": [
        "# Engenharia de recursos\n",
        "# Objetivo: Criar novos atributos que podem ajudar nos modelos e a entender melhor os padrões nos dados.\n",
        "# Ação: Implementar a criação de novos atributos como Family_Size e Age_Group.\n",
        "    \n",
        "data['Family_Size'] = data['SibSp'] + data['Parch'] + 1\n",
        "\n",
        "#data['Title'] = data['Name'].apply(lambda x: x.split(',')[1].split('.')[0].strip())\n",
        "\n",
        "bins = [0, 12, 20, 40, 60, 80, 100]\n",
        "labels = ['Child', 'Teen', 'Adult', 'Middle_Aged', 'Senior', 'Elderly']\n",
        "data['Age_Group'] = pd.cut(data['Age'], bins=bins, labels=labels, right=False)\n",
        "\n",
        "# Seleção de recursos\n",
        "#data.drop(['Ticket', 'Cabin', 'PassengerId'], axis=1, inplace=True)\n",
        "\n",
        "# Salvando o dataframe transformado\n",
        "\n",
        "data.to_csv('/home/azureuser/cloudfiles/code/Users/573109/titanic_transformed.csv', index=False)"
      ],
      "outputs": [],
      "execution_count": 47,
      "metadata": {
        "execution": {
          "iopub.status.busy": "2024-06-02T23:01:37.611742Z",
          "iopub.execute_input": "2024-06-02T23:01:37.612506Z",
          "iopub.status.idle": "2024-06-02T23:01:37.633859Z",
          "shell.execute_reply.started": "2024-06-02T23:01:37.612471Z",
          "shell.execute_reply": "2024-06-02T23:01:37.632507Z"
        },
        "trusted": true,
        "gather": {
          "logged": 1718633531074
        }
      }
    },
    {
      "cell_type": "markdown",
      "source": [
        "Resumo das Etapas\n",
        "\n",
        "**Visualização Inicial:**\n",
        "* Exibir as primeiras linhas do dataset original.\n",
        "\n",
        "**Critérios de Seleção de Recursos:**\n",
        "* Identificar variáveis relevantes, redundantes e com muitos dados faltantes.\n",
        "\n",
        "**Descarte de Variáveis:**\n",
        "* Remover variáveis como Ticket, Cabin, Name e PassengerId.\n",
        "\n",
        "**Verificação das Transformações:**\n",
        "* Exibir as primeiras linhas do dataset após cada transformação para validação.\n",
        "\n",
        "**Engenharia de Recursos:**\n",
        "* Criar novos atributos Family_Size e Age_Group.\n",
        "\n",
        "**Salvamento do Dataset Transformado:**\n",
        "* Salvar o dataframe transformado para uso posterior.\n",
        "\n",
        "Com a introdução de novas variáveis e a criteriosa seleção de características relevantes, o dataset foi aprimorado significativamente para a modelagem preditiva. Essas modificações são essenciais para elevar a precisão dos modelos de machine learning, pois elas concentram a análise nas características mais informativas enquanto simplificam a estrutura do modelo. Esta abordagem não só melhora a eficácia dos modelos, mas também potencializa a interpretação dos resultados, contribuindo para insights mais claros e decisões baseadas em dados mais robustas."
      ],
      "metadata": {}
    },
    {
      "cell_type": "markdown",
      "source": [
        "# Tratamento de dados desbalanceados: \n",
        "Lidar com dados desbalanceados é de suma importância em projetos de machine learning, sobretudo em tarefas de classificação. O desequilíbrio entre as classes pode resultar em modelos que favorecem a classe majoritária, comprometendo a eficácia do modelo na identificação da classe minoritária. Diante dessa realidade, foi utilizado técnicas de reamostragem e abordagens algorítmicas projetadas para equilibrar o dataset."
      ],
      "metadata": {}
    },
    {
      "cell_type": "markdown",
      "source": [
        "* Avaliar o Desequilíbrio: Contando o número de instâncias de cada classe (sobreviventes e não sobreviventes)."
      ],
      "metadata": {}
    },
    {
      "cell_type": "code",
      "source": [
        "# Visualizar contagem de classes antes do tratamento\n",
        "\n",
        "class_count = data['Survived'].value_counts()\n",
        "\n",
        "plt.figure(figsize=(8, 6))\n",
        "class_count.plot(kind='bar', color=['blue', 'red'])\n",
        "plt.title('Contagem de Classes (Antes do Tratamento)')\n",
        "plt.xlabel('Sobrevivente')\n",
        "plt.ylabel('Número de Passageiros')\n",
        "plt.xticks([0, 1], ['Não Sobreviveu', 'Sobreviveu'], rotation=0)\n",
        "plt.show()"
      ],
      "outputs": [
        {
          "output_type": "display_data",
          "data": {
            "text/plain": "<Figure size 800x600 with 1 Axes>",
            "image/png": "[encoded data removed]"
          },
          "metadata": {}
        }
      ],
      "execution_count": 48,
      "metadata": {
        "execution": {
          "iopub.status.busy": "2024-06-02T23:01:37.635387Z",
          "iopub.execute_input": "2024-06-02T23:01:37.635714Z",
          "iopub.status.idle": "2024-06-02T23:01:37.962598Z",
          "shell.execute_reply.started": "2024-06-02T23:01:37.635687Z",
          "shell.execute_reply": "2024-06-02T23:01:37.961512Z"
        },
        "trusted": true,
        "gather": {
          "logged": 1718633531563
        }
      }
    },
    {
      "cell_type": "markdown",
      "source": [
        "* Reamostragem utilizando Oversampling com SMOTE:"
      ],
      "metadata": {}
    },
    {
      "cell_type": "code",
      "source": [
        "import pandas as pd\n",
        "from sklearn.impute import SimpleImputer\n",
        "from imblearn.over_sampling import SMOTE\n",
        "display(data.head())"
      ],
      "outputs": [
        {
          "output_type": "display_data",
          "data": {
            "text/plain": "   Survived  Pclass     Sex       Age  SibSp  Parch      Fare Embarked  \\\n0         0       3    male  0.271174      1      0  0.046056        S   \n2         1       3  female  0.321438      0      0  0.050344        S   \n3         1       1  female  0.434531      1      0  0.337321        S   \n4         0       3    male  0.434531      0      0  0.051138        S   \n5         0       3    male  0.346569      0      0  0.537318        Q   \n\n   Cabin_Known Title  Family_Size Age_Group  \n0            0    Mr            2     Child  \n2            0  Miss            1     Child  \n3            1   Mrs            2     Child  \n4            0    Mr            1     Child  \n5            0    Mr            1     Child  ",
            "text/html": "<div>\n<style scoped>\n    .dataframe tbody tr th:only-of-type {\n        vertical-align: middle;\n    }\n\n    .dataframe tbody tr th {\n        vertical-align: top;\n    }\n\n    .dataframe thead th {\n        text-align: right;\n    }\n</style>\n<table border=\"1\" class=\"dataframe\">\n  <thead>\n    <tr style=\"text-align: right;\">\n      <th></th>\n      <th>Survived</th>\n      <th>Pclass</th>\n      <th>Sex</th>\n      <th>Age</th>\n      <th>SibSp</th>\n      <th>Parch</th>\n      <th>Fare</th>\n      <th>Embarked</th>\n      <th>Cabin_Known</th>\n      <th>Title</th>\n      <th>Family_Size</th>\n      <th>Age_Group</th>\n    </tr>\n  </thead>\n  <tbody>\n    <tr>\n      <th>0</th>\n      <td>0</td>\n      <td>3</td>\n      <td>male</td>\n      <td>0.271174</td>\n      <td>1</td>\n      <td>0</td>\n      <td>0.046056</td>\n      <td>S</td>\n      <td>0</td>\n      <td>Mr</td>\n      <td>2</td>\n      <td>Child</td>\n    </tr>\n    <tr>\n      <th>2</th>\n      <td>1</td>\n      <td>3</td>\n      <td>female</td>\n      <td>0.321438</td>\n      <td>0</td>\n      <td>0</td>\n      <td>0.050344</td>\n      <td>S</td>\n      <td>0</td>\n      <td>Miss</td>\n      <td>1</td>\n      <td>Child</td>\n    </tr>\n    <tr>\n      <th>3</th>\n      <td>1</td>\n      <td>1</td>\n      <td>female</td>\n      <td>0.434531</td>\n      <td>1</td>\n      <td>0</td>\n      <td>0.337321</td>\n      <td>S</td>\n      <td>1</td>\n      <td>Mrs</td>\n      <td>2</td>\n      <td>Child</td>\n    </tr>\n    <tr>\n      <th>4</th>\n      <td>0</td>\n      <td>3</td>\n      <td>male</td>\n      <td>0.434531</td>\n      <td>0</td>\n      <td>0</td>\n      <td>0.051138</td>\n      <td>S</td>\n      <td>0</td>\n      <td>Mr</td>\n      <td>1</td>\n      <td>Child</td>\n    </tr>\n    <tr>\n      <th>5</th>\n      <td>0</td>\n      <td>3</td>\n      <td>male</td>\n      <td>0.346569</td>\n      <td>0</td>\n      <td>0</td>\n      <td>0.537318</td>\n      <td>Q</td>\n      <td>0</td>\n      <td>Mr</td>\n      <td>1</td>\n      <td>Child</td>\n    </tr>\n  </tbody>\n</table>\n</div>"
          },
          "metadata": {}
        }
      ],
      "execution_count": 49,
      "metadata": {
        "execution": {
          "iopub.status.busy": "2024-06-02T23:01:37.964031Z",
          "iopub.execute_input": "2024-06-02T23:01:37.964373Z",
          "iopub.status.idle": "2024-06-02T23:01:38.139719Z",
          "shell.execute_reply.started": "2024-06-02T23:01:37.964345Z",
          "shell.execute_reply": "2024-06-02T23:01:38.138028Z"
        },
        "trusted": true,
        "gather": {
          "logged": 1718633531969
        }
      }
    },
    {
      "cell_type": "code",
      "source": [
        "# Convertendo variáveis categóricas em variáveis dummy\n",
        "data_encoded = pd.get_dummies(data, columns=['Sex', 'Embarked', 'Cabin_Known', 'Title', 'Age_Group'])\n",
        "\n",
        "# Definindo X e y\n",
        "X = data_encoded.drop('Survived', axis=1)  # Aqui removemos a coluna 'Survived' para definir X\n",
        "y = data_encoded['Survived']  # Esta é a coluna que queremos prever com o SMOTE\n",
        "\n",
        "# Aplicar SMOTE\n",
        "smote = SMOTE(random_state=42)\n",
        "X_resampled, y_resampled = smote.fit_resample(X, y)"
      ],
      "outputs": [],
      "execution_count": 50,
      "metadata": {
        "execution": {
          "iopub.status.busy": "2024-06-02T23:01:38.141278Z",
          "iopub.execute_input": "2024-06-02T23:01:38.141799Z",
          "iopub.status.idle": "2024-06-02T23:01:38.153065Z",
          "shell.execute_reply.started": "2024-06-02T23:01:38.141769Z",
          "shell.execute_reply": "2024-06-02T23:01:38.151916Z"
        },
        "trusted": true,
        "gather": {
          "logged": 1718633532355
        }
      }
    },
    {
      "cell_type": "code",
      "source": [
        "# Visualizar nova contagem de classes após o tratamento\n",
        "plt.figure(figsize=(8, 6))\n",
        "pd.Series(y_resampled).value_counts().plot(kind='bar', color=['blue', 'red'])\n",
        "plt.title('Nova Contagem de Classes (Após SMOTE)')\n",
        "plt.xlabel('Sobrevivente')\n",
        "plt.ylabel('Número de Passageiros')\n",
        "plt.xticks([0, 1], ['Não Sobreviveu', 'Sobreviveu'], rotation=0)\n",
        "plt.show()"
      ],
      "outputs": [
        {
          "output_type": "display_data",
          "data": {
            "text/plain": "<Figure size 800x600 with 1 Axes>",
            "image/png": "[encoded data removed]"
          },
          "metadata": {}
        }
      ],
      "execution_count": 51,
      "metadata": {
        "execution": {
          "iopub.status.busy": "2024-06-02T23:01:38.154446Z",
          "iopub.execute_input": "2024-06-02T23:01:38.154767Z",
          "iopub.status.idle": "2024-06-02T23:01:38.432179Z",
          "shell.execute_reply.started": "2024-06-02T23:01:38.154740Z",
          "shell.execute_reply": "2024-06-02T23:01:38.431005Z"
        },
        "trusted": true,
        "gather": {
          "logged": 1718633532805
        }
      }
    },
    {
      "cell_type": "code",
      "source": [
        "# Reamostragem utilizando Undersampling:\n",
        "from imblearn.under_sampling import RandomUnderSampler"
      ],
      "outputs": [],
      "execution_count": 52,
      "metadata": {
        "execution": {
          "iopub.status.busy": "2024-06-02T23:01:38.434495Z",
          "iopub.execute_input": "2024-06-02T23:01:38.434841Z",
          "iopub.status.idle": "2024-06-02T23:01:38.440101Z",
          "shell.execute_reply.started": "2024-06-02T23:01:38.434814Z",
          "shell.execute_reply": "2024-06-02T23:01:38.438791Z"
        },
        "trusted": true,
        "gather": {
          "logged": 1718633533180
        }
      }
    },
    {
      "cell_type": "code",
      "source": [
        "# Aplicar undersampling\n",
        "under_sampler = RandomUnderSampler(random_state=42)\n",
        "X_resampled, y_resampled = under_sampler.fit_resample(X, y)"
      ],
      "outputs": [],
      "execution_count": 53,
      "metadata": {
        "execution": {
          "iopub.status.busy": "2024-06-02T23:01:38.441701Z",
          "iopub.execute_input": "2024-06-02T23:01:38.442263Z",
          "iopub.status.idle": "2024-06-02T23:01:38.454001Z",
          "shell.execute_reply.started": "2024-06-02T23:01:38.442232Z",
          "shell.execute_reply": "2024-06-02T23:01:38.453019Z"
        },
        "trusted": true,
        "gather": {
          "logged": 1718633533551
        }
      }
    },
    {
      "cell_type": "code",
      "source": [
        "# Visualizar nova contagem de classes após o tratamento\n",
        "plt.figure(figsize=(8, 6))\n",
        "pd.Series(y_resampled).value_counts().plot(kind='bar', color=['blue', 'red'])\n",
        "plt.title('Nova Contagem de Classes (Após Undersampling)')\n",
        "plt.xlabel('Sobrevivente')\n",
        "plt.ylabel('Número de Passageiros')\n",
        "plt.xticks([0, 1], ['Não Sobreviveu', 'Sobreviveu'], rotation=0)\n",
        "plt.show()"
      ],
      "outputs": [
        {
          "output_type": "display_data",
          "data": {
            "text/plain": "<Figure size 800x600 with 1 Axes>",
            "image/png": "[encoded data removed]"
          },
          "metadata": {}
        }
      ],
      "execution_count": 54,
      "metadata": {
        "execution": {
          "iopub.status.busy": "2024-06-02T23:01:38.455245Z",
          "iopub.execute_input": "2024-06-02T23:01:38.455578Z",
          "iopub.status.idle": "2024-06-02T23:01:38.735988Z",
          "shell.execute_reply.started": "2024-06-02T23:01:38.455550Z",
          "shell.execute_reply": "2024-06-02T23:01:38.735151Z"
        },
        "trusted": true,
        "gather": {
          "logged": 1718633533955
        }
      }
    },
    {
      "cell_type": "markdown",
      "source": [
        "# Ordenação dos Dados Temporais e Separação de dados: \n",
        "Antes de dividir os dados em conjuntos de treinamento, validação e teste, é importante ordenar os dados temporalmente para garantir que não haja vazamento de informações do futuro para o passado. Isso pode ser feito ordenando o DataFrame pelo timestamp ou pela variável temporal relevante."
      ],
      "metadata": {}
    },
    {
      "cell_type": "code",
      "source": [
        "# Visualização inicial do dataset\n",
        "\n",
        "display(data.head())"
      ],
      "outputs": [
        {
          "output_type": "display_data",
          "data": {
            "text/plain": "   Survived  Pclass     Sex       Age  SibSp  Parch      Fare Embarked  \\\n0         0       3    male  0.271174      1      0  0.046056        S   \n2         1       3  female  0.321438      0      0  0.050344        S   \n3         1       1  female  0.434531      1      0  0.337321        S   \n4         0       3    male  0.434531      0      0  0.051138        S   \n5         0       3    male  0.346569      0      0  0.537318        Q   \n\n   Cabin_Known Title  Family_Size Age_Group  \n0            0    Mr            2     Child  \n2            0  Miss            1     Child  \n3            1   Mrs            2     Child  \n4            0    Mr            1     Child  \n5            0    Mr            1     Child  ",
            "text/html": "<div>\n<style scoped>\n    .dataframe tbody tr th:only-of-type {\n        vertical-align: middle;\n    }\n\n    .dataframe tbody tr th {\n        vertical-align: top;\n    }\n\n    .dataframe thead th {\n        text-align: right;\n    }\n</style>\n<table border=\"1\" class=\"dataframe\">\n  <thead>\n    <tr style=\"text-align: right;\">\n      <th></th>\n      <th>Survived</th>\n      <th>Pclass</th>\n      <th>Sex</th>\n      <th>Age</th>\n      <th>SibSp</th>\n      <th>Parch</th>\n      <th>Fare</th>\n      <th>Embarked</th>\n      <th>Cabin_Known</th>\n      <th>Title</th>\n      <th>Family_Size</th>\n      <th>Age_Group</th>\n    </tr>\n  </thead>\n  <tbody>\n    <tr>\n      <th>0</th>\n      <td>0</td>\n      <td>3</td>\n      <td>male</td>\n      <td>0.271174</td>\n      <td>1</td>\n      <td>0</td>\n      <td>0.046056</td>\n      <td>S</td>\n      <td>0</td>\n      <td>Mr</td>\n      <td>2</td>\n      <td>Child</td>\n    </tr>\n    <tr>\n      <th>2</th>\n      <td>1</td>\n      <td>3</td>\n      <td>female</td>\n      <td>0.321438</td>\n      <td>0</td>\n      <td>0</td>\n      <td>0.050344</td>\n      <td>S</td>\n      <td>0</td>\n      <td>Miss</td>\n      <td>1</td>\n      <td>Child</td>\n    </tr>\n    <tr>\n      <th>3</th>\n      <td>1</td>\n      <td>1</td>\n      <td>female</td>\n      <td>0.434531</td>\n      <td>1</td>\n      <td>0</td>\n      <td>0.337321</td>\n      <td>S</td>\n      <td>1</td>\n      <td>Mrs</td>\n      <td>2</td>\n      <td>Child</td>\n    </tr>\n    <tr>\n      <th>4</th>\n      <td>0</td>\n      <td>3</td>\n      <td>male</td>\n      <td>0.434531</td>\n      <td>0</td>\n      <td>0</td>\n      <td>0.051138</td>\n      <td>S</td>\n      <td>0</td>\n      <td>Mr</td>\n      <td>1</td>\n      <td>Child</td>\n    </tr>\n    <tr>\n      <th>5</th>\n      <td>0</td>\n      <td>3</td>\n      <td>male</td>\n      <td>0.346569</td>\n      <td>0</td>\n      <td>0</td>\n      <td>0.537318</td>\n      <td>Q</td>\n      <td>0</td>\n      <td>Mr</td>\n      <td>1</td>\n      <td>Child</td>\n    </tr>\n  </tbody>\n</table>\n</div>"
          },
          "metadata": {}
        }
      ],
      "execution_count": 55,
      "metadata": {
        "execution": {
          "iopub.status.busy": "2024-06-02T23:01:38.737064Z",
          "iopub.execute_input": "2024-06-02T23:01:38.737937Z",
          "iopub.status.idle": "2024-06-02T23:01:38.756384Z",
          "shell.execute_reply.started": "2024-06-02T23:01:38.737905Z",
          "shell.execute_reply": "2024-06-02T23:01:38.755044Z"
        },
        "trusted": true,
        "gather": {
          "logged": 1718633534366
        }
      }
    },
    {
      "cell_type": "code",
      "source": [
        "# Ordenar os dados temporalmente\n",
        "data_sorted = data.sort_values(by='Pclass')"
      ],
      "outputs": [],
      "execution_count": 56,
      "metadata": {
        "execution": {
          "iopub.status.busy": "2024-06-02T23:01:38.760077Z",
          "iopub.execute_input": "2024-06-02T23:01:38.760496Z",
          "iopub.status.idle": "2024-06-02T23:01:38.766881Z",
          "shell.execute_reply.started": "2024-06-02T23:01:38.760464Z",
          "shell.execute_reply": "2024-06-02T23:01:38.765530Z"
        },
        "trusted": true,
        "gather": {
          "logged": 1718633534745
        }
      }
    },
    {
      "cell_type": "markdown",
      "source": [
        "Depois de ordenar os dados, foi dado a sequência com a divisão dos dados em conjuntos de treinamento, validação e teste. No entanto, é essencial garantir que a divisão respeite a ordem temporal dos dados para evitar vazamento de informações."
      ],
      "metadata": {}
    },
    {
      "cell_type": "code",
      "source": [
        "# Dividir os dados ordenados em conjunto de treinamento, validação e teste\n",
        "train_size = int(0.7 * len(data_sorted))\n",
        "val_size = int(0.2 * len(data_sorted))\n",
        "test_size = len(data_sorted) - train_size - val_size\n",
        "\n",
        "train_data = data_sorted[:train_size]\n",
        "val_data = data_sorted[train_size:train_size+val_size]\n",
        "test_data = data_sorted[train_size+val_size:]\n",
        "\n",
        "# Exibir o tamanho de cada conjunto\n",
        "print(\"Tamanho do conjunto de treinamento:\", len(train_data))\n",
        "print(\"Tamanho do conjunto de validação:\", len(val_data))\n",
        "print(\"Tamanho do conjunto de teste:\", len(test_data))"
      ],
      "outputs": [
        {
          "output_type": "stream",
          "name": "stdout",
          "text": "Tamanho do conjunto de treinamento: 546\nTamanho do conjunto de validação: 156\nTamanho do conjunto de teste: 79\n"
        }
      ],
      "execution_count": 57,
      "metadata": {
        "execution": {
          "iopub.status.busy": "2024-06-02T23:01:38.770092Z",
          "iopub.execute_input": "2024-06-02T23:01:38.771169Z",
          "iopub.status.idle": "2024-06-02T23:01:38.782263Z",
          "shell.execute_reply.started": "2024-06-02T23:01:38.771125Z",
          "shell.execute_reply": "2024-06-02T23:01:38.781151Z"
        },
        "trusted": true,
        "gather": {
          "logged": 1718633535141
        }
      }
    },
    {
      "cell_type": "markdown",
      "source": [
        "Essa divisão comumente adotada divide os dados em 70% para treinamento, 20% para validação e 10% para teste. O conjunto de validação é usado durante o treinamento do modelo para ajustar os hiperparâmetros e avaliar o desempenho do modelo em dados não vistos. O conjunto de teste é reservado para avaliar o desempenho final do modelo após o treinamento e ajuste de hiperparâmetros."
      ],
      "metadata": {}
    },
    {
      "cell_type": "markdown",
      "source": [
        "# Redução de Dimensionalidade: \n",
        "aplique técnicas como PCA (Análise de Componentes Principais) se a dimensionalidade dos dados for muito alta."
      ],
      "metadata": {}
    },
    {
      "cell_type": "code",
      "source": [
        "from sklearn.decomposition import PCA"
      ],
      "outputs": [],
      "execution_count": 58,
      "metadata": {
        "execution": {
          "iopub.status.busy": "2024-06-02T23:01:38.783860Z",
          "iopub.execute_input": "2024-06-02T23:01:38.784421Z",
          "iopub.status.idle": "2024-06-02T23:01:38.793599Z",
          "shell.execute_reply.started": "2024-06-02T23:01:38.784387Z",
          "shell.execute_reply": "2024-06-02T23:01:38.792301Z"
        },
        "trusted": true,
        "gather": {
          "logged": 1718633535510
        }
      }
    },
    {
      "cell_type": "code",
      "source": [
        "# Inicializar o objeto PCA com o número desejado de componentes\n",
        "pca = PCA(n_components=2)  # Define o número de componentes principais desejados"
      ],
      "outputs": [],
      "execution_count": 59,
      "metadata": {
        "execution": {
          "iopub.status.busy": "2024-06-02T23:01:38.794929Z",
          "iopub.execute_input": "2024-06-02T23:01:38.795343Z",
          "iopub.status.idle": "2024-06-02T23:01:38.805401Z",
          "shell.execute_reply.started": "2024-06-02T23:01:38.795293Z",
          "shell.execute_reply": "2024-06-02T23:01:38.804276Z"
        },
        "trusted": true,
        "gather": {
          "logged": 1718633535864
        }
      }
    },
    {
      "cell_type": "code",
      "source": [
        "# Aplicar PCA aos dados de treinamento (assumindo que X_train já está definido)\n",
        "X_train_pca = pca.fit_transform(X_train)"
      ],
      "outputs": [],
      "execution_count": 60,
      "metadata": {
        "execution": {
          "iopub.status.busy": "2024-06-02T23:01:38.806564Z",
          "iopub.execute_input": "2024-06-02T23:01:38.807449Z",
          "iopub.status.idle": "2024-06-02T23:01:38.831413Z",
          "shell.execute_reply.started": "2024-06-02T23:01:38.807405Z",
          "shell.execute_reply": "2024-06-02T23:01:38.830458Z"
        },
        "trusted": true,
        "gather": {
          "logged": 1718633536248
        }
      }
    },
    {
      "cell_type": "code",
      "source": [
        "# Converter para DataFrame para uma melhor visualização\n",
        "X_train_pca_df = pd.DataFrame(data=X_train_pca, \n",
        "                              columns=['Principal Component 1', 'Principal Component 2'])"
      ],
      "outputs": [],
      "execution_count": 61,
      "metadata": {
        "execution": {
          "iopub.status.busy": "2024-06-02T23:01:38.832527Z",
          "iopub.execute_input": "2024-06-02T23:01:38.833520Z",
          "iopub.status.idle": "2024-06-02T23:01:38.838356Z",
          "shell.execute_reply.started": "2024-06-02T23:01:38.833488Z",
          "shell.execute_reply": "2024-06-02T23:01:38.837439Z"
        },
        "trusted": true,
        "gather": {
          "logged": 1718633536556
        }
      }
    },
    {
      "cell_type": "code",
      "source": [
        "# Exibir as primeiras linhas para visualização\n",
        "print(X_train_pca_df.head())"
      ],
      "outputs": [
        {
          "output_type": "stream",
          "name": "stdout",
          "text": "   Principal Component 1  Principal Component 2\n0              -0.332659              -0.854191\n1               1.638307              -0.114164\n2              -1.868430               0.770541\n3               0.106475              -1.299698\n4              -0.591964              -0.569141\n"
        }
      ],
      "execution_count": 62,
      "metadata": {
        "execution": {
          "iopub.status.busy": "2024-06-02T23:01:38.839604Z",
          "iopub.execute_input": "2024-06-02T23:01:38.840745Z",
          "iopub.status.idle": "2024-06-02T23:01:38.856648Z",
          "shell.execute_reply.started": "2024-06-02T23:01:38.840641Z",
          "shell.execute_reply": "2024-06-02T23:01:38.855357Z"
        },
        "trusted": true,
        "gather": {
          "logged": 1718633536918
        }
      }
    },
    {
      "cell_type": "code",
      "source": [
        "# Exibir a nova forma dos dados após a redução de dimensionalidade\n",
        "print(\"Forma dos dados após a redução de dimensionalidade:\", X_train_pca_df.shape)"
      ],
      "outputs": [
        {
          "output_type": "stream",
          "name": "stdout",
          "text": "Forma dos dados após a redução de dimensionalidade: (624, 2)\n"
        }
      ],
      "execution_count": 63,
      "metadata": {
        "execution": {
          "iopub.status.busy": "2024-06-02T23:01:38.858400Z",
          "iopub.execute_input": "2024-06-02T23:01:38.858741Z",
          "iopub.status.idle": "2024-06-02T23:01:38.867505Z",
          "shell.execute_reply.started": "2024-06-02T23:01:38.858714Z",
          "shell.execute_reply": "2024-06-02T23:01:38.865743Z"
        },
        "trusted": true,
        "gather": {
          "logged": 1718633537248
        }
      }
    },
    {
      "cell_type": "code",
      "source": [
        "# Exibir a variância explicada por cada componente\n",
        "print(\"Variância explicada por cada componente:\", pca.explained_variance_ratio_)"
      ],
      "outputs": [
        {
          "output_type": "stream",
          "name": "stdout",
          "text": "Variância explicada por cada componente: [0.41989394 0.30547147]\n"
        }
      ],
      "execution_count": 64,
      "metadata": {
        "execution": {
          "iopub.status.busy": "2024-06-02T23:01:38.869340Z",
          "iopub.execute_input": "2024-06-02T23:01:38.869802Z",
          "iopub.status.idle": "2024-06-02T23:01:38.878632Z",
          "shell.execute_reply.started": "2024-06-02T23:01:38.869762Z",
          "shell.execute_reply": "2024-06-02T23:01:38.877757Z"
        },
        "trusted": true,
        "gather": {
          "logged": 1718633537604
        }
      }
    },
    {
      "cell_type": "code",
      "source": [
        "# Primeiras linhas do DataFrame transformado (features_pca_df)\n",
        "\n",
        "print(X_train_pca_df.head()) #A tabela abaixo apresenta os valores dos dois primeiros componentes principais para as cinco primeiras amostras do conjunto de dados."
      ],
      "outputs": [
        {
          "output_type": "stream",
          "name": "stdout",
          "text": "   Principal Component 1  Principal Component 2\n0              -0.332659              -0.854191\n1               1.638307              -0.114164\n2              -1.868430               0.770541\n3               0.106475              -1.299698\n4              -0.591964              -0.569141\n"
        }
      ],
      "execution_count": 65,
      "metadata": {
        "execution": {
          "iopub.status.busy": "2024-06-02T23:01:38.880220Z",
          "iopub.execute_input": "2024-06-02T23:01:38.880772Z",
          "iopub.status.idle": "2024-06-02T23:01:38.891571Z",
          "shell.execute_reply.started": "2024-06-02T23:01:38.880741Z",
          "shell.execute_reply": "2024-06-02T23:01:38.890402Z"
        },
        "trusted": true,
        "gather": {
          "logged": 1718633538276
        }
      }
    },
    {
      "cell_type": "markdown",
      "source": [
        "# Validação Cruzada:"
      ],
      "metadata": {}
    },
    {
      "cell_type": "code",
      "source": [
        "# Visualização inicial do dataset\n",
        "\n",
        "display(data.head())"
      ],
      "outputs": [
        {
          "output_type": "display_data",
          "data": {
            "text/plain": "   Survived  Pclass     Sex       Age  SibSp  Parch      Fare Embarked  \\\n0         0       3    male  0.271174      1      0  0.046056        S   \n2         1       3  female  0.321438      0      0  0.050344        S   \n3         1       1  female  0.434531      1      0  0.337321        S   \n4         0       3    male  0.434531      0      0  0.051138        S   \n5         0       3    male  0.346569      0      0  0.537318        Q   \n\n   Cabin_Known Title  Family_Size Age_Group  \n0            0    Mr            2     Child  \n2            0  Miss            1     Child  \n3            1   Mrs            2     Child  \n4            0    Mr            1     Child  \n5            0    Mr            1     Child  ",
            "text/html": "<div>\n<style scoped>\n    .dataframe tbody tr th:only-of-type {\n        vertical-align: middle;\n    }\n\n    .dataframe tbody tr th {\n        vertical-align: top;\n    }\n\n    .dataframe thead th {\n        text-align: right;\n    }\n</style>\n<table border=\"1\" class=\"dataframe\">\n  <thead>\n    <tr style=\"text-align: right;\">\n      <th></th>\n      <th>Survived</th>\n      <th>Pclass</th>\n      <th>Sex</th>\n      <th>Age</th>\n      <th>SibSp</th>\n      <th>Parch</th>\n      <th>Fare</th>\n      <th>Embarked</th>\n      <th>Cabin_Known</th>\n      <th>Title</th>\n      <th>Family_Size</th>\n      <th>Age_Group</th>\n    </tr>\n  </thead>\n  <tbody>\n    <tr>\n      <th>0</th>\n      <td>0</td>\n      <td>3</td>\n      <td>male</td>\n      <td>0.271174</td>\n      <td>1</td>\n      <td>0</td>\n      <td>0.046056</td>\n      <td>S</td>\n      <td>0</td>\n      <td>Mr</td>\n      <td>2</td>\n      <td>Child</td>\n    </tr>\n    <tr>\n      <th>2</th>\n      <td>1</td>\n      <td>3</td>\n      <td>female</td>\n      <td>0.321438</td>\n      <td>0</td>\n      <td>0</td>\n      <td>0.050344</td>\n      <td>S</td>\n      <td>0</td>\n      <td>Miss</td>\n      <td>1</td>\n      <td>Child</td>\n    </tr>\n    <tr>\n      <th>3</th>\n      <td>1</td>\n      <td>1</td>\n      <td>female</td>\n      <td>0.434531</td>\n      <td>1</td>\n      <td>0</td>\n      <td>0.337321</td>\n      <td>S</td>\n      <td>1</td>\n      <td>Mrs</td>\n      <td>2</td>\n      <td>Child</td>\n    </tr>\n    <tr>\n      <th>4</th>\n      <td>0</td>\n      <td>3</td>\n      <td>male</td>\n      <td>0.434531</td>\n      <td>0</td>\n      <td>0</td>\n      <td>0.051138</td>\n      <td>S</td>\n      <td>0</td>\n      <td>Mr</td>\n      <td>1</td>\n      <td>Child</td>\n    </tr>\n    <tr>\n      <th>5</th>\n      <td>0</td>\n      <td>3</td>\n      <td>male</td>\n      <td>0.346569</td>\n      <td>0</td>\n      <td>0</td>\n      <td>0.537318</td>\n      <td>Q</td>\n      <td>0</td>\n      <td>Mr</td>\n      <td>1</td>\n      <td>Child</td>\n    </tr>\n  </tbody>\n</table>\n</div>"
          },
          "metadata": {}
        }
      ],
      "execution_count": 66,
      "metadata": {
        "execution": {
          "iopub.status.busy": "2024-06-02T23:01:38.893225Z",
          "iopub.execute_input": "2024-06-02T23:01:38.893978Z",
          "iopub.status.idle": "2024-06-02T23:01:38.916920Z",
          "shell.execute_reply.started": "2024-06-02T23:01:38.893919Z",
          "shell.execute_reply": "2024-06-02T23:01:38.915803Z"
        },
        "trusted": true,
        "gather": {
          "logged": 1718633538697
        }
      }
    },
    {
      "cell_type": "code",
      "source": [
        "# Definir features e target\n",
        "X = data.drop('Survived', axis=1)\n",
        "y = data['Survived']"
      ],
      "outputs": [],
      "execution_count": 67,
      "metadata": {
        "execution": {
          "iopub.status.busy": "2024-06-02T23:01:38.930462Z",
          "iopub.execute_input": "2024-06-02T23:01:38.932346Z",
          "iopub.status.idle": "2024-06-02T23:01:38.942415Z",
          "shell.execute_reply.started": "2024-06-02T23:01:38.932303Z",
          "shell.execute_reply": "2024-06-02T23:01:38.941250Z"
        },
        "trusted": true,
        "gather": {
          "logged": 1718633539876
        }
      }
    },
    {
      "cell_type": "code",
      "source": [
        "# Visualização inicial do dataset\n",
        "\n",
        "display(data.head())"
      ],
      "outputs": [
        {
          "output_type": "display_data",
          "data": {
            "text/plain": "   Survived  Pclass     Sex       Age  SibSp  Parch      Fare Embarked  \\\n0         0       3    male  0.271174      1      0  0.046056        S   \n2         1       3  female  0.321438      0      0  0.050344        S   \n3         1       1  female  0.434531      1      0  0.337321        S   \n4         0       3    male  0.434531      0      0  0.051138        S   \n5         0       3    male  0.346569      0      0  0.537318        Q   \n\n   Cabin_Known Title  Family_Size Age_Group  \n0            0    Mr            2     Child  \n2            0  Miss            1     Child  \n3            1   Mrs            2     Child  \n4            0    Mr            1     Child  \n5            0    Mr            1     Child  ",
            "text/html": "<div>\n<style scoped>\n    .dataframe tbody tr th:only-of-type {\n        vertical-align: middle;\n    }\n\n    .dataframe tbody tr th {\n        vertical-align: top;\n    }\n\n    .dataframe thead th {\n        text-align: right;\n    }\n</style>\n<table border=\"1\" class=\"dataframe\">\n  <thead>\n    <tr style=\"text-align: right;\">\n      <th></th>\n      <th>Survived</th>\n      <th>Pclass</th>\n      <th>Sex</th>\n      <th>Age</th>\n      <th>SibSp</th>\n      <th>Parch</th>\n      <th>Fare</th>\n      <th>Embarked</th>\n      <th>Cabin_Known</th>\n      <th>Title</th>\n      <th>Family_Size</th>\n      <th>Age_Group</th>\n    </tr>\n  </thead>\n  <tbody>\n    <tr>\n      <th>0</th>\n      <td>0</td>\n      <td>3</td>\n      <td>male</td>\n      <td>0.271174</td>\n      <td>1</td>\n      <td>0</td>\n      <td>0.046056</td>\n      <td>S</td>\n      <td>0</td>\n      <td>Mr</td>\n      <td>2</td>\n      <td>Child</td>\n    </tr>\n    <tr>\n      <th>2</th>\n      <td>1</td>\n      <td>3</td>\n      <td>female</td>\n      <td>0.321438</td>\n      <td>0</td>\n      <td>0</td>\n      <td>0.050344</td>\n      <td>S</td>\n      <td>0</td>\n      <td>Miss</td>\n      <td>1</td>\n      <td>Child</td>\n    </tr>\n    <tr>\n      <th>3</th>\n      <td>1</td>\n      <td>1</td>\n      <td>female</td>\n      <td>0.434531</td>\n      <td>1</td>\n      <td>0</td>\n      <td>0.337321</td>\n      <td>S</td>\n      <td>1</td>\n      <td>Mrs</td>\n      <td>2</td>\n      <td>Child</td>\n    </tr>\n    <tr>\n      <th>4</th>\n      <td>0</td>\n      <td>3</td>\n      <td>male</td>\n      <td>0.434531</td>\n      <td>0</td>\n      <td>0</td>\n      <td>0.051138</td>\n      <td>S</td>\n      <td>0</td>\n      <td>Mr</td>\n      <td>1</td>\n      <td>Child</td>\n    </tr>\n    <tr>\n      <th>5</th>\n      <td>0</td>\n      <td>3</td>\n      <td>male</td>\n      <td>0.346569</td>\n      <td>0</td>\n      <td>0</td>\n      <td>0.537318</td>\n      <td>Q</td>\n      <td>0</td>\n      <td>Mr</td>\n      <td>1</td>\n      <td>Child</td>\n    </tr>\n  </tbody>\n</table>\n</div>"
          },
          "metadata": {}
        }
      ],
      "execution_count": 68,
      "metadata": {
        "execution": {
          "iopub.status.busy": "2024-06-02T23:01:38.943882Z",
          "iopub.execute_input": "2024-06-02T23:01:38.944350Z",
          "iopub.status.idle": "2024-06-02T23:01:38.964353Z",
          "shell.execute_reply.started": "2024-06-02T23:01:38.944322Z",
          "shell.execute_reply": "2024-06-02T23:01:38.963449Z"
        },
        "trusted": true,
        "gather": {
          "logged": 1718633541645
        }
      }
    },
    {
      "cell_type": "code",
      "source": [
        "# Criar um pipeline com pré-processamento e modelo\n",
        "pipeline = Pipeline([\n",
        "    ('scaler', StandardScaler()),  # Padronização dos dados\n",
        "    ('clf', RandomForestClassifier())  # Modelo RandomForest\n",
        "])"
      ],
      "outputs": [],
      "execution_count": 69,
      "metadata": {
        "execution": {
          "iopub.status.busy": "2024-06-02T23:01:38.965813Z",
          "iopub.execute_input": "2024-06-02T23:01:38.966211Z",
          "iopub.status.idle": "2024-06-02T23:01:38.975633Z",
          "shell.execute_reply.started": "2024-06-02T23:01:38.966182Z",
          "shell.execute_reply": "2024-06-02T23:01:38.974533Z"
        },
        "trusted": true,
        "gather": {
          "logged": 1718633542012
        }
      }
    },
    {
      "cell_type": "code",
      "source": [
        "# Definindo transformadores para colunas numéricas e categóricas\n",
        "numeric_features = [...]  # Lista de nomes de características numéricas\n",
        "categorical_features = [...]  # Lista de nomes de características categóricas\n",
        "\n",
        "numeric_transformer = ...\n",
        "categorical_transformer = Pipeline(steps=[\n",
        "    ('onehot', OneHotEncoder())\n",
        "])\n",
        "\n",
        "# Criando o ColumnTransformer\n",
        "preprocessor = ColumnTransformer(\n",
        "    transformers=[\n",
        "        ('num', numeric_transformer, numeric_features),\n",
        "        ('cat', categorical_transformer, categorical_features)\n",
        "    ]\n",
        ")\n",
        "\n",
        "# Definindo o modelo de classificação\n",
        "classifier = RandomForestClassifier()  # Por exemplo, um modelo de floresta aleatória\n",
        "\n",
        "# Criando o pipeline completo com o modelo\n",
        "pipeline = Pipeline(steps=[('preprocessor', preprocessor), ('classifier', classifier)])"
      ],
      "outputs": [],
      "execution_count": 70,
      "metadata": {
        "execution": {
          "iopub.status.busy": "2024-06-02T23:01:38.977158Z",
          "iopub.execute_input": "2024-06-02T23:01:38.978221Z",
          "iopub.status.idle": "2024-06-02T23:01:38.989000Z",
          "shell.execute_reply.started": "2024-06-02T23:01:38.978187Z",
          "shell.execute_reply": "2024-06-02T23:01:38.987800Z"
        },
        "trusted": true,
        "gather": {
          "logged": 1718633542354
        }
      }
    },
    {
      "cell_type": "code",
      "source": [
        "# Realizar a validação cruzada\n",
        "\n",
        "pipeline = Pipeline([\n",
        "    ('scaler', StandardScaler()),\n",
        "    ('classifier', RandomForestClassifier()),\n",
        "    ...\n",
        "])"
      ],
      "outputs": [],
      "execution_count": 71,
      "metadata": {
        "execution": {
          "iopub.status.busy": "2024-06-02T23:01:38.990614Z",
          "iopub.execute_input": "2024-06-02T23:01:38.991234Z",
          "iopub.status.idle": "2024-06-02T23:01:39.000470Z",
          "shell.execute_reply.started": "2024-06-02T23:01:38.991203Z",
          "shell.execute_reply": "2024-06-02T23:01:38.999383Z"
        },
        "trusted": true,
        "gather": {
          "logged": 1718633542714
        }
      }
    },
    {
      "cell_type": "code",
      "source": [
        "from sklearn.datasets import load_iris\n",
        "from sklearn.model_selection import cross_val_score\n",
        "from sklearn.ensemble import RandomForestClassifier\n",
        "\n",
        "# Carregar dataset\n",
        "iris = load_iris()\n",
        "X, y = iris.data, iris.target\n",
        "\n",
        "# Definir o modelo\n",
        "model = RandomForestClassifier()\n",
        "\n",
        "# Executar cross-validation\n",
        "scores = cross_val_score(model, X, y, cv=5)\n",
        "\n",
        "# Criar DataFrame com os resultados\n",
        "results = {\n",
        "    \"Métrica\": [\"Acurácia Média\", \"Desvio Padrão dos Scores\"],\n",
        "    \"Valor\": [scores.mean(), scores.std()]\n",
        "}\n",
        "df_results = pd.DataFrame(results)\n",
        "\n",
        "# Imprimir a tabela\n",
        "print(tabulate(df_results, headers='keys', tablefmt='pretty'))"
      ],
      "outputs": [
        {
          "output_type": "stream",
          "name": "stdout",
          "text": "+---+--------------------------+----------------------+\n|   |         Métrica          |        Valor         |\n+---+--------------------------+----------------------+\n| 0 |      Acurácia Média      |         0.96         |\n| 1 | Desvio Padrão dos Scores | 0.024944382578492935 |\n+---+--------------------------+----------------------+\n"
        }
      ],
      "execution_count": 72,
      "metadata": {
        "execution": {
          "iopub.status.busy": "2024-06-02T23:01:39.001814Z",
          "iopub.execute_input": "2024-06-02T23:01:39.002393Z",
          "iopub.status.idle": "2024-06-02T23:01:40.138494Z",
          "shell.execute_reply.started": "2024-06-02T23:01:39.002363Z",
          "shell.execute_reply": "2024-06-02T23:01:40.136866Z"
        },
        "trusted": true,
        "gather": {
          "logged": 1718633543056
        }
      }
    },
    {
      "cell_type": "markdown",
      "source": [
        "1. Importamos cross_val_score do sklearn para realizar a validação cruzada.\n",
        "2. Criamos um pipeline que inclui uma etapa de pré-processamento (padronização dos dados usando StandardScaler) e um modelo de RandomForest.\n",
        "3. Usamos cross_val_score para calcular a acurácia do modelo em cada fold da validação cruzada. O argumento cv=5 especifica o número de folds a serem usados.\n",
        "4. Finalmente, imprimimos a média das acurácias dos folds e o desvio padrão dos scores para avaliar o desempenho médio e a consistência do modelo em diferentes conjuntos de dados de treinamento e teste.\n",
        "\n",
        "\n",
        "**Acurácia Média:** Este valor é a média dos scores de acurácia obtidos em cada uma das 5 iterações da validação cruzada. O formato {:.2f} usado no format garante que o número seja mostrado com duas casas decimais. Assumindo um valor de 0.82, isso indicaria que, em média, o modelo foi capaz de prever corretamente a sobrevivência 96% das vezes.\n",
        "\n",
        "**Desvio Padrão dos Scores:** Este número mostra o desvio padrão dos scores de acurácia obtidos, o que dá uma ideia da variação nos resultados do modelo entre os diferentes folds da validação cruzada. Um valor de 0.02, sugere que as variações entre os resultados de cada fold são relativamente pequenas, indicando que o modelo é estável.\n"
      ],
      "metadata": {}
    },
    {
      "cell_type": "markdown",
      "source": [
        "# Algoritmo Random Forest Classifier"
      ],
      "metadata": {}
    },
    {
      "cell_type": "code",
      "source": [
        "# Carregar o dataset transformado\n",
        "\n",
        "data = pd.read_csv('/home/azureuser/cloudfiles/code/Users/573109/titanic_transformed.csv')"
      ],
      "outputs": [],
      "execution_count": 73,
      "metadata": {
        "execution": {
          "iopub.status.busy": "2024-06-02T23:01:40.139938Z",
          "iopub.execute_input": "2024-06-02T23:01:40.140305Z",
          "iopub.status.idle": "2024-06-02T23:01:40.151443Z",
          "shell.execute_reply.started": "2024-06-02T23:01:40.140276Z",
          "shell.execute_reply": "2024-06-02T23:01:40.149976Z"
        },
        "trusted": true,
        "gather": {
          "logged": 1718633543441
        }
      }
    },
    {
      "cell_type": "code",
      "source": [
        "# Visualização inicial do dataset\n",
        "\n",
        "display(data.head())"
      ],
      "outputs": [
        {
          "output_type": "display_data",
          "data": {
            "text/plain": "   Survived  Pclass     Sex       Age  SibSp  Parch      Fare Embarked  \\\n0         0       3    male  0.271174      1      0  0.046056        S   \n1         1       3  female  0.321438      0      0  0.050344        S   \n2         1       1  female  0.434531      1      0  0.337321        S   \n3         0       3    male  0.434531      0      0  0.051138        S   \n4         0       3    male  0.346569      0      0  0.537318        Q   \n\n   Cabin_Known Title  Family_Size Age_Group  \n0            0    Mr            2     Child  \n1            0  Miss            1     Child  \n2            1   Mrs            2     Child  \n3            0    Mr            1     Child  \n4            0    Mr            1     Child  ",
            "text/html": "<div>\n<style scoped>\n    .dataframe tbody tr th:only-of-type {\n        vertical-align: middle;\n    }\n\n    .dataframe tbody tr th {\n        vertical-align: top;\n    }\n\n    .dataframe thead th {\n        text-align: right;\n    }\n</style>\n<table border=\"1\" class=\"dataframe\">\n  <thead>\n    <tr style=\"text-align: right;\">\n      <th></th>\n      <th>Survived</th>\n      <th>Pclass</th>\n      <th>Sex</th>\n      <th>Age</th>\n      <th>SibSp</th>\n      <th>Parch</th>\n      <th>Fare</th>\n      <th>Embarked</th>\n      <th>Cabin_Known</th>\n      <th>Title</th>\n      <th>Family_Size</th>\n      <th>Age_Group</th>\n    </tr>\n  </thead>\n  <tbody>\n    <tr>\n      <th>0</th>\n      <td>0</td>\n      <td>3</td>\n      <td>male</td>\n      <td>0.271174</td>\n      <td>1</td>\n      <td>0</td>\n      <td>0.046056</td>\n      <td>S</td>\n      <td>0</td>\n      <td>Mr</td>\n      <td>2</td>\n      <td>Child</td>\n    </tr>\n    <tr>\n      <th>1</th>\n      <td>1</td>\n      <td>3</td>\n      <td>female</td>\n      <td>0.321438</td>\n      <td>0</td>\n      <td>0</td>\n      <td>0.050344</td>\n      <td>S</td>\n      <td>0</td>\n      <td>Miss</td>\n      <td>1</td>\n      <td>Child</td>\n    </tr>\n    <tr>\n      <th>2</th>\n      <td>1</td>\n      <td>1</td>\n      <td>female</td>\n      <td>0.434531</td>\n      <td>1</td>\n      <td>0</td>\n      <td>0.337321</td>\n      <td>S</td>\n      <td>1</td>\n      <td>Mrs</td>\n      <td>2</td>\n      <td>Child</td>\n    </tr>\n    <tr>\n      <th>3</th>\n      <td>0</td>\n      <td>3</td>\n      <td>male</td>\n      <td>0.434531</td>\n      <td>0</td>\n      <td>0</td>\n      <td>0.051138</td>\n      <td>S</td>\n      <td>0</td>\n      <td>Mr</td>\n      <td>1</td>\n      <td>Child</td>\n    </tr>\n    <tr>\n      <th>4</th>\n      <td>0</td>\n      <td>3</td>\n      <td>male</td>\n      <td>0.346569</td>\n      <td>0</td>\n      <td>0</td>\n      <td>0.537318</td>\n      <td>Q</td>\n      <td>0</td>\n      <td>Mr</td>\n      <td>1</td>\n      <td>Child</td>\n    </tr>\n  </tbody>\n</table>\n</div>"
          },
          "metadata": {}
        }
      ],
      "execution_count": 74,
      "metadata": {
        "execution": {
          "iopub.status.busy": "2024-06-02T23:01:40.154063Z",
          "iopub.execute_input": "2024-06-02T23:01:40.155002Z",
          "iopub.status.idle": "2024-06-02T23:01:40.176142Z",
          "shell.execute_reply.started": "2024-06-02T23:01:40.154933Z",
          "shell.execute_reply": "2024-06-02T23:01:40.174564Z"
        },
        "trusted": true,
        "gather": {
          "logged": 1718633543798
        }
      }
    },
    {
      "cell_type": "code",
      "source": [
        "# data.shape\n",
        "# data.head()\n",
        "# data.tail()\n",
        "# data.info()\n",
        "# data.describe()\n",
        "# data.isnull()\n",
        "# data.isnull().sum()\n",
        "data['Survived'].value_counts()"
      ],
      "outputs": [
        {
          "output_type": "execute_result",
          "execution_count": 75,
          "data": {
            "text/plain": "Survived\n0    504\n1    277\nName: count, dtype: int64"
          },
          "metadata": {}
        }
      ],
      "execution_count": 75,
      "metadata": {
        "execution": {
          "iopub.status.busy": "2024-06-02T23:01:40.178033Z",
          "iopub.execute_input": "2024-06-02T23:01:40.178458Z",
          "iopub.status.idle": "2024-06-02T23:01:40.198088Z",
          "shell.execute_reply.started": "2024-06-02T23:01:40.178423Z",
          "shell.execute_reply": "2024-06-02T23:01:40.194552Z"
        },
        "trusted": true,
        "gather": {
          "logged": 1718633544170
        }
      }
    },
    {
      "cell_type": "code",
      "source": [
        "sns.countplot(data=data, x=\"Survived\")\n",
        "plt.xlabel(\"Survived\")\n",
        "plt.ylabel(\"Count\")\n",
        "plt.title(\"Survived variable count plot\")\n",
        "plt.show()"
      ],
      "outputs": [
        {
          "output_type": "display_data",
          "data": {
            "text/plain": "<Figure size 640x480 with 1 Axes>",
            "image/png": "[encoded data removed]"
          },
          "metadata": {}
        }
      ],
      "execution_count": 76,
      "metadata": {
        "execution": {
          "iopub.status.busy": "2024-06-02T23:01:40.200635Z",
          "iopub.execute_input": "2024-06-02T23:01:40.201564Z",
          "iopub.status.idle": "2024-06-02T23:01:40.469370Z",
          "shell.execute_reply.started": "2024-06-02T23:01:40.201522Z",
          "shell.execute_reply": "2024-06-02T23:01:40.468018Z"
        },
        "trusted": true,
        "gather": {
          "logged": 1718633544655
        }
      }
    },
    {
      "cell_type": "code",
      "source": [
        "X = data.iloc[:, :-1]\n",
        "y = data.iloc[:, -1]\n",
        "\n",
        "# X.shape\n",
        "# y.shape"
      ],
      "outputs": [],
      "execution_count": 77,
      "metadata": {
        "execution": {
          "iopub.status.busy": "2024-06-02T23:01:40.471074Z",
          "iopub.execute_input": "2024-06-02T23:01:40.471478Z",
          "iopub.status.idle": "2024-06-02T23:01:40.478643Z",
          "shell.execute_reply.started": "2024-06-02T23:01:40.471445Z",
          "shell.execute_reply": "2024-06-02T23:01:40.477073Z"
        },
        "trusted": true,
        "gather": {
          "logged": 1718633545038
        }
      }
    },
    {
      "cell_type": "code",
      "source": [
        "# Definir colunas categóricas e numéricas\n",
        "categorical_cols = ['Pclass', 'Sex', 'Embarked']\n",
        "numerical_cols = ['Age', 'SibSp', 'Parch', 'Fare']\n",
        "\n",
        "# Criar transformers para colunas numéricas e categóricas\n",
        "numerical_transformer = Pipeline(steps=[\n",
        "    ('imputer', SimpleImputer(strategy='median')),\n",
        "    ('scaler', StandardScaler())\n",
        "])\n",
        "\n",
        "categorical_transformer = Pipeline(steps=[\n",
        "    ('imputer', SimpleImputer(strategy='most_frequent')),\n",
        "    ('onehot', OneHotEncoder(handle_unknown='ignore'))\n",
        "])\n",
        "\n",
        "# Criar o preprocessor utilizando ColumnTransformer\n",
        "preprocessor = ColumnTransformer(\n",
        "    transformers=[\n",
        "        ('num', numerical_transformer, numerical_cols),\n",
        "        ('cat', categorical_transformer, categorical_cols)\n",
        "    ])\n",
        "\n",
        "# Aplicar as transformações no dataset\n",
        "X = data.drop('Survived', axis=1)\n",
        "y = data['Survived']\n",
        "X = preprocessor.fit_transform(X)\n"
      ],
      "outputs": [],
      "execution_count": 78,
      "metadata": {
        "execution": {
          "iopub.status.busy": "2024-06-02T23:01:40.480456Z",
          "iopub.execute_input": "2024-06-02T23:01:40.480987Z",
          "iopub.status.idle": "2024-06-02T23:01:40.511236Z",
          "shell.execute_reply.started": "2024-06-02T23:01:40.480914Z",
          "shell.execute_reply": "2024-06-02T23:01:40.510025Z"
        },
        "trusted": true,
        "gather": {
          "logged": 1718633545371
        }
      }
    },
    {
      "cell_type": "code",
      "source": [
        "X_train, X_test, y_train, y_test = train_test_split(X, y,\n",
        "                                                    random_state=99)\n",
        "\n",
        "clf = RandomForestClassifier(criterion = 'gini',\n",
        "                            max_depth = 8,\n",
        "                            min_samples_split = 10,\n",
        "                            random_state = 5)\n",
        "\n",
        "clf.fit(X_train, y_train)"
      ],
      "outputs": [
        {
          "output_type": "execute_result",
          "execution_count": 79,
          "data": {
            "text/plain": "RandomForestClassifier(max_depth=8, min_samples_split=10, random_state=5)",
            "text/html": "<style>#sk-container-id-1 {color: black;background-color: white;}#sk-container-id-1 pre{padding: 0;}#sk-container-id-1 div.sk-toggleable {background-color: white;}#sk-container-id-1 label.sk-toggleable__label {cursor: pointer;display: block;width: 100%;margin-bottom: 0;padding: 0.3em;box-sizing: border-box;text-align: center;}#sk-container-id-1 label.sk-toggleable__label-arrow:before {content: \"▸\";float: left;margin-right: 0.25em;color: #696969;}#sk-container-id-1 label.sk-toggleable__label-arrow:hover:before {color: black;}#sk-container-id-1 div.sk-estimator:hover label.sk-toggleable__label-arrow:before {color: black;}#sk-container-id-1 div.sk-toggleable__content {max-height: 0;max-width: 0;overflow: hidden;text-align: left;background-color: #f0f8ff;}#sk-container-id-1 div.sk-toggleable__content pre {margin: 0.2em;color: black;border-radius: 0.25em;background-color: #f0f8ff;}#sk-container-id-1 input.sk-toggleable__control:checked~div.sk-toggleable__content {max-height: 200px;max-width: 100%;overflow: auto;}#sk-container-id-1 input.sk-toggleable__control:checked~label.sk-toggleable__label-arrow:before {content: \"▾\";}#sk-container-id-1 div.sk-estimator input.sk-toggleable__control:checked~label.sk-toggleable__label {background-color: #d4ebff;}#sk-container-id-1 div.sk-label input.sk-toggleable__control:checked~label.sk-toggleable__label {background-color: #d4ebff;}#sk-container-id-1 input.sk-hidden--visually {border: 0;clip: rect(1px 1px 1px 1px);clip: rect(1px, 1px, 1px, 1px);height: 1px;margin: -1px;overflow: hidden;padding: 0;position: absolute;width: 1px;}#sk-container-id-1 div.sk-estimator {font-family: monospace;background-color: #f0f8ff;border: 1px dotted black;border-radius: 0.25em;box-sizing: border-box;margin-bottom: 0.5em;}#sk-container-id-1 div.sk-estimator:hover {background-color: #d4ebff;}#sk-container-id-1 div.sk-parallel-item::after {content: \"\";width: 100%;border-bottom: 1px solid gray;flex-grow: 1;}#sk-container-id-1 div.sk-label:hover label.sk-toggleable__label {background-color: #d4ebff;}#sk-container-id-1 div.sk-serial::before {content: \"\";position: absolute;border-left: 1px solid gray;box-sizing: border-box;top: 0;bottom: 0;left: 50%;z-index: 0;}#sk-container-id-1 div.sk-serial {display: flex;flex-direction: column;align-items: center;background-color: white;padding-right: 0.2em;padding-left: 0.2em;position: relative;}#sk-container-id-1 div.sk-item {position: relative;z-index: 1;}#sk-container-id-1 div.sk-parallel {display: flex;align-items: stretch;justify-content: center;background-color: white;position: relative;}#sk-container-id-1 div.sk-item::before, #sk-container-id-1 div.sk-parallel-item::before {content: \"\";position: absolute;border-left: 1px solid gray;box-sizing: border-box;top: 0;bottom: 0;left: 50%;z-index: -1;}#sk-container-id-1 div.sk-parallel-item {display: flex;flex-direction: column;z-index: 1;position: relative;background-color: white;}#sk-container-id-1 div.sk-parallel-item:first-child::after {align-self: flex-end;width: 50%;}#sk-container-id-1 div.sk-parallel-item:last-child::after {align-self: flex-start;width: 50%;}#sk-container-id-1 div.sk-parallel-item:only-child::after {width: 0;}#sk-container-id-1 div.sk-dashed-wrapped {border: 1px dashed gray;margin: 0 0.4em 0.5em 0.4em;box-sizing: border-box;padding-bottom: 0.4em;background-color: white;}#sk-container-id-1 div.sk-label label {font-family: monospace;font-weight: bold;display: inline-block;line-height: 1.2em;}#sk-container-id-1 div.sk-label-container {text-align: center;}#sk-container-id-1 div.sk-container {/* jupyter's `normalize.less` sets `[hidden] { display: none; }` but bootstrap.min.css set `[hidden] { display: none !important; }` so we also need the `!important` here to be able to override the default hidden behavior on the sphinx rendered scikit-learn.org. See: https://github.com/scikit-learn/scikit-learn/issues/21755 */display: inline-block !important;position: relative;}#sk-container-id-1 div.sk-text-repr-fallback {display: none;}</style><div id=\"sk-container-id-1\" class=\"sk-top-container\"><div class=\"sk-text-repr-fallback\"><pre>RandomForestClassifier(max_depth=8, min_samples_split=10, random_state=5)</pre><b>In a Jupyter environment, please rerun this cell to show the HTML representation or trust the notebook. <br />On GitHub, the HTML representation is unable to render, please try loading this page with nbviewer.org.</b></div><div class=\"sk-container\" hidden><div class=\"sk-item\"><div class=\"sk-estimator sk-toggleable\"><input class=\"sk-toggleable__control sk-hidden--visually\" id=\"sk-estimator-id-1\" type=\"checkbox\" checked><label for=\"sk-estimator-id-1\" class=\"sk-toggleable__label sk-toggleable__label-arrow\">RandomForestClassifier</label><div class=\"sk-toggleable__content\"><pre>RandomForestClassifier(max_depth=8, min_samples_split=10, random_state=5)</pre></div></div></div></div></div>"
          },
          "metadata": {}
        }
      ],
      "execution_count": 79,
      "metadata": {
        "execution": {
          "iopub.status.busy": "2024-06-02T23:01:40.512834Z",
          "iopub.execute_input": "2024-06-02T23:01:40.513293Z",
          "iopub.status.idle": "2024-06-02T23:01:40.790065Z",
          "shell.execute_reply.started": "2024-06-02T23:01:40.513258Z",
          "shell.execute_reply": "2024-06-02T23:01:40.789047Z"
        },
        "trusted": true,
        "gather": {
          "logged": 1718633545743
        }
      }
    },
    {
      "cell_type": "code",
      "source": [
        "# clf.feature_importances_\n",
        "data.columns"
      ],
      "outputs": [
        {
          "output_type": "execute_result",
          "execution_count": 80,
          "data": {
            "text/plain": "Index(['Survived', 'Pclass', 'Sex', 'Age', 'SibSp', 'Parch', 'Fare',\n       'Embarked', 'Cabin_Known', 'Title', 'Family_Size', 'Age_Group'],\n      dtype='object')"
          },
          "metadata": {}
        }
      ],
      "execution_count": 80,
      "metadata": {
        "execution": {
          "iopub.status.busy": "2024-06-02T23:01:40.791240Z",
          "iopub.execute_input": "2024-06-02T23:01:40.791633Z",
          "iopub.status.idle": "2024-06-02T23:01:40.798140Z",
          "shell.execute_reply.started": "2024-06-02T23:01:40.791602Z",
          "shell.execute_reply": "2024-06-02T23:01:40.796670Z"
        },
        "trusted": true,
        "gather": {
          "logged": 1718633546143
        }
      }
    },
    {
      "cell_type": "code",
      "source": [
        "y_pred = clf.predict(X_test)\n",
        "# y_pred"
      ],
      "outputs": [],
      "execution_count": 81,
      "metadata": {
        "execution": {
          "iopub.status.busy": "2024-06-02T23:01:40.811680Z",
          "iopub.execute_input": "2024-06-02T23:01:40.812178Z",
          "iopub.status.idle": "2024-06-02T23:01:40.835015Z",
          "shell.execute_reply.started": "2024-06-02T23:01:40.812144Z",
          "shell.execute_reply": "2024-06-02T23:01:40.833338Z"
        },
        "trusted": true,
        "gather": {
          "logged": 1718633546522
        }
      }
    },
    {
      "cell_type": "code",
      "source": [
        "# Dividir os dados em conjuntos de treinamento e teste\n",
        "X_train, X_test, y_train, y_test = train_test_split(X, y, test_size=0.2, random_state=42)\n",
        "\n",
        "# Treinar o modelo\n",
        "clf = RandomForestClassifier(criterion='gini', max_depth=8, min_samples_split=10, random_state=5)\n",
        "clf.fit(X_train, y_train)\n",
        "\n",
        "# Fazer previsões\n",
        "y_pred = clf.predict(X_test)\n",
        "y_pred_proba = clf.predict_proba(X_test)\n",
        "\n",
        "# Calcular métricas de desempenho\n",
        "accuracy = accuracy_score(y_test, y_pred)\n",
        "precision = precision_score(y_test, y_pred)\n",
        "recall = recall_score(y_test, y_pred)\n",
        "f1 = f1_score(y_test, y_pred)\n",
        "roc_auc = roc_auc_score(y_test, y_pred_proba[:, 1])\n",
        "conf_matrix = confusion_matrix(y_test, y_pred)\n",
        "class_report = classification_report(y_test, y_pred)\n",
        "\n",
        "# Métricas e descrição\n",
        "# Accuracy: A proporção de previsões corretas entre o total de previsões.\n",
        "print(\"Accuracy:\", accuracy)\n",
        "# Precision: A proporção de verdadeiros positivos entre o total de previsões positivas.\n",
        "print(\"Precision:\", precision)\n",
        "# Recall or Sensitivity: A proporção de verdadeiros positivos entre o total de exemplos positivos reais.\n",
        "print(\"Recall:\", recall)\n",
        "# F1-Score: A média harmônica da precisão e da revocação, proporcionando um equilíbrio entre ambos.\n",
        "print(\"F1 Score:\", f1)\n",
        "# AUC-ROC: A área sob a curva ROC, que indica o desempenho do classificador em diferentes limiares de decisão.\n",
        "print(\"ROC AUC:\", roc_auc)\n",
        "# Confusion Matrix: Mostra o número de verdadeiros positivos, verdadeiros negativos, falsos positivos e falsos negativos.\n",
        "print(\"Confusion Matrix:\\n\", conf_matrix)\n",
        "# Classification Report: Inclui precisão, revocação, F1-Score e suporte para cada classe.\n",
        "print(\"Classification Report:\\n\", class_report)"
      ],
      "outputs": [
        {
          "output_type": "stream",
          "name": "stdout",
          "text": "Accuracy: 0.8343949044585988\nPrecision: 0.8409090909090909\nRecall: 0.6607142857142857\nF1 Score: 0.74\nROC AUC: 0.8259370579915135\nConfusion Matrix:\n [[94  7]\n [19 37]]\nClassification Report:\n               precision    recall  f1-score   support\n\n           0       0.83      0.93      0.88       101\n           1       0.84      0.66      0.74        56\n\n    accuracy                           0.83       157\n   macro avg       0.84      0.80      0.81       157\nweighted avg       0.84      0.83      0.83       157\n\n"
        }
      ],
      "execution_count": 82,
      "metadata": {
        "execution": {
          "iopub.status.busy": "2024-06-02T23:01:40.837057Z",
          "iopub.execute_input": "2024-06-02T23:01:40.837532Z",
          "iopub.status.idle": "2024-06-02T23:01:41.163043Z",
          "shell.execute_reply.started": "2024-06-02T23:01:40.837488Z",
          "shell.execute_reply": "2024-06-02T23:01:41.162100Z"
        },
        "trusted": true,
        "gather": {
          "logged": 1718633546888
        }
      }
    },
    {
      "cell_type": "code",
      "source": [
        "cross_val_score(clf, X_train, y_train, cv=10)"
      ],
      "outputs": [
        {
          "output_type": "execute_result",
          "execution_count": 83,
          "data": {
            "text/plain": "array([0.85714286, 0.74603175, 0.82539683, 0.84126984, 0.83870968,\n       0.88709677, 0.85483871, 0.85483871, 0.83870968, 0.77419355])"
          },
          "metadata": {}
        }
      ],
      "execution_count": 83,
      "metadata": {
        "execution": {
          "iopub.status.busy": "2024-06-02T23:01:41.164264Z",
          "iopub.execute_input": "2024-06-02T23:01:41.164661Z",
          "iopub.status.idle": "2024-06-02T23:01:43.751565Z",
          "shell.execute_reply.started": "2024-06-02T23:01:41.164628Z",
          "shell.execute_reply": "2024-06-02T23:01:43.750250Z"
        },
        "trusted": true,
        "gather": {
          "logged": 1718633547273
        }
      }
    },
    {
      "cell_type": "code",
      "source": [
        "features = data.columns\n",
        "importances = clf.feature_importances_\n",
        "indices = np.argsort(importances)\n",
        "\n",
        "plt.title('Feature Importances')\n",
        "plt.barh(range(len(indices)),importances[indices], color='b', align='center')\n",
        "plt.yticks(range(len(indices)), [features[i] for i in indices])\n",
        "plt.xlabel('Relative Importance')\n",
        "plt.show()"
      ],
      "outputs": [
        {
          "output_type": "display_data",
          "data": {
            "text/plain": "<Figure size 640x480 with 1 Axes>",
            "image/png": "[encoded data removed]"
          },
          "metadata": {}
        }
      ],
      "execution_count": 84,
      "metadata": {
        "execution": {
          "iopub.status.busy": "2024-06-02T23:01:43.755471Z",
          "iopub.execute_input": "2024-06-02T23:01:43.755847Z",
          "iopub.status.idle": "2024-06-02T23:01:44.079222Z",
          "shell.execute_reply.started": "2024-06-02T23:01:43.755817Z",
          "shell.execute_reply": "2024-06-02T23:01:44.078100Z"
        },
        "trusted": true,
        "gather": {
          "logged": 1718633547837
        }
      }
    },
    {
      "cell_type": "markdown",
      "source": [
        "# Algoritmo Regreção Logistica"
      ],
      "metadata": {}
    },
    {
      "cell_type": "code",
      "source": [
        "# Carregar o dataset\n",
        "data = pd.read_csv('/home/azureuser/cloudfiles/code/Users/573109/titanic_transformed.csv')\n",
        "\n",
        "# Verificar as primeiras linhas do dataset para entender sua estrutura\n",
        "print(data.head())\n",
        "\n",
        "# Separar os recursos (features) e a variável alvo (target)\n",
        "X = data.drop('Survived', axis=1)  # Supondo que a coluna alvo seja 'Survived'\n",
        "y = data['Survived']\n",
        "\n",
        "# Identificar colunas categóricas e numéricas\n",
        "categorical_cols = X.select_dtypes(include=['object']).columns\n",
        "numeric_cols = X.select_dtypes(include=['number']).columns\n",
        "\n",
        "# Criar o pré-processador\n",
        "preprocessor = ColumnTransformer(\n",
        "    transformers=[\n",
        "        ('num', 'passthrough', numeric_cols),\n",
        "        ('cat', OneHotEncoder(handle_unknown='ignore'), categorical_cols)\n",
        "    ])\n",
        "\n",
        "# Criar o pipeline\n",
        "model = Pipeline(steps=[\n",
        "    ('preprocessor', preprocessor),\n",
        "    ('classifier', LogisticRegression(max_iter=1000, random_state=42))\n",
        "])\n",
        "\n",
        "# Dividir os dados em conjuntos de treinamento e teste\n",
        "X_train, X_test, y_train, y_test = train_test_split(X, y, test_size=0.2, random_state=42)\n",
        "\n",
        "# Treinar o modelo\n",
        "model.fit(X_train, y_train)\n",
        "\n",
        "# Fazer previsões no conjunto de teste\n",
        "y_pred = model.predict(X_test)\n",
        "y_pred_proba = model.predict_proba(X_test)[:, 1]\n",
        "\n",
        "# Calcular as métricas de avaliação\n",
        "accuracy = accuracy_score(y_test, y_pred)\n",
        "precision = precision_score(y_test, y_pred)\n",
        "recall = recall_score(y_test, y_pred)\n",
        "f1 = f1_score(y_test, y_pred)\n",
        "roc_auc = roc_auc_score(y_test, y_pred_proba)\n",
        "conf_matrix = confusion_matrix(y_test, y_pred)\n",
        "class_report = classification_report(y_test, y_pred)\n",
        "\n",
        "# Exibir os resultados\n",
        "print(f\"Accuracy: {accuracy}\")\n",
        "print(f\"Precision: {precision}\")\n",
        "print(f\"Recall: {recall}\")\n",
        "print(f\"F1 Score: {f1}\")\n",
        "print(f\"ROC AUC: {roc_auc}\")\n",
        "print(\"Confusion Matrix:\")\n",
        "print(conf_matrix)\n",
        "print(\"Classification Report:\")\n",
        "print(class_report)"
      ],
      "outputs": [
        {
          "output_type": "stream",
          "name": "stdout",
          "text": "   Survived  Pclass     Sex       Age  SibSp  Parch      Fare Embarked  \\\n0         0       3    male  0.271174      1      0  0.046056        S   \n1         1       3  female  0.321438      0      0  0.050344        S   \n2         1       1  female  0.434531      1      0  0.337321        S   \n3         0       3    male  0.434531      0      0  0.051138        S   \n4         0       3    male  0.346569      0      0  0.537318        Q   \n\n   Cabin_Known Title  Family_Size Age_Group  \n0            0    Mr            2     Child  \n1            0  Miss            1     Child  \n2            1   Mrs            2     Child  \n3            0    Mr            1     Child  \n4            0    Mr            1     Child  \nAccuracy: 0.8407643312101911\nPrecision: 0.803921568627451\nRecall: 0.7321428571428571\nF1 Score: 0.766355140186916\nROC AUC: 0.8642149929278642\nConfusion Matrix:\n[[91 10]\n [15 41]]\nClassification Report:\n              precision    recall  f1-score   support\n\n           0       0.86      0.90      0.88       101\n           1       0.80      0.73      0.77        56\n\n    accuracy                           0.84       157\n   macro avg       0.83      0.82      0.82       157\nweighted avg       0.84      0.84      0.84       157\n\n"
        }
      ],
      "execution_count": 85,
      "metadata": {
        "execution": {
          "iopub.status.busy": "2024-06-02T23:01:44.080426Z",
          "iopub.execute_input": "2024-06-02T23:01:44.080739Z",
          "iopub.status.idle": "2024-06-02T23:01:44.217286Z",
          "shell.execute_reply.started": "2024-06-02T23:01:44.080714Z",
          "shell.execute_reply": "2024-06-02T23:01:44.215633Z"
        },
        "trusted": true,
        "gather": {
          "logged": 1718633548258
        }
      }
    },
    {
      "cell_type": "markdown",
      "source": [
        "### Descrição dos Modelos e Avaliação dos Modelos Criados\n",
        "\n",
        "#### 1. Random Forest Classifier\n",
        "\n",
        "**Descrição do Modelo:**\n",
        "O Random Forest é um algoritmo de aprendizado de máquina supervisionado que usa um conjunto de árvores de decisão (floresta) para fazer previsões. Cada árvore é construída a partir de um subconjunto aleatório dos dados de treinamento e as previsões são combinadas (normalmente por votação majoritária) para melhorar a precisão e controlar o overfitting.\n",
        "\n",
        "**Avaliação do Modelo:**\n",
        "\n",
        "- **Accuracy:** 0.834 (83.4%)\n",
        "  - Proporção de previsões corretas no total de previsões. Indica que o modelo está corretamente classificando 83.4% dos exemplos de teste.\n",
        "\n",
        "- **Precision:** 0.841 (84.1%)\n",
        "  - Proporção de verdadeiros positivos no total de previsões positivas. Reflete que 84.1% das previsões positivas do modelo são corretas.\n",
        "\n",
        "- **Recall:** 0.661 (66.1%)\n",
        "  - Proporção de verdadeiros positivos no total de exemplos positivos reais. Indica que o modelo está identificando 66.1% dos exemplos positivos reais.\n",
        "\n",
        "- **F1 Score:** 0.740 (74.0%)\n",
        "  - Média harmônica da precisão e recall, proporcionando um equilíbrio entre ambos. Um valor de 74.0% sugere um bom equilíbrio entre precisão e recall.\n",
        "\n",
        "- **ROC AUC:** 0.826 (82.6%)\n",
        "  - Área sob a curva ROC, que avalia o desempenho do classificador em diferentes limiares de decisão. Um valor de 82.6% indica uma boa separação entre as classes positiva e negativa.\n",
        "\n",
        "- **Confusion Matrix:**\n",
        "\n",
        "```python\n",
        "  [[94 7]\n",
        "  [19 37]]\n",
        "```\n",
        "\n",
        "- Indica que o modelo fez 94 previsões verdadeiras negativas e 37 verdadeiras positivas, com 7 falsas positivas e 19 falsas negativas.\n",
        "\n",
        "- **Classification Report:**\n",
        "```python\n",
        "            precision    recall  f1-score   support\n",
        "\n",
        "       0       0.83      0.93      0.88       101\n",
        "       1       0.84      0.66      0.74        56\n",
        "\n",
        "  accuracy                           0.83       157\n",
        "\n",
        "  macro avg 0.84 0.80 0.81 157\n",
        "  weighted avg 0.84 0.83 0.83 157\n",
        "\n",
        "```\n",
        "\n",
        "- O relatório de classificação detalha a precisão, recall, F1-Score e suporte para cada classe. A classe 0 (negativa) possui uma melhor recall (93%) comparado com a classe 1 (positiva), que possui um recall de 66%.\n",
        "\n",
        "#### 2. Regressão Logística\n",
        "\n",
        "**Descrição do Modelo:**\n",
        "A regressão logística é um método de modelagem estatística que é utilizado para previsão de resultados binários. O modelo estima as probabilidades de um resultado binário (0 ou 1) baseado em uma função logística dos preditores.\n",
        "\n",
        "**Avaliação do Modelo:**\n",
        "\n",
        "- **Accuracy:** 0.841 (84.1%)\n",
        "- Proporção de previsões corretas no total de previsões. Indica que o modelo está corretamente classificando 84.1% dos exemplos de teste.\n",
        "\n",
        "- **Precision:** 0.804 (80.4%)\n",
        "- Proporção de verdadeiros positivos no total de previsões positivas. Reflete que 80.4% das previsões positivas do modelo são corretas.\n",
        "\n",
        "- **Recall:** 0.732 (73.2%)\n",
        "- Proporção de verdadeiros positivos no total de exemplos positivos reais. Indica que o modelo está identificando 73.2% dos exemplos positivos reais.\n",
        "\n",
        "- **F1 Score:** 0.766 (76.6%)\n",
        "- Média harmônica da precisão e recall, proporcionando um equilíbrio entre ambos. Um valor de 76.6% sugere um bom equilíbrio entre precisão e recall.\n",
        "\n",
        "- **ROC AUC:** 0.864 (86.4%)\n",
        "- Área sob a curva ROC, que avalia o desempenho do classificador em diferentes limiares de decisão. Um valor de 86.4% indica uma excelente separação entre as classes positiva e negativa.\n",
        "\n",
        "- **Confusion Matrix:**\n",
        "\n",
        "```python\n",
        "[[91 10]\n",
        " [15 41]]\n",
        "```\n",
        "\n",
        "- Indica que o modelo fez 91 previsões verdadeiras negativas e 41 verdadeiras positivas, com 10 falsas positivas e 15 falsas negativas.\n",
        "\n",
        "- **Classification Report:**\n",
        "\n",
        "```python\n",
        "\n",
        "            precision    recall  f1-score   support\n",
        "\n",
        "       0       0.86      0.90      0.88       101\n",
        "       1       0.80      0.73      0.77        56\n",
        "\n",
        "  accuracy                           0.84       157\n",
        "\n",
        "  macro avg 0.83 0.82 0.82 157\n",
        "  weighted avg 0.84 0.84 0.84 157\n",
        "```\n",
        "\n",
        "- O relatório de classificação detalha a precisão, recall, F1-Score e suporte para cada classe. A classe 0 (negativa) possui uma melhor recall (90%) comparado com a classe 1 (positiva), que possui um recall de 73%.\n",
        "\n",
        "### Comparação dos Modelos\n",
        "\n",
        "- **Precisão e Recall:**\n",
        "- A regressão logística tem uma precisão levemente menor que o Random Forest, mas possui um recall maior. Isso significa que a regressão logística é melhor em identificar exemplos positivos, enquanto o Random Forest tem uma proporção levemente maior de verdadeiros positivos entre as previsões positivas.\n",
        "\n",
        "- **F1 Score:**\n",
        "- A regressão logística tem um F1 Score maior, sugerindo um melhor equilíbrio entre precisão e recall.\n",
        "\n",
        "- **ROC AUC:**\n",
        "- A regressão logística apresenta um ROC AUC mais alto (86.4% vs 82.6%), indicando uma melhor performance geral na separação das classes.\n",
        "\n",
        "- **Confusion Matrix:**\n",
        "- Ambos os modelos apresentam boas performances na matriz de confusão, com a regressão logística tendo menos falsos negativos (15) comparado ao Random Forest (19), e um número comparável de falsos positivos.\n",
        "\n",
        "### Conclusão\n",
        "\n",
        "Ambos os modelos apresentam desempenhos fortes e comparáveis, com a regressão logística levemente à frente em termos de ROC AUC e F1 Score, sugerindo um melhor equilíbrio entre precisão e recall e uma melhor performance geral na separação das classes. O Random Forest também tem uma boa performance, especialmente em termos de precisão. A escolha entre os modelos pode depender de qual métrica de desempenho é mais crítica para o problema em questão e da interpretação dos resultados em um contexto específico.\n"
      ],
      "metadata": {}
    },
    {
      "cell_type": "markdown",
      "source": [
        "\n",
        "# Pipeline de pesquisa e análise de dados\n",
        "\n",
        "1. Especificação do Problema\n",
        "\n",
        "O problema é classificar se um passageiro do Titanic sobreviveu ou não com base em várias características (idade, sexo, classe, etc.).\n",
        "\n",
        "2. Etapas de Pré-processamento\n",
        "\n",
        "Carregar o Dataset: Leitura dos dados do Titanic.\n",
        "Divisão de Recursos e Alvo: Separação das variáveis independentes (features) e da variável dependente (target).\n",
        "Tratamento de Valores Faltantes: Uso de SimpleImputer para preencher valores faltantes.\n",
        "Escalonamento: Normalização dos dados numéricos utilizando StandardScaler.\n",
        "Codificação de Categorias: Transformação de variáveis categóricas usando OneHotEncoder.\n",
        "\n",
        "3. Treinamento\n",
        "\n",
        "Random Forest Classifier: Ajuste do modelo com hiperparâmetros especificados (critério de divisão, profundidade máxima, etc.).\n",
        "Regressão Logística: Ajuste do modelo com regularização e número máximo de iterações.\n",
        "\n",
        "4. Avaliação\n",
        "\n",
        "Divisão de Dados: Separação dos dados em conjuntos de treino e teste.\n",
        "Treinamento e Previsão: Ajuste dos modelos e previsão no conjunto de teste.\n",
        "Métricas de Desempenho: Cálculo de acurácia, precisão, recall, F1-Score, ROC AUC, matriz de confusão e relatório de classificação.\n",
        "\n",
        "* Código do Pipeline de Pesquisa e Análise de Dados\n",
        "\n"
      ],
      "metadata": {}
    },
    {
      "cell_type": "code",
      "source": [
        "import pandas as pd\n",
        "from sklearn.model_selection import train_test_split\n",
        "from sklearn.preprocessing import StandardScaler, OneHotEncoder\n",
        "from sklearn.impute import SimpleImputer\n",
        "from sklearn.compose import ColumnTransformer\n",
        "from sklearn.pipeline import Pipeline\n",
        "from sklearn.ensemble import RandomForestClassifier\n",
        "from sklearn.linear_model import LogisticRegression\n",
        "from sklearn.metrics import accuracy_score, precision_score, recall_score, f1_score, roc_auc_score, confusion_matrix, classification_report\n",
        "\n",
        "# Carregar o dataset\n",
        "data = pd.read_csv('/home/azureuser/cloudfiles/code/Users/573109/titanic_transformed.csv')\n",
        "\n",
        "# Separar os recursos e a variável alvo\n",
        "X = data.drop('Survived', axis=1)\n",
        "y = data['Survived']\n",
        "\n",
        "# Identificar colunas categóricas e numéricas\n",
        "categorical_cols = ['Pclass', 'Sex', 'Embarked']\n",
        "numerical_cols = ['Age', 'SibSp', 'Parch', 'Fare']\n",
        "\n",
        "# Criar transformers para colunas numéricas e categóricas\n",
        "numerical_transformer = Pipeline(steps=[\n",
        "    ('imputer', SimpleImputer(strategy='median')),\n",
        "    ('scaler', StandardScaler())\n",
        "])\n",
        "\n",
        "categorical_transformer = Pipeline(steps=[\n",
        "    ('imputer', SimpleImputer(strategy='most_frequent')),\n",
        "    ('onehot', OneHotEncoder(handle_unknown='ignore'))\n",
        "])\n",
        "\n",
        "# Criar o preprocessor utilizando ColumnTransformer\n",
        "preprocessor = ColumnTransformer(\n",
        "    transformers=[\n",
        "        ('num', numerical_transformer, numerical_cols),\n",
        "        ('cat', categorical_transformer, categorical_cols)\n",
        "    ])\n",
        "\n",
        "# Dividir os dados em conjuntos de treinamento e teste\n",
        "X_train, X_test, y_train, y_test = train_test_split(X, y, test_size=0.2, random_state=42)\n",
        "\n",
        "# Treinar e avaliar o modelo Random Forest\n",
        "clf_pipeline = Pipeline(steps=[\n",
        "    ('preprocessor', preprocessor),\n",
        "    ('classifier', RandomForestClassifier(criterion='gini', max_depth=8, min_samples_split=10, random_state=5))\n",
        "])\n",
        "clf_pipeline.fit(X_train, y_train)\n",
        "y_pred = clf_pipeline.predict(X_test)\n",
        "y_pred_proba = clf_pipeline.predict_proba(X_test)[:, 1]\n",
        "\n",
        "print(\"Random Forest Classifier\")\n",
        "print(\"Accuracy:\", accuracy_score(y_test, y_pred))\n",
        "print(\"Precision:\", precision_score(y_test, y_pred))\n",
        "print(\"Recall:\", recall_score(y_test, y_pred))\n",
        "print(\"F1 Score:\", f1_score(y_test, y_pred))\n",
        "print(\"ROC AUC:\", roc_auc_score(y_test, y_pred_proba))\n",
        "print(\"Confusion Matrix:\\n\", confusion_matrix(y_test, y_pred))\n",
        "print(\"Classification Report:\\n\", classification_report(y_test, y_pred))\n",
        "\n",
        "# Treinar e avaliar o modelo de Regressão Logística\n",
        "model_pipeline = Pipeline(steps=[\n",
        "    ('preprocessor', preprocessor),\n",
        "    ('classifier', LogisticRegression(max_iter=1000, random_state=42))\n",
        "])\n",
        "model_pipeline.fit(X_train, y_train)\n",
        "y_pred = model_pipeline.predict(X_test)\n",
        "y_pred_proba = model_pipeline.predict_proba(X_test)[:, 1]\n",
        "\n",
        "print(\"\\nLogistic Regression\")\n",
        "print(\"Accuracy:\", accuracy_score(y_test, y_pred))\n",
        "print(\"Precision:\", precision_score(y_test, y_pred))\n",
        "print(\"Recall:\", recall_score(y_test, y_pred))\n",
        "print(\"F1 Score:\", f1_score(y_test, y_pred))\n",
        "print(\"ROC AUC:\", roc_auc_score(y_test, y_pred_proba))\n",
        "print(\"Confusion Matrix:\\n\", confusion_matrix(y_test, y_pred))\n",
        "print(\"Classification Report:\\n\", classification_report(y_test, y_pred))\n"
      ],
      "outputs": [
        {
          "output_type": "stream",
          "name": "stdout",
          "text": "Random Forest Classifier\nAccuracy: 0.8343949044585988\nPrecision: 0.8409090909090909\nRecall: 0.6607142857142857\nF1 Score: 0.74\nROC AUC: 0.8257602545968883\nConfusion Matrix:\n [[94  7]\n [19 37]]\nClassification Report:\n               precision    recall  f1-score   support\n\n           0       0.83      0.93      0.88       101\n           1       0.84      0.66      0.74        56\n\n    accuracy                           0.83       157\n   macro avg       0.84      0.80      0.81       157\nweighted avg       0.84      0.83      0.83       157\n\n\nLogistic Regression\nAccuracy: 0.8343949044585988\nPrecision: 0.8260869565217391\nRecall: 0.6785714285714286\nF1 Score: 0.7450980392156864\nROC AUC: 0.8371640735502122\nConfusion Matrix:\n [[93  8]\n [18 38]]\nClassification Report:\n               precision    recall  f1-score   support\n\n           0       0.84      0.92      0.88       101\n           1       0.83      0.68      0.75        56\n\n    accuracy                           0.83       157\n   macro avg       0.83      0.80      0.81       157\nweighted avg       0.83      0.83      0.83       157\n\n"
        }
      ],
      "execution_count": 86,
      "metadata": {
        "execution": {
          "iopub.status.busy": "2024-06-02T23:04:04.973563Z",
          "iopub.execute_input": "2024-06-02T23:04:04.974045Z",
          "iopub.status.idle": "2024-06-02T23:04:05.403300Z",
          "shell.execute_reply.started": "2024-06-02T23:04:04.974006Z",
          "shell.execute_reply": "2024-06-02T23:04:05.402194Z"
        },
        "trusted": true,
        "gather": {
          "logged": 1718633548735
        }
      }
    },
    {
      "cell_type": "markdown",
      "source": [
        "Com essas avaliações e comparações, podemos concluir que, apesar de ambos os modelos apresentarem desempenho similar, o Random Forest Classifier pode ser preferível devido à sua vantagem em precisão e acurácia."
      ],
      "metadata": {}
    },
    {
      "cell_type": "markdown",
      "source": [
        "### Análise de Sensibilidade a Classes Desbalanceadas em Algoritmos de Classificação\n",
        "\n",
        "#### Contexto\n",
        "\n",
        "A análise de sensibilidade a classes desbalanceadas é crucial em problemas de classificação, pois muitos algoritmos de aprendizado de máquina assumem uma distribuição equilibrada entre as classes. Quando as classes estão desbalanceadas, os modelos tendem a ser enviesados para a classe majoritária, resultando em métricas de desempenho enganosas.\n",
        "\n",
        "#### Impacto do Desbalanceamento\n",
        "\n",
        "- **Random Forest:**\n",
        "  - **Recall da Classe Minoritária (1):** 0.661 (66.1%)\n",
        "  - **Precision da Classe Minoritária (1):** 0.841 (84.1%)\n",
        "\n",
        "  O Random Forest apresentou um recall relativamente baixo para a classe minoritária (1), indicando que o modelo está perdendo uma quantidade significativa de exemplos positivos reais. A precisão da classe minoritária é alta, sugerindo que, quando o modelo prevê um positivo, é geralmente correto.\n",
        "\n",
        "- **Regressão Logística:**\n",
        "  - **Recall da Classe Minoritária (1):** 0.732 (73.2%)\n",
        "  - **Precision da Classe Minoritária (1):** 0.804 (80.4%)\n",
        "\n",
        "  A regressão logística mostrou um melhor recall para a classe minoritária em comparação com o Random Forest, indicando que está identificando mais exemplos positivos reais. A precisão é levemente menor que a do Random Forest, mas ainda alta.\n",
        "\n",
        "#### Estratégias para Lidar com Desbalanceamento\n",
        "\n",
        "1. **Reamostragem:**\n",
        "   - **Oversampling:** Aumentar o número de exemplos da classe minoritária.\n",
        "   - **Undersampling:** Reduzir o número de exemplos da classe majoritária.\n",
        "\n",
        "2. **Ajuste de Peso das Classes:**\n",
        "   - Ajustar os pesos das classes para penalizar mais os erros na classe minoritária.\n",
        "\n",
        "3. **Uso de Algoritmos Sensíveis ao Desbalanceamento:**\n",
        "   - Algoritmos como SMOTE (Synthetic Minority Over-sampling Technique) e BalancedRandomForest podem ser utilizados para melhorar a performance em classes desbalanceadas.\n",
        "\n",
        "4. **Avaliação com Métricas Apropriadas:**\n",
        "   - Utilizar métricas como ROC AUC, F1 Score, precision-recall curves, que são mais informativas em cenários de desbalanceamento.\n",
        "\n",
        "### Análise de Erros\n",
        "\n",
        "Para entender melhor as falhas dos modelos, é importante realizar uma análise detalhada dos erros, observando onde e por que ocorrem falsos positivos e falsos negativos.\n",
        "\n",
        "- **Falsos Negativos (FN):**\n",
        "  - **Impacto:** Especialmente críticos em cenários onde a classe minoritária representa um evento importante, como detecção de fraudes ou diagnósticos médicos.\n",
        "  - **Análise:** Revisar os casos em que o modelo falhou em identificar a classe positiva. Verificar características comuns entre os exemplos classificados incorretamente.\n",
        "\n",
        "- **Falsos Positivos (FP):**\n",
        "  - **Impacto:** Podem ser menos críticos que falsos negativos, mas ainda significativos, causando alarmes falsos.\n",
        "  - **Análise:** Analisar os exemplos onde a classe majoritária foi incorretamente classificada como a minoritária. Verificar se há um padrão ou característica que está levando o modelo a esse erro.\n",
        "\n",
        "### Conclusão\n",
        "\n",
        "A análise mostrou que, em um contexto de classes desbalanceadas, ambos os modelos, Random Forest e Regressão Logística, apresentam diferenças em suas capacidades de lidar com a classe minoritária.\n",
        "\n",
        "- **Random Forest:** Demonstrou uma alta precisão, mas com recall relativamente baixo para a classe minoritária.\n",
        "- **Regressão Logística:** Apresentou um melhor recall, o que é crítico em cenários onde a identificação da classe minoritária é mais importante.\n",
        "\n",
        "### Recomendações\n",
        "\n",
        "1. **Escolha do Modelo:**\n",
        "   - Utilizar regressão logística quando a identificação da classe minoritária (recall) for mais crítica.\n",
        "   - Considerar Random Forest quando a precisão das previsões positivas for prioritária.\n",
        "\n",
        "2. **Tratamento do Desbalanceamento:**\n",
        "   - Implementar técnicas de reamostragem, ajuste de peso das classes ou algoritmos especializados para melhorar a performance em classes desbalanceadas.\n",
        "\n",
        "3. **Avaliação Contínua:**\n",
        "   - Monitorar continuamente as métricas de desempenho, especialmente recall e precision da classe minoritária, para garantir que o modelo esteja performando adequadamente.\n",
        "\n",
        "4. **Ajuste e Validação:**\n",
        "   - Ajustar hiperparâmetros dos modelos com técnicas de validação cruzada, especificamente focadas em métricas apropriadas para dados desbalanceados.\n",
        "\n",
        "5. **Análise de Erros:**\n",
        "   - Realizar uma análise detalhada dos falsos positivos e falsos negativos para identificar padrões ou características que possam estar levando aos erros.\n",
        "   - Utilizar insights da análise de erros para ajustar e melhorar os modelos.\n",
        "\n",
        "Adotando essas recomendações, é possível desenvolver modelos de classificação mais robustos e equitativos, mesmo em cenários de classes desbalanceadas.\n"
      ],
      "metadata": {}
    }
  ],
  "metadata": {
    "kaggle": {
      "accelerator": "none",
      "dataSources": [
        {
          "sourceId": 8375904,
          "sourceType": "datasetVersion",
          "datasetId": 4980211
        },
        {
          "sourceId": 8458659,
          "sourceType": "datasetVersion",
          "datasetId": 5041831
        }
      ],
      "dockerImageVersionId": 30698,
      "isInternetEnabled": false,
      "language": "python",
      "sourceType": "notebook",
      "isGpuEnabled": false
    },
    "kernelspec": {
      "name": "python310-sdkv2",
      "language": "python",
      "display_name": "Python 3.10 - SDK v2"
    },
    "language_info": {
      "name": "python",
      "version": "3.10.11",
      "mimetype": "text/x-python",
      "codemirror_mode": {
        "name": "ipython",
        "version": 3
      },
      "pygments_lexer": "ipython3",
      "nbconvert_exporter": "python",
      "file_extension": ".py"
    },
    "microsoft": {
      "ms_spell_check": {
        "ms_spell_check_language": "en"
      },
      "host": {
        "AzureML": {
          "notebookHasBeenCompleted": true
        }
      }
    },
    "kernel_info": {
      "name": "python310-sdkv2"
    },
    "nteract": {
      "version": "nteract-front-end@1.0.0"
    }
  },
  "nbformat": 4,
  "nbformat_minor": 4
}